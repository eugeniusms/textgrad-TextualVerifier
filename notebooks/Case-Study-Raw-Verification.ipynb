{
 "cells": [
  {
   "cell_type": "code",
   "execution_count": 1,
   "metadata": {},
   "outputs": [],
   "source": [
    "import textgrad as tg\n",
    "from textgrad.engine import get_engine\n",
    "from textgrad.variable import Variable\n",
    "from textgrad.optimizer import TextualGradientDescent\n",
    "from textgrad.verifier import TextualVerifier\n",
    "from textgrad.loss import TextLoss"
   ]
  },
  {
   "cell_type": "code",
   "execution_count": 2,
   "metadata": {},
   "outputs": [
    {
     "name": "stderr",
     "output_type": "stream",
     "text": [
      "/Users/eugeniusms/Development/SKRIPSI/sevet/env/lib/python3.11/site-packages/tqdm/auto.py:21: TqdmWarning: IProgress not found. Please update jupyter and ipywidgets. See https://ipywidgets.readthedocs.io/en/stable/user_install.html\n",
      "  from .autonotebook import tqdm as notebook_tqdm\n"
     ]
    }
   ],
   "source": [
    "engine = get_engine(\"gemini-1.5-pro\")\n",
    "tg.set_backward_engine(\"gemini-1.5-pro\", override=True)"
   ]
  },
  {
   "cell_type": "code",
   "execution_count": 3,
   "metadata": {},
   "outputs": [],
   "source": [
    "initial_solution = \"\"\"\n",
    "To solve the equation 3x^2 - 7x + 2 = 0, we use the quadratic formula:\n",
    "x = (-b ± √(b^2 - 4ac)) / 2a\n",
    "a = 3, b = -7, c = 2\n",
    "x = (7 ± √((-7)^2 + 4(3)(2))) / 6\n",
    "x = (7 ± √73) / 6\n",
    "The solutions are:\n",
    "x1 = (7 + √73)\n",
    "x2 = (7 - √73)\"\"\"\n",
    "\n",
    "question = Variable(\"Solve 3x^2-7x+2=0\",\n",
    "                    requires_grad=False,\n",
    "                    role_description=\"math question\")\n",
    "\n",
    "instruction = Variable(\"\"\"You will answering a math question. \n",
    "                        Please using step-by-step explanation. Be super concise.\"\"\",\n",
    "                        requires_grad=False,\n",
    "                        role_description=\"instruction\")\n",
    "\n",
    "# Calculation Using Steps\n",
    "calculation = Variable(initial_solution,\n",
    "                        requires_grad=True,\n",
    "                        role_description=\"solution to the math question\")\n"
   ]
  },
  {
   "cell_type": "code",
   "execution_count": 4,
   "metadata": {},
   "outputs": [
    {
     "name": "stdout",
     "output_type": "stream",
     "text": [
      "INFO:textgrad:TextualVerifier:verify Start verification ...\n",
      "INFO:textgrad:TextualVerifier:verify Generate calculation list ...\n",
      "INFO:textgrad:TextualVerifier:verify Calculation list is ready ...\n",
      "INFO:textgrad:TextualVerifier:verify Verify step 1/1 ...\n",
      "INFO:textgrad:TextualVerifier:generate_variants Generating step 1 variant 1/2 ...\n",
      "INFO:textgrad:TextualVerifier:generate_variants Generating step 1 variant 2/2 ...\n",
      "INFO:textgrad:TextualVerifier:majority_vote_variants Run majority voting for step 1...\n",
      "VERIFIED RESULT: <VERIFIED>```\n",
      "x = (-b ± √(b^2 - 4ac)) / 2a\n",
      "a = 3, b = -7, c = 2\n",
      "x = (7 ± √((-7)^2 - 4(3)(2))) / (2*3)\n",
      "x = (7 ± √(49 - 24)) / 6\n",
      "x = (7 ± √25) / 6\n",
      "x = (7 ± 5) / 6\n",
      "x1 = (7 + 5) / 6 = 2\n",
      "x2 = (7 - 5) / 6 = 1/3\n",
      "The solutions are x = 2 and x = 1/3\n",
      "```\n",
      "</VERIFIED>\n"
     ]
    }
   ],
   "source": [
    "\n",
    "verification_task_prompts = [\n",
    "    \"Verify any miss on calculation, if any misses please revise calculation based on misses.\",\n",
    "    \"Imagine you're a senior mathematician, suggest revised calculation.\"\n",
    "]\n",
    "\n",
    "verifier = TextualVerifier(\n",
    "    verifier_engine=engine, \n",
    "    use_cot_generation=False,\n",
    "    use_step_breakdown=False,\n",
    "    verification_task_prompts=verification_task_prompts,\n",
    "    enable_logging=True\n",
    ")\n",
    "\n",
    "verified_result = verifier.verify(instance=question,\n",
    "                                  instruction=instruction,\n",
    "                                  calculation=calculation)\n",
    "\n",
    "print(\"VERIFIED RESULT:\", verified_result.value)"
   ]
  }
 ],
 "metadata": {
  "kernelspec": {
   "display_name": "Python 3.11.6 ('env': venv)",
   "language": "python",
   "name": "python3"
  },
  "language_info": {
   "codemirror_mode": {
    "name": "ipython",
    "version": 3
   },
   "file_extension": ".py",
   "mimetype": "text/x-python",
   "name": "python",
   "nbconvert_exporter": "python",
   "pygments_lexer": "ipython3",
   "version": "3.11.6"
  },
  "orig_nbformat": 4,
  "vscode": {
   "interpreter": {
    "hash": "860e0dc2175a55dd9a80ac360791d93c13f4935a3c9aca3a9a76262c7d69eace"
   }
  }
 },
 "nbformat": 4,
 "nbformat_minor": 2
}
