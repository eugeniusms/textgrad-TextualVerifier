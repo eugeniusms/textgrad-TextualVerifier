{
 "cells": [
  {
   "cell_type": "code",
   "execution_count": 1,
   "metadata": {},
   "outputs": [],
   "source": [
    "import textgrad as tg\n",
    "from textgrad.engine import get_engine\n",
    "from textgrad.variable import Variable\n",
    "from textgrad.optimizer import TextualGradientDescent\n",
    "from textgrad.verifier import TextualVerifierWithTracker\n",
    "from textgrad.loss import TextLoss"
   ]
  },
  {
   "cell_type": "code",
   "execution_count": 2,
   "metadata": {},
   "outputs": [
    {
     "name": "stderr",
     "output_type": "stream",
     "text": [
      "/Users/eugeniusms/Development/SKRIPSI/sevet/env/lib/python3.11/site-packages/tqdm/auto.py:21: TqdmWarning: IProgress not found. Please update jupyter and ipywidgets. See https://ipywidgets.readthedocs.io/en/stable/user_install.html\n",
      "  from .autonotebook import tqdm as notebook_tqdm\n"
     ]
    }
   ],
   "source": [
    "engine = get_engine(\"gemini-1.5-pro\")\n",
    "tg.set_backward_engine(\"gemini-1.5-pro\", override=True)"
   ]
  },
  {
   "cell_type": "code",
   "execution_count": 3,
   "metadata": {},
   "outputs": [],
   "source": [
    "initial_solution = \"\"\"\n",
    "To solve the equation 3x^2 - 7x + 2 = 0, we use the quadratic formula:\n",
    "x = (-b ± √(b^2 - 4ac)) / 2a\n",
    "a = 3, b = -7, c = 2\n",
    "x = (7 ± √((-7)^2 + 4(3)(2))) / 6\n",
    "x = (7 ± √73) / 6\n",
    "The solutions are:\n",
    "x1 = (7 + √73)\n",
    "x2 = (7 - √73)\"\"\"\n",
    "\n",
    "question = Variable(\"Solve 3x^2-7x+2=0\",\n",
    "                    requires_grad=False,\n",
    "                    role_description=\"math question\")\n",
    "\n",
    "instruction = Variable(\"\"\"You will answering a math question. \n",
    "                        Please using step-by-step explanation. Be super concise.\"\"\",\n",
    "                        requires_grad=False,\n",
    "                        role_description=\"instruction\")\n",
    "\n",
    "# Calculation Using Steps\n",
    "calculation = Variable(initial_solution,\n",
    "                        requires_grad=True,\n",
    "                        role_description=\"solution to the math question\")\n"
   ]
  },
  {
   "cell_type": "code",
   "execution_count": 4,
   "metadata": {},
   "outputs": [
    {
     "name": "stdout",
     "output_type": "stream",
     "text": [
      "INFO:textgrad:TextualVerifier: Start verification process...\n",
      "INFO:textgrad:TextualVerifier: Ready to verify 1 calculation steps...\n",
      "INFO:textgrad:TextualVerifier: Verifying step 1/1...\n",
      "INFO:textgrad:TextualVerifier: Generating step 1 variant 1/2...\n",
      "INFO:textgrad:TextualVerifier: Generating step 1 variant 2/2...\n",
      "INFO:textgrad:TextualVerifier: Running majority voting for step 1...\n",
      "VERIFIED RESULT: <VERIFIED>```\n",
      "x = (-b ± √(b^2 - 4ac)) / 2a\n",
      "a = 3, b = -7, c = 2\n",
      "x = (7 ± √((-7)^2 - 4(3)(2))) / (2*3)\n",
      "x = (7 ± √(49 - 24)) / 6\n",
      "x = (7 ± √25) / 6\n",
      "x = (7 ± 5) / 6\n",
      "x1 = (7 + 5) / 6 = 2\n",
      "x2 = (7 - 5) / 6 = 1/3\n",
      "The solutions are x = 2 and x = 1/3\n",
      "```\n",
      "</VERIFIED>\n"
     ]
    }
   ],
   "source": [
    "\n",
    "verification_task_prompts = [\n",
    "    \"Verify any miss on calculation, if any misses please revise calculation based on misses.\",\n",
    "    \"Imagine you're a senior mathematician, suggest revised calculation.\"\n",
    "]\n",
    "\n",
    "verifier = TextualVerifierWithTracker(\n",
    "    verifier_engine=engine, \n",
    "    use_cot_generation=False,\n",
    "    use_step_breakdown=False,\n",
    "    verification_task_prompts=verification_task_prompts,\n",
    "    enable_logging=True\n",
    ")\n",
    "\n",
    "verified_result = verifier.verify(instance=question,\n",
    "                                  instruction=instruction,\n",
    "                                  calculation=calculation)\n",
    "\n",
    "print(\"VERIFIED RESULT:\", verified_result.value)"
   ]
  },
  {
   "cell_type": "code",
   "execution_count": 5,
   "metadata": {},
   "outputs": [],
   "source": [
    "import json\n",
    "\n",
    "tracker_data = verifier.get_tracker()\n",
    "\n",
    "with open('tracker_results/raw_verification.json', 'w') as f:\n",
    "    json.dump(tracker_data, f, indent=4, default=str)\n"
   ]
  },
  {
   "cell_type": "code",
   "execution_count": 6,
   "metadata": {},
   "outputs": [
    {
     "data": {
      "text/plain": [
       "{'setup': {'verifier_engine': <textgrad.engine.gemini.ChatGemini at 0x1270c0450>,\n",
       "  'use_cot_generation': False,\n",
       "  'use_step_breakdown': False,\n",
       "  'verification_task_prompts': ['Verify any miss on calculation, if any misses please revise calculation based on misses.',\n",
       "   \"Imagine you're a senior mathematician, suggest revised calculation.\"],\n",
       "  'enable_logging': True},\n",
       " 'variable': {'instance': Variable(value=Solve 3x^2-7x+2=0, role=math question, grads=set()),\n",
       "  'instruction': Variable(value=You will answering a math question. \n",
       "                          Please using step-by-step explanation. Be super concise., role=instruction, grads=set()),\n",
       "  'calculation': Variable(value=\n",
       "  To solve the equation 3x^2 - 7x + 2 = 0, we use the quadratic formula:\n",
       "  x = (-b ± √(b^2 - 4ac)) / 2a\n",
       "  a = 3, b = -7, c = 2\n",
       "  x = (7 ± √((-7)^2 + 4(3)(2))) / 6\n",
       "  x = (7 ± √73) / 6\n",
       "  The solutions are:\n",
       "  x1 = (7 + √73)\n",
       "  x2 = (7 - √73), role=solution to the math question, grads=set())},\n",
       " 'cot_prompt': '',\n",
       " 'processed_calculation': '\\nTo solve the equation 3x^2 - 7x + 2 = 0, we use the quadratic formula:\\nx = (-b ± √(b^2 - 4ac)) / 2a\\na = 3, b = -7, c = 2\\nx = (7 ± √((-7)^2 + 4(3)(2))) / 6\\nx = (7 ± √73) / 6\\nThe solutions are:\\nx1 = (7 + √73)\\nx2 = (7 - √73)',\n",
       " 'verification_steps': ['\\nTo solve the equation 3x^2 - 7x + 2 = 0, we use the quadratic formula:\\nx = (-b ± √(b^2 - 4ac)) / 2a\\na = 3, b = -7, c = 2\\nx = (7 ± √((-7)^2 + 4(3)(2))) / 6\\nx = (7 ± √73) / 6\\nThe solutions are:\\nx1 = (7 + √73)\\nx2 = (7 - √73)'],\n",
       " 'verification': [{'step_no': 1,\n",
       "   'context': '',\n",
       "   'variants': [{'variant_no': 1,\n",
       "     'llm_input_or_variant_prompt': '\"\\nYou are verifying whether the calculation correctly follows from applying the instruction to the instance.\\n\\nInstance: \\nSolve 3x^2-7x+2=0\\n\\nInstruction: \\nYou will answering a math question. \\n                        Please using step-by-step explanation. Be super concise.\\n\\n\\n\\nCalculation:\\n\\nTo solve the equation 3x^2 - 7x + 2 = 0, we use the quadratic formula:\\nx = (-b ± √(b^2 - 4ac)) / 2a\\na = 3, b = -7, c = 2\\nx = (7 ± √((-7)^2 + 4(3)(2))) / 6\\nx = (7 ± √73) / 6\\nThe solutions are:\\nx1 = (7 + √73)\\nx2 = (7 - √73)\\n\\nVerification Tasks:\\nVerify any miss on calculation, if any misses please revise calculation based on misses.\\n\\nProvide ONLY the improved calculation, no additional text or formatting.\\n',\n",
       "     'llm_output_or_variant': 'x = (-b ± √(b^2 - 4ac)) / 2a\\na = 3, b = -7, c = 2\\nx = (7 ± √((-7)^2 - 4(3)(2))) / (2*3)\\nx = (7 ± √(49 - 24)) / 6\\nx = (7 ± √25) / 6\\nx = (7 ± 5) / 6\\nx1 = (7 + 5) / 6 = 2\\nx2 = (7 - 5) / 6 = 1/3\\nThe solutions are x = 2 and x = 1/3\\n'},\n",
       "    {'variant_no': 2,\n",
       "     'llm_input_or_variant_prompt': '\"\\nYou are verifying whether the calculation correctly follows from applying the instruction to the instance.\\n\\nInstance: \\nSolve 3x^2-7x+2=0\\n\\nInstruction: \\nYou will answering a math question. \\n                        Please using step-by-step explanation. Be super concise.\\n\\n\\n\\nCalculation:\\n\\nTo solve the equation 3x^2 - 7x + 2 = 0, we use the quadratic formula:\\nx = (-b ± √(b^2 - 4ac)) / 2a\\na = 3, b = -7, c = 2\\nx = (7 ± √((-7)^2 + 4(3)(2))) / 6\\nx = (7 ± √73) / 6\\nThe solutions are:\\nx1 = (7 + √73)\\nx2 = (7 - √73)\\n\\nVerification Tasks:\\nImagine you\\'re a senior mathematician, suggest revised calculation.\\n\\nProvide ONLY the improved calculation, no additional text or formatting.\\n',\n",
       "     'llm_output_or_variant': 'To solve the equation 3x² - 7x + 2 = 0, we use the quadratic formula:\\n\\nx = (-b ± √(b² - 4ac)) / 2a\\n\\nHere, a = 3, b = -7, and c = 2.\\n\\nx = (7 ± √((-7)² - 4 * 3 * 2)) / (2 * 3)\\n\\nx = (7 ± √(49 - 24)) / 6\\n\\nx = (7 ± √25) / 6\\n\\nx = (7 ± 5) / 6\\n\\nx₁ = (7 + 5) / 6 = 12/6 = 2\\n\\nx₂ = (7 - 5) / 6 = 2/6 = 1/3\\n\\nThe solutions are x = 2 and x = 1/3.\\n'}],\n",
       "   'best_variant': {'llm_input_or_voting_prompt': '\\nOriginal calculation: \\n\\nTo solve the equation 3x^2 - 7x + 2 = 0, we use the quadratic formula:\\nx = (-b ± √(b^2 - 4ac)) / 2a\\na = 3, b = -7, c = 2\\nx = (7 ± √((-7)^2 + 4(3)(2))) / 6\\nx = (7 ± √73) / 6\\nThe solutions are:\\nx1 = (7 + √73)\\nx2 = (7 - √73)\\n\\nGenerated variants:\\nVariant 1: ```x = (-b ± √(b^2 - 4ac)) / 2a\\na = 3, b = -7, c = 2\\nx = (7 ± √((-7)^2 - 4(3)(2))) / (2*3)\\nx = (7 ± √(49 - 24)) / 6\\nx = (7 ± √25) / 6\\nx = (7 ± 5) / 6\\nx1 = (7 + 5) / 6 = 2\\nx2 = (7 - 5) / 6 = 1/3\\nThe solutions are x = 2 and x = 1/3\\n```\\nVariant 2: ```To solve the equation 3x² - 7x + 2 = 0, we use the quadratic formula:\\n\\nx = (-b ± √(b² - 4ac)) / 2a\\n\\nHere, a = 3, b = -7, and c = 2.\\n\\nx = (7 ± √((-7)² - 4 * 3 * 2)) / (2 * 3)\\n\\nx = (7 ± √(49 - 24)) / 6\\n\\nx = (7 ± √25) / 6\\n\\nx = (7 ± 5) / 6\\n\\nx₁ = (7 + 5) / 6 = 12/6 = 2\\n\\nx₂ = (7 - 5) / 6 = 2/6 = 1/3\\n\\nThe solutions are x = 2 and x = 1/3.\\n```\\n\\nUSE Majority Voting to choose ONLY 1 from generated variants.\\nProvide ONLY the replaced calculation by selected variant, no additional text or formatting.\\n',\n",
       "    'llm_output_or_best_variant': '```\\nx = (-b ± √(b^2 - 4ac)) / 2a\\na = 3, b = -7, c = 2\\nx = (7 ± √((-7)^2 - 4(3)(2))) / (2*3)\\nx = (7 ± √(49 - 24)) / 6\\nx = (7 ± √25) / 6\\nx = (7 ± 5) / 6\\nx1 = (7 + 5) / 6 = 2\\nx2 = (7 - 5) / 6 = 1/3\\nThe solutions are x = 2 and x = 1/3\\n```\\n'}}],\n",
       " 'result': '<VERIFIED>```\\nx = (-b ± √(b^2 - 4ac)) / 2a\\na = 3, b = -7, c = 2\\nx = (7 ± √((-7)^2 - 4(3)(2))) / (2*3)\\nx = (7 ± √(49 - 24)) / 6\\nx = (7 ± √25) / 6\\nx = (7 ± 5) / 6\\nx1 = (7 + 5) / 6 = 2\\nx2 = (7 - 5) / 6 = 1/3\\nThe solutions are x = 2 and x = 1/3\\n```\\n</VERIFIED>',\n",
       " 'processing_time_ms': 1.230224609375,\n",
       " 'total_llm_calls': 3,\n",
       " 'total_input_tokens': 520,\n",
       " 'total_output_tokens': 264}"
      ]
     },
     "execution_count": 6,
     "metadata": {},
     "output_type": "execute_result"
    }
   ],
   "source": [
    "tracker_data"
   ]
  }
 ],
 "metadata": {
  "kernelspec": {
   "display_name": "Python 3.11.6 ('env': venv)",
   "language": "python",
   "name": "python3"
  },
  "language_info": {
   "codemirror_mode": {
    "name": "ipython",
    "version": 3
   },
   "file_extension": ".py",
   "mimetype": "text/x-python",
   "name": "python",
   "nbconvert_exporter": "python",
   "pygments_lexer": "ipython3",
   "version": "3.11.6"
  },
  "orig_nbformat": 4,
  "vscode": {
   "interpreter": {
    "hash": "860e0dc2175a55dd9a80ac360791d93c13f4935a3c9aca3a9a76262c7d69eace"
   }
  }
 },
 "nbformat": 4,
 "nbformat_minor": 2
}
