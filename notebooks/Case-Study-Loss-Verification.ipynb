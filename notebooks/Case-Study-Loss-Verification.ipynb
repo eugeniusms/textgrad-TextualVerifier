{
 "cells": [
  {
   "cell_type": "code",
   "execution_count": 1,
   "metadata": {},
   "outputs": [],
   "source": [
    "import textgrad as tg\n",
    "from textgrad.engine import get_engine\n",
    "from textgrad.variable import Variable\n",
    "from textgrad.optimizer import TextualGradientDescent\n",
    "from textgrad.verifier import TextualVerifierWithTracker\n",
    "from textgrad.loss import TextLoss"
   ]
  },
  {
   "cell_type": "code",
   "execution_count": 2,
   "metadata": {},
   "outputs": [
    {
     "name": "stderr",
     "output_type": "stream",
     "text": [
      "/Users/eugeniusms/Development/SKRIPSI/sevet/env/lib/python3.11/site-packages/tqdm/auto.py:21: TqdmWarning: IProgress not found. Please update jupyter and ipywidgets. See https://ipywidgets.readthedocs.io/en/stable/user_install.html\n",
      "  from .autonotebook import tqdm as notebook_tqdm\n"
     ]
    }
   ],
   "source": [
    "engine = get_engine(\"gemini-1.5-pro\")\n",
    "tg.set_backward_engine(\"gemini-1.5-pro\", override=True)"
   ]
  },
  {
   "cell_type": "code",
   "execution_count": 3,
   "metadata": {},
   "outputs": [],
   "source": [
    "initial_solution = \"\"\"To solve the equation 3x^2 - 7x + 2 = 0, we use the quadratic formula:\n",
    "x = (-b ± √(b^2 - 4ac)) / 2a\n",
    "a = 3, b = -7, c = 2\n",
    "x = (7 ± √((-7)^2 + 4(3)(2))) / 6\n",
    "x = (7 ± √73) / 6\n",
    "The solutions are:\n",
    "x1 = (7 + √73)\n",
    "x2 = (7 - √73)\"\"\"\n",
    "\n",
    "solution = Variable(initial_solution,\n",
    "                       requires_grad=True,\n",
    "                       role_description=\"solution to the math question\")\n",
    "\n",
    "loss_system_prompt = Variable(\"\"\"You will evaluate a solution to a math question. \n",
    "Do not attempt to solve it yourself, do not give a solution, only identify errors. Be super concise.\"\"\",\n",
    "                              requires_grad=False,\n",
    "                              role_description=\"system prompt\")\n"
   ]
  },
  {
   "cell_type": "code",
   "execution_count": 4,
   "metadata": {},
   "outputs": [
    {
     "name": "stdout",
     "output_type": "stream",
     "text": [
      "INITIAL LOSS: The calculation of  b² - 4ac was incorrect: it should be (-7)² - 4 * 3 * 2 = 49 - 24 = 25, not 49 + 24 = 73.  Also, the division by 6 is missing in the final answers for x1 and x2.\n",
      "\n"
     ]
    }
   ],
   "source": [
    "loss = TextLoss(loss_system_prompt, engine=engine)\n",
    "loss_value = loss(solution) # Forward method in Loss Function\n",
    "\n",
    "print(\"INITIAL LOSS:\", loss_value)"
   ]
  },
  {
   "cell_type": "code",
   "execution_count": 5,
   "metadata": {},
   "outputs": [
    {
     "name": "stdout",
     "output_type": "stream",
     "text": [
      "INFO:textgrad:TextualVerifier: Start verification process...\n",
      "INFO:textgrad:TextualVerifier: Ready to verify 1 calculation steps...\n",
      "INFO:textgrad:TextualVerifier: Verifying step 1/1...\n",
      "INFO:textgrad:TextualVerifier: Generating step 1 variant 1/1...\n",
      "INFO:textgrad:TextualVerifier: Running majority voting for step 1...\n",
      "VERIFIED RESULT: <VERIFIED>The calculation correctly identifies both errors in the provided solution.  The discriminant is calculated incorrectly (it should be 25, not 73) and the division by 6 is missing from the final answers.\n",
      "</VERIFIED>\n"
     ]
    }
   ],
   "source": [
    "verification_task_prompts = [\n",
    "    \"\"\"\n",
    "    1. When using $instruction to $instance, I got the loss $calculation.\n",
    "    2. Evaluate the loss $calculation value correctly reflects the performance of the instance.\n",
    "    3. If the loss $calculation is incorrect or inconsistent, provide the corrected version of the loss $calculation. \n",
    "    4. Do NOT calculate the solution/instance, evaluate $calculation ONLY.\n",
    "    \"\"\"\n",
    "]\n",
    "\n",
    "verifier = TextualVerifierWithTracker(\n",
    "    verifier_engine=engine, \n",
    "    use_cot_generation=False,\n",
    "    use_step_breakdown=False,\n",
    "    verification_task_prompts=verification_task_prompts,\n",
    "    enable_logging=True\n",
    ")\n",
    "\n",
    "verified_result = verifier.verify(instance=solution,\n",
    "                                  instruction=loss_system_prompt,\n",
    "                                  calculation=loss_value)\n",
    "\n",
    "print(\"VERIFIED RESULT:\", verified_result.value)"
   ]
  },
  {
   "cell_type": "code",
   "execution_count": 6,
   "metadata": {},
   "outputs": [],
   "source": [
    "import json\n",
    "\n",
    "tracker_data = verifier.get_tracker()\n",
    "\n",
    "with open('tracker_results/loss_verification.json', 'w') as f:\n",
    "    json.dump(tracker_data, f, indent=4, default=str)"
   ]
  },
  {
   "cell_type": "code",
   "execution_count": 7,
   "metadata": {},
   "outputs": [
    {
     "data": {
      "text/plain": [
       "{'setup': {'verifier_engine': <textgrad.engine.gemini.ChatGemini at 0x10e619b10>,\n",
       "  'use_cot_generation': False,\n",
       "  'use_step_breakdown': False,\n",
       "  'verification_task_prompts': ['\\n    1. When using $instruction to $instance, I got the loss $calculation.\\n    2. Evaluate the loss $calculation value correctly reflects the performance of the instance.\\n    3. If the loss $calculation is incorrect or inconsistent, provide the corrected version of the loss $calculation. \\n    4. Do NOT calculate the solution/instance, evaluate $calculation ONLY.\\n    '],\n",
       "  'enable_logging': True},\n",
       " 'variable': {'instance': Variable(value=To solve the equation 3x^2 - 7x + 2 = 0, we use the quadratic formula:\n",
       "  x = (-b ± √(b^2 - 4ac)) / 2a\n",
       "  a = 3, b = -7, c = 2\n",
       "  x = (7 ± √((-7)^2 + 4(3)(2))) / 6\n",
       "  x = (7 ± √73) / 6\n",
       "  The solutions are:\n",
       "  x1 = (7 + √73)\n",
       "  x2 = (7 - √73), role=solution to the math question, grads=set()),\n",
       "  'instruction': Variable(value=You will evaluate a solution to a math question. \n",
       "  Do not attempt to solve it yourself, do not give a solution, only identify errors. Be super concise., role=system prompt, grads=set()),\n",
       "  'calculation': Variable(value=The calculation of  b² - 4ac was incorrect: it should be (-7)² - 4 * 3 * 2 = 49 - 24 = 25, not 49 + 24 = 73.  Also, the division by 6 is missing in the final answers for x1 and x2.\n",
       "  , role=response from the language model, grads=set())},\n",
       " 'cot_prompt': '',\n",
       " 'processed_calculation': 'The calculation of  b² - 4ac was incorrect: it should be (-7)² - 4 * 3 * 2 = 49 - 24 = 25, not 49 + 24 = 73.  Also, the division by 6 is missing in the final answers for x1 and x2.\\n',\n",
       " 'verification_steps': ['The calculation of  b² - 4ac was incorrect: it should be (-7)² - 4 * 3 * 2 = 49 - 24 = 25, not 49 + 24 = 73.  Also, the division by 6 is missing in the final answers for x1 and x2.\\n'],\n",
       " 'verification': [{'step_no': 1,\n",
       "   'variants': [{'variant_no': 1,\n",
       "     'instance': 'To solve the equation 3x^2 - 7x + 2 = 0, we use the quadratic formula:\\nx = (-b ± √(b^2 - 4ac)) / 2a\\na = 3, b = -7, c = 2\\nx = (7 ± √((-7)^2 + 4(3)(2))) / 6\\nx = (7 ± √73) / 6\\nThe solutions are:\\nx1 = (7 + √73)\\nx2 = (7 - √73)',\n",
       "     'instruction': 'You will evaluate a solution to a math question. \\nDo not attempt to solve it yourself, do not give a solution, only identify errors. Be super concise.',\n",
       "     'previous_context': '',\n",
       "     'calculation': 'The calculation of  b² - 4ac was incorrect: it should be (-7)² - 4 * 3 * 2 = 49 - 24 = 25, not 49 + 24 = 73.  Also, the division by 6 is missing in the final answers for x1 and x2.\\n',\n",
       "     'verification_task_prompt': '\\n    1. When using $instruction to $instance, I got the loss $calculation.\\n    2. Evaluate the loss $calculation value correctly reflects the performance of the instance.\\n    3. If the loss $calculation is incorrect or inconsistent, provide the corrected version of the loss $calculation. \\n    4. Do NOT calculate the solution/instance, evaluate $calculation ONLY.\\n    ',\n",
       "     'llm_input_or_variant_prompt': '\"\\nYou are verifying whether the calculation correctly follows from applying the instruction to the instance.\\n\\nInstance: \\nTo solve the equation 3x^2 - 7x + 2 = 0, we use the quadratic formula:\\nx = (-b ± √(b^2 - 4ac)) / 2a\\na = 3, b = -7, c = 2\\nx = (7 ± √((-7)^2 + 4(3)(2))) / 6\\nx = (7 ± √73) / 6\\nThe solutions are:\\nx1 = (7 + √73)\\nx2 = (7 - √73)\\n\\nInstruction: \\nYou will evaluate a solution to a math question. \\nDo not attempt to solve it yourself, do not give a solution, only identify errors. Be super concise.\\n\\n\\n\\nCalculation:\\nThe calculation of  b² - 4ac was incorrect: it should be (-7)² - 4 * 3 * 2 = 49 - 24 = 25, not 49 + 24 = 73.  Also, the division by 6 is missing in the final answers for x1 and x2.\\n\\n\\nVerification Tasks:\\n\\n    1. When using $instruction to $instance, I got the loss $calculation.\\n    2. Evaluate the loss $calculation value correctly reflects the performance of the instance.\\n    3. If the loss $calculation is incorrect or inconsistent, provide the corrected version of the loss $calculation. \\n    4. Do NOT calculate the solution/instance, evaluate $calculation ONLY.\\n    \\n\\nProvide ONLY the improved calculation, no additional text or formatting.\\n',\n",
       "     'llm_output_or_variant': 'The calculation correctly identifies both errors in the provided solution.  The discriminant is calculated incorrectly (it should be 25, not 73) and the division by 6 is missing from the final answers.\\n'}],\n",
       "   'best_variant': {'calculation': 'The calculation of  b² - 4ac was incorrect: it should be (-7)² - 4 * 3 * 2 = 49 - 24 = 25, not 49 + 24 = 73.  Also, the division by 6 is missing in the final answers for x1 and x2.\\n',\n",
       "    'generated_variants': ['The calculation correctly identifies both errors in the provided solution.  The discriminant is calculated incorrectly (it should be 25, not 73) and the division by 6 is missing from the final answers.\\n'],\n",
       "    'llm_input_or_voting_prompt': '\\nOriginal calculation: \\nThe calculation of  b² - 4ac was incorrect: it should be (-7)² - 4 * 3 * 2 = 49 - 24 = 25, not 49 + 24 = 73.  Also, the division by 6 is missing in the final answers for x1 and x2.\\n\\n\\nGenerated variants:\\nVariant 1: ```The calculation correctly identifies both errors in the provided solution.  The discriminant is calculated incorrectly (it should be 25, not 73) and the division by 6 is missing from the final answers.\\n```\\n\\nUse majority voting to identify the variant that appears most frequently.\\nSelect that single variant as the replacement for the original calculation.\\nProvide ONLY the selected variant, with no additional text or formatting.\\n',\n",
       "    'llm_output_or_best_variant': 'The calculation correctly identifies both errors in the provided solution.  The discriminant is calculated incorrectly (it should be 25, not 73) and the division by 6 is missing from the final answers.\\n'}}],\n",
       " 'result': '<VERIFIED>The calculation correctly identifies both errors in the provided solution.  The discriminant is calculated incorrectly (it should be 25, not 73) and the division by 6 is missing from the final answers.\\n</VERIFIED>',\n",
       " 'processing_time_ms': 5079.492919921875,\n",
       " 'total_llm_calls': 2,\n",
       " 'total_input_tokens': 333,\n",
       " 'total_output_tokens': 64}"
      ]
     },
     "execution_count": 7,
     "metadata": {},
     "output_type": "execute_result"
    }
   ],
   "source": [
    "tracker_data"
   ]
  }
 ],
 "metadata": {
  "kernelspec": {
   "display_name": "Python 3.11.6 ('env': venv)",
   "language": "python",
   "name": "python3"
  },
  "language_info": {
   "codemirror_mode": {
    "name": "ipython",
    "version": 3
   },
   "file_extension": ".py",
   "mimetype": "text/x-python",
   "name": "python",
   "nbconvert_exporter": "python",
   "pygments_lexer": "ipython3",
   "version": "3.11.6"
  },
  "orig_nbformat": 4,
  "vscode": {
   "interpreter": {
    "hash": "860e0dc2175a55dd9a80ac360791d93c13f4935a3c9aca3a9a76262c7d69eace"
   }
  }
 },
 "nbformat": 4,
 "nbformat_minor": 2
}
