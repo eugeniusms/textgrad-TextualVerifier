{
 "cells": [
  {
   "cell_type": "code",
   "execution_count": 1,
   "metadata": {},
   "outputs": [],
   "source": [
    "import textgrad as tg\n",
    "from textgrad.engine import get_engine\n",
    "from textgrad.variable import Variable\n",
    "from textgrad.optimizer import TextualGradientDescent\n",
    "from textgrad.verifier import TextualVerifierV4\n",
    "from textgrad.loss import TextLoss"
   ]
  },
  {
   "cell_type": "markdown",
   "metadata": {},
   "source": [
    "### Setup LLM Engine"
   ]
  },
  {
   "cell_type": "code",
   "execution_count": 2,
   "metadata": {},
   "outputs": [
    {
     "name": "stderr",
     "output_type": "stream",
     "text": [
      "/Users/eugeniusms/Development/SKRIPSI/sevet/env/lib/python3.11/site-packages/tqdm/auto.py:21: TqdmWarning: IProgress not found. Please update jupyter and ipywidgets. See https://ipywidgets.readthedocs.io/en/stable/user_install.html\n",
      "  from .autonotebook import tqdm as notebook_tqdm\n"
     ]
    }
   ],
   "source": [
    "engine = get_engine(\"gemini-1.5-pro\")\n",
    "tg.set_backward_engine(\"gemini-1.5-pro\")"
   ]
  },
  {
   "cell_type": "markdown",
   "metadata": {},
   "source": [
    "### Setup Solution to Optimize"
   ]
  },
  {
   "cell_type": "code",
   "execution_count": 3,
   "metadata": {},
   "outputs": [],
   "source": [
    "initial_solution = \"\"\"To solve the equation 3x^2 - 7x + 2 = 0, we use the quadratic formula:\n",
    "x = (-b ± √(b^2 - 4ac)) / 2a\n",
    "a = 3, b = -7, c = 2\n",
    "x = (7 ± √((-7)^2 + 4(3)(2))) / 6\n",
    "x = (7 ± √73) / 6\n",
    "The solutions are:\n",
    "x1 = (7 + √73)\n",
    "x2 = (7 - √73)\"\"\"\n",
    "\n",
    "solution = Variable(initial_solution,\n",
    "                       requires_grad=True,\n",
    "                       role_description=\"solution to the math question\")\n"
   ]
  },
  {
   "cell_type": "markdown",
   "metadata": {},
   "source": [
    "### Set Loss Variable"
   ]
  },
  {
   "cell_type": "code",
   "execution_count": 4,
   "metadata": {},
   "outputs": [],
   "source": [
    "loss_system_prompt = Variable(\"\"\"You will evaluate a solution to a math question. \n",
    "Do not attempt to solve it yourself, do not give a solution, only identify errors. Be super concise.\"\"\",\n",
    "                              requires_grad=False,\n",
    "                              role_description=\"system prompt\")\n"
   ]
  },
  {
   "cell_type": "markdown",
   "metadata": {},
   "source": [
    "### Inisiate Optimizer"
   ]
  },
  {
   "cell_type": "code",
   "execution_count": 5,
   "metadata": {},
   "outputs": [],
   "source": [
    "optimizer = TextualGradientDescent([solution])"
   ]
  },
  {
   "cell_type": "markdown",
   "metadata": {},
   "source": [
    "### Find Loss"
   ]
  },
  {
   "cell_type": "code",
   "execution_count": 6,
   "metadata": {},
   "outputs": [
    {
     "name": "stdout",
     "output_type": "stream",
     "text": [
      "INITIAL LOSS: The calculation of  b² - 4ac was incorrect: it should be (-7)² - 4 * 3 * 2 = 49 - 24 = 25, not 49 + 24 = 73.  Also, the division by 6 is missing in the final answers for x1 and x2.\n",
      "\n"
     ]
    }
   ],
   "source": [
    "loss = TextLoss(loss_system_prompt, engine=engine)\n",
    "result = loss(solution) # Forward method in Loss Function\n",
    "\n",
    "print(\"INITIAL LOSS:\", result)"
   ]
  },
  {
   "cell_type": "markdown",
   "metadata": {},
   "source": [
    "### Using TextualVerifier to Verify Loss"
   ]
  },
  {
   "cell_type": "code",
   "execution_count": 7,
   "metadata": {},
   "outputs": [
    {
     "name": "stdout",
     "output_type": "stream",
     "text": [
      "VERIFIED RESULT: The solution lacks explicit steps for verifying the correct identification and substitution of coefficients (a, b, and c).  It also doesn't emphasize the importance of handling signed values, particularly when calculating b² and 4ac, increasing the risk of sign errors.  A more systematic approach involving clearly identifying, substituting, and verifying each coefficient, along with explicit calculations including signs, would improve accuracy and prevent common errors.\n"
     ]
    }
   ],
   "source": [
    "# Verify Loss\n",
    "verifier = TextualVerifierV4(verifier_engine=engine, step_eval_iterations=3, logger=False)\n",
    "verified_result = verifier.verify(instance=solution, \n",
    "                                    prompt=loss_system_prompt,\n",
    "                                    calculation=result)\n",
    "\n",
    "print(\"VERIFIED RESULT:\", verified_result.value)"
   ]
  },
  {
   "cell_type": "markdown",
   "metadata": {},
   "source": [
    "### Optimize Solution with Optimizer (TGD)"
   ]
  },
  {
   "cell_type": "code",
   "execution_count": 8,
   "metadata": {},
   "outputs": [
    {
     "name": "stdout",
     "output_type": "stream",
     "text": [
      "FINAL LOSS (after transfer): The solution lacks explicit steps for verifying the correct identification and substitution of coefficients (a, b, and c).  It also doesn't emphasize the importance of handling signed values, particularly when calculating b² and 4ac, increasing the risk of sign errors.  A more systematic approach involving clearly identifying, substituting, and verifying each coefficient, along with explicit calculations including signs, would improve accuracy and prevent common errors.\n"
     ]
    }
   ],
   "source": [
    "# TRANSFER: Replace the loss value with verified result\n",
    "result.set_value(verified_result.value) \n",
    "\n",
    "print(\"FINAL LOSS (after transfer):\", result.value)"
   ]
  },
  {
   "cell_type": "code",
   "execution_count": 9,
   "metadata": {},
   "outputs": [
    {
     "name": "stdout",
     "output_type": "stream",
     "text": [
      "['Here is a conversation:\\n\\n<CONVERSATION><LM_SYSTEM_PROMPT> You will evaluate a solution to a math question. \\nDo not attempt to solve it yourself, do not give a solution, only identify errors. Be super concise. </LM_SYSTEM_PROMPT>\\n\\n<LM_INPUT> To solve the equation 3x^2 - 7x + 2 = 0, we use the quadratic formula:\\nx = (-b ± √(b^2 - 4ac)) / 2a\\na = 3, b = -7, c = 2\\nx = (7 ± √((-7)^2 + 4(3)(2))) / 6\\nx = (7 ± √73) / 6\\nThe solutions are:\\nx1 = (7 + √73)\\nx2 = (7 - √73) </LM_INPUT>\\n\\n<LM_OUTPUT> The solution lacks explicit steps for verifying the correct identification and substitution of coefficients (a, b, and c).  It also doesn\\'t emphasize the importance of handling signed values, particularly when calculating b² and 4ac, increasing the risk of sign errors.  A more systematic approach involving clearly identifying, substituting, and verifying each coefficient, along with explicit calculations including signs, would improve accuracy and prevent common errors. </LM_OUTPUT>\\n\\n</CONVERSATION>\\n\\nThis conversation is potentially part of a larger system. The output is used as response from the language model\\n\\nHere is the feedback we got for solution to the math question in the conversation:\\n\\n<FEEDBACK>The language model evaluation points out two key areas for improvement: clarity in coefficient substitution and explicit handling of signed values.  Here\\'s how these points translate into actionable feedback for improving the solution:\\n\\n1. **Break Down Coefficient Substitution:** The solution jumps directly to substituting `a`, `b`, and `c` into the quadratic formula.  This can lead to errors if the values are not correctly identified in the first place.  The feedback here is to explicitly state the values of `a`, `b`, and `c` *before* substituting them. For example, add lines like \"From the equation, we identify a = 3, b = -7, and c = 2.\"  This makes the substitution step much clearer and easier to verify.\\n\\n2. **Show Explicit Calculations with Signs:** The evaluation highlights the risk of sign errors, especially within the square root. The feedback is to expand the calculations within the discriminant (the part under the square root) step by step.  Instead of directly writing `(-7)^2 + 4(3)(2)`, show the calculation as `(-7)^2 + 4 * (3) * (2) = 49 + 24 = 73`. This makes it clear how the signs are being handled and reduces the chance of making a mistake.  Similarly, explicitly show the division by `2a` as division by `2 * 3 = 6`.\\n\\n3. **Correct the Final Answer:** The final solutions are missing the denominator.  Emphasize the importance of carrying through the entire calculation, including the division by `2a`, to arrive at the correct final answer. The solutions should be presented as `x1 = (7 + √73) / 6` and `x2 = (7 - √73) / 6`.  This addresses the missing denominator in the presented solution.\\n</FEEDBACK>\\n\\n']\n",
      "SOLUTION: To solve the equation 3x² - 7x + 2 = 0, we use the quadratic formula:\n",
      "x = (-b ± √(b² - 4ac)) / 2a\n",
      "\n",
      "From the equation, we identify:\n",
      "a = 3\n",
      "b = -7\n",
      "c = 2\n",
      "\n",
      "Substituting these values into the quadratic formula:\n",
      "x = ( -(-7) ± √((-7)² - 4 * (3) * (2)) ) / (2 * 3)\n",
      "x = ( 7 ± √(49 - 24) ) / 6\n",
      "x = ( 7 ± √25 ) / 6\n",
      "x = ( 7 ± 5) / 6\n",
      "\n",
      "The solutions are:\n",
      "x₁ = (7 + 5) / 6 = 12/6 = 2\n",
      "x₂ = (7 - 5) / 6 = 2/6 = 1/3\n"
     ]
    }
   ],
   "source": [
    "# Optimize\n",
    "result.backward()\n",
    "\n",
    "optimizer.step()\n",
    "print(\"SOLUTION:\", solution.value)"
   ]
  }
 ],
 "metadata": {
  "kernelspec": {
   "display_name": "Python 3.11.6 ('env': venv)",
   "language": "python",
   "name": "python3"
  },
  "language_info": {
   "codemirror_mode": {
    "name": "ipython",
    "version": 3
   },
   "file_extension": ".py",
   "mimetype": "text/x-python",
   "name": "python",
   "nbconvert_exporter": "python",
   "pygments_lexer": "ipython3",
   "version": "3.11.6"
  },
  "orig_nbformat": 4,
  "vscode": {
   "interpreter": {
    "hash": "860e0dc2175a55dd9a80ac360791d93c13f4935a3c9aca3a9a76262c7d69eace"
   }
  }
 },
 "nbformat": 4,
 "nbformat_minor": 2
}
