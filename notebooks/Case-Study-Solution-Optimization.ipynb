{
 "cells": [
  {
   "cell_type": "code",
   "execution_count": 2,
   "metadata": {},
   "outputs": [],
   "source": [
    "import textgrad as tg\n",
    "from textgrad.engine import get_engine\n",
    "from textgrad.variable import Variable\n",
    "from textgrad.optimizer import TextualGradientDescent\n",
    "from textgrad.verifier import TextualVerifier\n",
    "from textgrad.loss import TextLoss"
   ]
  },
  {
   "cell_type": "markdown",
   "metadata": {},
   "source": [
    "### Setup LLM Engine"
   ]
  },
  {
   "cell_type": "code",
   "execution_count": 3,
   "metadata": {},
   "outputs": [
    {
     "name": "stderr",
     "output_type": "stream",
     "text": [
      "/Users/eugeniusms/Development/SKRIPSI/sevet/env/lib/python3.11/site-packages/tqdm/auto.py:21: TqdmWarning: IProgress not found. Please update jupyter and ipywidgets. See https://ipywidgets.readthedocs.io/en/stable/user_install.html\n",
      "  from .autonotebook import tqdm as notebook_tqdm\n"
     ]
    }
   ],
   "source": [
    "engine = get_engine(\"gemini-1.5-pro\")\n",
    "tg.set_backward_engine(\"gemini-1.5-pro\")"
   ]
  },
  {
   "cell_type": "markdown",
   "metadata": {},
   "source": [
    "### Setup Solution to Optimize"
   ]
  },
  {
   "cell_type": "code",
   "execution_count": 4,
   "metadata": {},
   "outputs": [],
   "source": [
    "initial_solution = \"\"\"To solve the equation 3x^2 - 7x + 2 = 0, we use the quadratic formula:\n",
    "x = (-b ± √(b^2 - 4ac)) / 2a\n",
    "a = 3, b = -7, c = 2\n",
    "x = (7 ± √((-7)^2 + 4(3)(2))) / 6\n",
    "x = (7 ± √73) / 6\n",
    "The solutions are:\n",
    "x1 = (7 + √73)\n",
    "x2 = (7 - √73)\"\"\"\n",
    "\n",
    "solution = Variable(initial_solution,\n",
    "                       requires_grad=True,\n",
    "                       role_description=\"solution to the math question\")\n"
   ]
  },
  {
   "cell_type": "markdown",
   "metadata": {},
   "source": [
    "### Set Loss Variable"
   ]
  },
  {
   "cell_type": "code",
   "execution_count": 5,
   "metadata": {},
   "outputs": [],
   "source": [
    "loss_system_prompt = Variable(\"\"\"You will evaluate a solution to a math question. \n",
    "Do not attempt to solve it yourself, do not give a solution, only identify errors. Be super concise.\"\"\",\n",
    "                              requires_grad=False,\n",
    "                              role_description=\"system prompt\")\n"
   ]
  },
  {
   "cell_type": "markdown",
   "metadata": {},
   "source": [
    "### Inisiate Optimizer"
   ]
  },
  {
   "cell_type": "code",
   "execution_count": 6,
   "metadata": {},
   "outputs": [],
   "source": [
    "optimizer = TextualGradientDescent([solution])"
   ]
  },
  {
   "cell_type": "markdown",
   "metadata": {},
   "source": [
    "### Find Loss"
   ]
  },
  {
   "cell_type": "code",
   "execution_count": 7,
   "metadata": {},
   "outputs": [
    {
     "name": "stdout",
     "output_type": "stream",
     "text": [
      "INITIAL LOSS: The calculation of  b² - 4ac is incorrect: it should be (-7)² - 4 * 3 * 2 = 49 - 24 = 25, not 49 + 24 = 73.  Also, the denominator is missing in the final answers for x1 and x2; it should be 6 in both cases.\n",
      "\n"
     ]
    }
   ],
   "source": [
    "loss = TextLoss(loss_system_prompt, engine=engine)\n",
    "result = loss(solution) # Forward method in Loss Function\n",
    "\n",
    "print(\"INITIAL LOSS:\", result)"
   ]
  },
  {
   "cell_type": "markdown",
   "metadata": {},
   "source": [
    "### Using TextualVerifier to Verify Loss"
   ]
  },
  {
   "cell_type": "code",
   "execution_count": 8,
   "metadata": {},
   "outputs": [
    {
     "name": "stdout",
     "output_type": "stream",
     "text": [
      "VERIFIED RESULT: The core issue across these evaluations is a lack of clear, systematic process for calculating the discriminant and applying the quadratic formula, leading to sign errors and misinterpretation of the formula itself.  A robust process should emphasize the following:\n",
      "\n",
      "1. **Explicit Formula Statement:** Always begin by explicitly stating the quadratic formula *and* the discriminant formula separately. This reinforces the correct structure and prevents misremembered or combined formulas.\n",
      "\n",
      "2. **Clear Coefficient Identification:** Explicitly identify the values of a, b, and c, *including their signs*, before any calculations. This prevents errors stemming from incorrect substitutions, especially with negative coefficients.\n",
      "\n",
      "3. **Parentheses for Substitution:**  Substitute the values of a, b, and c into the discriminant formula *using parentheses*. This is crucial for maintaining the correct order of operations and preventing sign errors, particularly when squaring negative numbers or multiplying by negative coefficients.  For example, write b² as (-7)² not -7².  Similarly, write -4ac as -4*(a)*(c).\n",
      "\n",
      "4. **Stepwise Calculation of -4ac:** Calculate -4ac as a separate, labeled step before combining it with b². This clarifies the process and reduces the risk of sign errors during the combined calculation.\n",
      "\n",
      "5. **Stepwise Discriminant Calculation:** Calculate the discriminant (b² - 4ac) step-by-step, showing each operation clearly. This creates a clear audit trail and reduces the chance of errors.\n",
      "\n",
      "6. **Square Root After Discriminant Calculation:** Calculate the square root of the discriminant *only after* the discriminant has been fully evaluated. This reinforces the correct order of operations within the quadratic formula.\n",
      "\n",
      "7. **Verification (if possible):**  If tools are available, verify the equation and discriminant calculation to catch any remaining errors.\n",
      "\n",
      "By following these steps, you create a systematic, error-resistant process that promotes clear reasoning and a deeper understanding of the quadratic formula.  The emphasis should be on understanding *why* each step is taken, not just on getting the correct numerical answer.\n"
     ]
    }
   ],
   "source": [
    "# Verify Loss\n",
    "verifier = TextualVerifier(verifier_engine=engine, step_eval_iterations=3, logger=False)\n",
    "verified_result = verifier.verify(instance=solution, \n",
    "                                    prompt=loss_system_prompt,\n",
    "                                    calculation=result)\n",
    "\n",
    "print(\"VERIFIED RESULT:\", verified_result.value)"
   ]
  },
  {
   "cell_type": "markdown",
   "metadata": {},
   "source": [
    "### Optimize Solution with Optimizer (TGD)"
   ]
  },
  {
   "cell_type": "code",
   "execution_count": 9,
   "metadata": {},
   "outputs": [
    {
     "name": "stdout",
     "output_type": "stream",
     "text": [
      "FINAL LOSS (after transfer): The core issue across these evaluations is a lack of clear, systematic process for calculating the discriminant and applying the quadratic formula, leading to sign errors and misinterpretation of the formula itself.  A robust process should emphasize the following:\n",
      "\n",
      "1. **Explicit Formula Statement:** Always begin by explicitly stating the quadratic formula *and* the discriminant formula separately. This reinforces the correct structure and prevents misremembered or combined formulas.\n",
      "\n",
      "2. **Clear Coefficient Identification:** Explicitly identify the values of a, b, and c, *including their signs*, before any calculations. This prevents errors stemming from incorrect substitutions, especially with negative coefficients.\n",
      "\n",
      "3. **Parentheses for Substitution:**  Substitute the values of a, b, and c into the discriminant formula *using parentheses*. This is crucial for maintaining the correct order of operations and preventing sign errors, particularly when squaring negative numbers or multiplying by negative coefficients.  For example, write b² as (-7)² not -7².  Similarly, write -4ac as -4*(a)*(c).\n",
      "\n",
      "4. **Stepwise Calculation of -4ac:** Calculate -4ac as a separate, labeled step before combining it with b². This clarifies the process and reduces the risk of sign errors during the combined calculation.\n",
      "\n",
      "5. **Stepwise Discriminant Calculation:** Calculate the discriminant (b² - 4ac) step-by-step, showing each operation clearly. This creates a clear audit trail and reduces the chance of errors.\n",
      "\n",
      "6. **Square Root After Discriminant Calculation:** Calculate the square root of the discriminant *only after* the discriminant has been fully evaluated. This reinforces the correct order of operations within the quadratic formula.\n",
      "\n",
      "7. **Verification (if possible):**  If tools are available, verify the equation and discriminant calculation to catch any remaining errors.\n",
      "\n",
      "By following these steps, you create a systematic, error-resistant process that promotes clear reasoning and a deeper understanding of the quadratic formula.  The emphasis should be on understanding *why* each step is taken, not just on getting the correct numerical answer.\n"
     ]
    }
   ],
   "source": [
    "# TRANSFER: Replace the loss value with verified result\n",
    "result.set_value(verified_result.value) \n",
    "\n",
    "print(\"FINAL LOSS (after transfer):\", result.value)"
   ]
  },
  {
   "cell_type": "code",
   "execution_count": 10,
   "metadata": {},
   "outputs": [
    {
     "name": "stdout",
     "output_type": "stream",
     "text": [
      "['Here is a conversation:\\n\\n<CONVERSATION><LM_SYSTEM_PROMPT> You will evaluate a solution to a math question. \\nDo not attempt to solve it yourself, do not give a solution, only identify errors. Be super concise. </LM_SYSTEM_PROMPT>\\n\\n<LM_INPUT> To solve the equation 3x^2 - 7x + 2 = 0, we use the quadratic formula:\\nx = (-b ± √(b^2 - 4ac)) / 2a\\na = 3, b = -7, c = 2\\nx = (7 ± √((-7)^2 + 4(3)(2))) / 6\\nx = (7 ± √73) / 6\\nThe solutions are:\\nx1 = (7 + √73)\\nx2 = (7 - √73) </LM_INPUT>\\n\\n<LM_OUTPUT> The core issue across these evaluations is a lack of clear, systematic process for calculating the discriminant and applying the quadratic formula, leading to sign errors and misinterpretation of the formula itself.  A robust process should emphasize the following:\\n\\n1. **Explicit Formula Statement:** Always begin by explicitly stating the quadratic formula *and* the discriminant formula separately. This reinforces the correct structure and prevents misremembered or combined formulas.\\n\\n2. **Clear Coefficient Identification:** Explicitly identify the values of a, b, and c, *including their signs*, before any calculations. This prevents errors stemming from incorrect substitutions, especially with negative coefficients.\\n\\n3. **Parentheses for Substitution:**  Substitute the values of a, b, and c into the discriminant formula *using parentheses*. This is crucial for maintaining the correct order of operations and preventing sign errors, particularly when squaring negative numbers or multiplying by negative coefficients.  For example, write b² as (-7)² not -7².  Similarly, write -4ac as -4*(a)*(c).\\n\\n4. **Stepwise Calculation of -4ac:** Calculate -4ac as a separate, labeled step before combining it with b². This clarifies the process and reduces the risk of sign errors during the combined calculation.\\n\\n5. **Stepwise Discriminant Calculation:** Calculate the discriminant (b² - 4ac) step-by-step, showing each operation clearly. This creates a clear audit trail and reduces the chance of errors.\\n\\n6. **Square Root After Discriminant Calculation:** Calculate the square root of the discriminant *only after* the discriminant has been fully evaluated. This reinforces the correct order of operations within the quadratic formula.\\n\\n7. **Verification (if possible):**  If tools are available, verify the equation and discriminant calculation to catch any remaining errors.\\n\\nBy following these steps, you create a systematic, error-resistant process that promotes clear reasoning and a deeper understanding of the quadratic formula.  The emphasis should be on understanding *why* each step is taken, not just on getting the correct numerical answer. </LM_OUTPUT>\\n\\n</CONVERSATION>\\n\\nThis conversation is potentially part of a larger system. The output is used as response from the language model\\n\\nHere is the feedback we got for solution to the math question in the conversation:\\n\\n<FEEDBACK>The language model evaluation highlights a critical error in applying the quadratic formula: an incorrect calculation of the discriminant and a missing denominator.  The feedback focuses on correcting these errors and ensuring a clear, step-by-step process is followed.\\n\\n1. **Sign Error in Discriminant:** The provided solution calculates the discriminant as (-7)^2 + 4(3)(2), resulting in 49 + 24 = 73.  The correct calculation should be (-7)^2 - 4(3)(2) = 49 - 24 = 25. This sign error significantly impacts the final solutions.  Emphasize the importance of correctly applying the subtraction in the discriminant formula (b² - 4ac).\\n\\n2. **Missing Denominator:** The solution omits the denominator (2a = 2*3 = 6) in the final answer. The solutions should be (7 ± √25) / 6, not just 7 ± √73.  This oversight fundamentally changes the solutions.  Stress the importance of including *every* part of the quadratic formula, including the denominator, in the final answer.  Highlight that the entire expression (7 ± √25) is divided by 6.\\n\\n3. **Simplifying the Radical and Final Answer:** After correcting the discriminant and including the denominator, the solution becomes (7 ± √25) / 6 = (7 ± 5) / 6. This can be further simplified to x1 = (7 + 5) / 6 = 2 and x2 = (7 - 5) / 6 = 1/3.  Emphasize the importance of simplifying the radical and then the entire expression to obtain the final solutions in their simplest form.\\n</FEEDBACK>\\n\\n']\n",
      "SOLUTION: To solve the equation 3x² - 7x + 2 = 0, we use the quadratic formula:\n",
      "\n",
      "**1. Quadratic Formula:** x = (-b ± √(b² - 4ac)) / 2a\n",
      "\n",
      "**2. Discriminant Formula:** Δ = b² - 4ac\n",
      "\n",
      "**3. Coefficient Identification:**\n",
      "a = 3\n",
      "b = -7\n",
      "c = 2\n",
      "\n",
      "**4. Discriminant Calculation:**\n",
      "Δ = (-7)² - 4 * (3) * (2)\n",
      "Δ = 49 - 24\n",
      "Δ = 25\n",
      "\n",
      "**5. Applying the Quadratic Formula:**\n",
      "x = (-(-7) ± √25) / (2 * 3)\n",
      "x = (7 ± 5) / 6\n",
      "\n",
      "**6. Solutions:**\n",
      "x₁ = (7 + 5) / 6 = 12 / 6 = 2\n",
      "x₂ = (7 - 5) / 6 = 2 / 6 = 1/3\n",
      "\n",
      "Therefore, the solutions are x₁ = 2 and x₂ = 1/3.\n"
     ]
    }
   ],
   "source": [
    "# Optimize\n",
    "result.backward()\n",
    "\n",
    "optimizer.step()\n",
    "print(\"SOLUTION:\", solution.value)"
   ]
  }
 ],
 "metadata": {
  "kernelspec": {
   "display_name": "Python 3.11.6 ('env': venv)",
   "language": "python",
   "name": "python3"
  },
  "language_info": {
   "codemirror_mode": {
    "name": "ipython",
    "version": 3
   },
   "file_extension": ".py",
   "mimetype": "text/x-python",
   "name": "python",
   "nbconvert_exporter": "python",
   "pygments_lexer": "ipython3",
   "version": "3.11.6"
  },
  "orig_nbformat": 4,
  "vscode": {
   "interpreter": {
    "hash": "860e0dc2175a55dd9a80ac360791d93c13f4935a3c9aca3a9a76262c7d69eace"
   }
  }
 },
 "nbformat": 4,
 "nbformat_minor": 2
}
