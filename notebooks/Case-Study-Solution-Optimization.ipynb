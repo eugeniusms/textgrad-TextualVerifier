{
 "cells": [
  {
   "cell_type": "code",
   "execution_count": 1,
   "metadata": {},
   "outputs": [],
   "source": [
    "import textgrad as tg\n",
    "from textgrad.engine import get_engine\n",
    "from textgrad.variable import Variable\n",
    "from textgrad.optimizer import TextualGradientDescent\n",
    "from textgrad.verifier import TextualVerifierV2\n",
    "from textgrad.loss import TextLoss"
   ]
  },
  {
   "cell_type": "markdown",
   "metadata": {},
   "source": [
    "### Setup LLM Engine"
   ]
  },
  {
   "cell_type": "code",
   "execution_count": 2,
   "metadata": {},
   "outputs": [
    {
     "name": "stderr",
     "output_type": "stream",
     "text": [
      "/Users/eugeniusms/Development/SKRIPSI/sevet/env/lib/python3.11/site-packages/tqdm/auto.py:21: TqdmWarning: IProgress not found. Please update jupyter and ipywidgets. See https://ipywidgets.readthedocs.io/en/stable/user_install.html\n",
      "  from .autonotebook import tqdm as notebook_tqdm\n"
     ]
    }
   ],
   "source": [
    "engine = get_engine(\"gemini-1.5-pro\")\n",
    "tg.set_backward_engine(\"gemini-1.5-pro\", override=True)"
   ]
  },
  {
   "cell_type": "markdown",
   "metadata": {},
   "source": [
    "### Setup Solution to Optimize"
   ]
  },
  {
   "cell_type": "code",
   "execution_count": 3,
   "metadata": {},
   "outputs": [],
   "source": [
    "initial_solution = \"\"\"To solve the equation 3x^2 - 7x + 2 = 0, we use the quadratic formula:\n",
    "x = (-b ± √(b^2 - 4ac)) / 2a\n",
    "a = 3, b = -7, c = 2\n",
    "x = (7 ± √((-7)^2 + 4(3)(2))) / 6\n",
    "x = (7 ± √73) / 6\n",
    "The solutions are:\n",
    "x1 = (7 + √73)\n",
    "x2 = (7 - √73)\"\"\"\n",
    "\n",
    "solution = Variable(initial_solution,\n",
    "                       requires_grad=True,\n",
    "                       role_description=\"solution to the math question\")\n"
   ]
  },
  {
   "cell_type": "markdown",
   "metadata": {},
   "source": [
    "### Set Loss Variable"
   ]
  },
  {
   "cell_type": "code",
   "execution_count": 4,
   "metadata": {},
   "outputs": [],
   "source": [
    "loss_system_prompt = Variable(\"\"\"You will evaluate a solution to a math question. \n",
    "Do not attempt to solve it yourself, do not give a solution, only identify errors. Be super concise.\"\"\",\n",
    "                              requires_grad=False,\n",
    "                              role_description=\"system prompt\")"
   ]
  },
  {
   "cell_type": "markdown",
   "metadata": {},
   "source": [
    "### Inisiate Optimizer"
   ]
  },
  {
   "cell_type": "code",
   "execution_count": 5,
   "metadata": {},
   "outputs": [],
   "source": [
    "optimizer = TextualGradientDescent([solution])"
   ]
  },
  {
   "cell_type": "markdown",
   "metadata": {},
   "source": [
    "### Find Loss"
   ]
  },
  {
   "cell_type": "code",
   "execution_count": 6,
   "metadata": {},
   "outputs": [
    {
     "name": "stdout",
     "output_type": "stream",
     "text": [
      "INITIAL LOSS: The calculation of  b² - 4ac was incorrect: it should be (-7)² - 4 * 3 * 2 = 49 - 24 = 25, not 49 + 24 = 73.  Also, the division by 6 is missing in the final answers for x1 and x2.\n",
      "\n"
     ]
    }
   ],
   "source": [
    "loss = TextLoss(loss_system_prompt, engine=engine)\n",
    "loss_value = loss(solution) # Forward method in Loss Function\n",
    "\n",
    "print(\"INITIAL LOSS:\", loss_value)"
   ]
  },
  {
   "cell_type": "markdown",
   "metadata": {},
   "source": [
    "### Using TextualVerifier to Verify Loss"
   ]
  },
  {
   "cell_type": "code",
   "execution_count": 7,
   "metadata": {},
   "outputs": [
    {
     "name": "stdout",
     "output_type": "stream",
     "text": [
      "INFO: Starting generic textual verification...\n",
      "INFO: Analyzing calculation...\n",
      "INFO: Generating improved variants...\n",
      "INFO: Selecting best variant...\n",
      "INFO: Making final decision...\n",
      "DECISION: Using improved version\n",
      "INFO: Generic verification complete!\n",
      "VERIFIED RESULT: To solve the equation 3x² - 7x + 2 = 0, we use the quadratic formula:\n",
      "\n",
      "x = (-b ± √(b² - 4ac)) / 2a\n",
      "\n",
      "Here, a = 3, b = -7, and c = 2.\n",
      "\n",
      "Substituting these values into the quadratic formula:\n",
      "\n",
      "x = ( -(-7) ± √((-7)² - 4 * 3 * 2) ) / (2 * 3)\n",
      "\n",
      "x = ( 7 ± √(49 - 24) ) / 6\n",
      "\n",
      "x = ( 7 ± √25 ) / 6\n",
      "\n",
      "x = ( 7 ± 5 ) / 6\n",
      "\n",
      "This gives us two solutions:\n",
      "\n",
      "x₁ = (7 + 5) / 6 = 12 / 6 = 2\n",
      "\n",
      "x₂ = (7 - 5) / 6 = 2 / 6 = 1/3\n",
      "\n",
      "Therefore, the solutions to the equation 3x² - 7x + 2 = 0 are x = 2 and x = 1/3.\n",
      "\n",
      "\n",
      "While a loss function isn't typically used when solving a quadratic equation (as the goal is to find the exact solutions), we can demonstrate a loss calculation for illustrative purposes.  Let's consider the Mean Squared Error (MSE) as an example.  If we had target values for x, we could compare our calculated solutions to these targets.  For this demonstration, let's *arbitrarily* assume the target values were x_target₁ = 2 and x_target₂ = 0.33 (an approximation of 1/3).\n",
      "\n",
      "The MSE is calculated as:\n",
      "\n",
      "MSE = (1/2) * [(x₁ - x_target₁)² + (x₂ - x_target₂)²]\n",
      "\n",
      "MSE = (1/2) * [(2 - 2)² + (1/3 - 0.33)²]\n",
      "\n",
      "MSE = (1/2) * [0 + (1/3 - 0.33)²] ≈ 0.000056\n",
      "\n",
      "This example demonstrates how a loss function *could* be calculated.  However, it's crucial to understand that in the context of solving a quadratic equation, we seek the exact solutions, and a loss function is not typically relevant.\n"
     ]
    }
   ],
   "source": [
    "# Verify Loss\n",
    "verifier = TextualVerifierV2(\n",
    "    verifier_engine=engine, \n",
    "    verification_iterations=3, \n",
    "    verification_focus=\"Numerical accuracy and loss computation correctness\",\n",
    "    logger=True)\n",
    "\n",
    "verification_prompt = Variable(\"\"\"Evaluate loss value for correctness and reasonable magnitude.\"\"\",\n",
    "                              requires_grad=False,\n",
    "                              role_description=\"system prompt\")\n",
    "\n",
    "verified_result = verifier.verify(instance=solution, \n",
    "                                    prompt=verification_prompt,\n",
    "                                    calculation=loss_value)\n",
    "\n",
    "print(\"VERIFIED RESULT:\", verified_result.value)"
   ]
  },
  {
   "cell_type": "markdown",
   "metadata": {},
   "source": [
    "### Optimize Solution with Optimizer (TGD)"
   ]
  },
  {
   "cell_type": "code",
   "execution_count": 8,
   "metadata": {},
   "outputs": [
    {
     "name": "stdout",
     "output_type": "stream",
     "text": [
      "FINAL LOSS (after transfer): To solve the equation 3x² - 7x + 2 = 0, we use the quadratic formula:\n",
      "\n",
      "x = (-b ± √(b² - 4ac)) / 2a\n",
      "\n",
      "Here, a = 3, b = -7, and c = 2.\n",
      "\n",
      "Substituting these values into the quadratic formula:\n",
      "\n",
      "x = ( -(-7) ± √((-7)² - 4 * 3 * 2) ) / (2 * 3)\n",
      "\n",
      "x = ( 7 ± √(49 - 24) ) / 6\n",
      "\n",
      "x = ( 7 ± √25 ) / 6\n",
      "\n",
      "x = ( 7 ± 5 ) / 6\n",
      "\n",
      "This gives us two solutions:\n",
      "\n",
      "x₁ = (7 + 5) / 6 = 12 / 6 = 2\n",
      "\n",
      "x₂ = (7 - 5) / 6 = 2 / 6 = 1/3\n",
      "\n",
      "Therefore, the solutions to the equation 3x² - 7x + 2 = 0 are x = 2 and x = 1/3.\n",
      "\n",
      "\n",
      "While a loss function isn't typically used when solving a quadratic equation (as the goal is to find the exact solutions), we can demonstrate a loss calculation for illustrative purposes.  Let's consider the Mean Squared Error (MSE) as an example.  If we had target values for x, we could compare our calculated solutions to these targets.  For this demonstration, let's *arbitrarily* assume the target values were x_target₁ = 2 and x_target₂ = 0.33 (an approximation of 1/3).\n",
      "\n",
      "The MSE is calculated as:\n",
      "\n",
      "MSE = (1/2) * [(x₁ - x_target₁)² + (x₂ - x_target₂)²]\n",
      "\n",
      "MSE = (1/2) * [(2 - 2)² + (1/3 - 0.33)²]\n",
      "\n",
      "MSE = (1/2) * [0 + (1/3 - 0.33)²] ≈ 0.000056\n",
      "\n",
      "This example demonstrates how a loss function *could* be calculated.  However, it's crucial to understand that in the context of solving a quadratic equation, we seek the exact solutions, and a loss function is not typically relevant.\n"
     ]
    }
   ],
   "source": [
    "# TRANSFER: Replace the loss value with verified result\n",
    "loss_value.set_value(verified_result.value) \n",
    "\n",
    "print(\"FINAL LOSS (after transfer):\", loss_value.value)"
   ]
  },
  {
   "cell_type": "code",
   "execution_count": 9,
   "metadata": {},
   "outputs": [
    {
     "name": "stdout",
     "output_type": "stream",
     "text": [
      "[\"Here is a conversation:\\n\\n<CONVERSATION><LM_SYSTEM_PROMPT> You will evaluate a solution to a math question. \\nDo not attempt to solve it yourself, do not give a solution, only identify errors. Be super concise. </LM_SYSTEM_PROMPT>\\n\\n<LM_INPUT> To solve the equation 3x^2 - 7x + 2 = 0, we use the quadratic formula:\\nx = (-b ± √(b^2 - 4ac)) / 2a\\na = 3, b = -7, c = 2\\nx = (7 ± √((-7)^2 + 4(3)(2))) / 6\\nx = (7 ± √73) / 6\\nThe solutions are:\\nx1 = (7 + √73)\\nx2 = (7 - √73) </LM_INPUT>\\n\\n<LM_OUTPUT> To solve the equation 3x² - 7x + 2 = 0, we use the quadratic formula:\\n\\nx = (-b ± √(b² - 4ac)) / 2a\\n\\nHere, a = 3, b = -7, and c = 2.\\n\\nSubstituting these values into the quadratic formula:\\n\\nx = ( -(-7) ± √((-7)² - 4 * 3 * 2) ) / (2 * 3)\\n\\nx = ( 7 ± √(49 - 24) ) / 6\\n\\nx = ( 7 ± √25 ) / 6\\n\\nx = ( 7 ± 5 ) / 6\\n\\nThis gives us two solutions:\\n\\nx₁ = (7 + 5) / 6 = 12 / 6 = 2\\n\\nx₂ = (7 - 5) / 6 = 2 / 6 = 1/3\\n\\nTherefore, the solutions to the equation 3x² - 7x + 2 = 0 are x = 2 and x = 1/3.\\n\\n\\nWhile a loss function isn't typically used when solving a quadratic equation (as the goal is to find the exact solutions), we can demonstrate a loss calculation for illustrative purposes.  Let's consider the Mean Squared Error (MSE) as an example.  If we had target values for x, we could compare our calculated solutions to these targets.  For this demonstration, let's *arbitrarily* assume the target values were x_target₁ = 2 and x_target₂ = 0.33 (an approximation of 1/3).\\n\\nThe MSE is calculated as:\\n\\nMSE = (1/2) * [(x₁ - x_target₁)² + (x₂ - x_target₂)²]\\n\\nMSE = (1/2) * [(2 - 2)² + (1/3 - 0.33)²]\\n\\nMSE = (1/2) * [0 + (1/3 - 0.33)²] ≈ 0.000056\\n\\nThis example demonstrates how a loss function *could* be calculated.  However, it's crucial to understand that in the context of solving a quadratic equation, we seek the exact solutions, and a loss function is not typically relevant. </LM_OUTPUT>\\n\\n</CONVERSATION>\\n\\nThis conversation is potentially part of a larger system. The output is used as response from the language model\\n\\nHere is the feedback we got for solution to the math question in the conversation:\\n\\n<FEEDBACK>The language model evaluation identifies a crucial mistake in the calculation within the quadratic formula.  Specifically, the discriminant (the part under the square root, b² - 4ac) was incorrectly calculated as positive 73 when it should be 25. The provided solution missed the negative sign on 'b' in the discriminant calculation, leading to (-7)² - 4 * 3 * 2 being incorrectly evaluated as 49 + 24 = 73, instead of the correct 49 - 24 = 25.  This error propagates through the rest of the solution, leading to incorrect final values for x1 and x2.  Correcting this discriminant calculation to 25 will allow the solution to arrive at the correct final values of x = 2 and x = 1/3.  Additionally, the final solutions are missing the denominator (division by 6) which should be included to arrive at the correct final answer.\\n</FEEDBACK>\\n\\n\"]\n",
      "SOLUTION: To solve the equation 3x^2 - 7x + 2 = 0, we use the quadratic formula:\n",
      "x = (-b ± √(b^2 - 4ac)) / 2a\n",
      "a = 3, b = -7, c = 2\n",
      "x = (7 ± √((-7)^2 - 4(3)(2))) / 6\n",
      "x = (7 ± √(49 - 24)) / 6\n",
      "x = (7 ± √25) / 6\n",
      "x = (7 ± 5) / 6\n",
      "The solutions are:\n",
      "x1 = (7 + 5) / 6 = 2\n",
      "x2 = (7 - 5) / 6 = 1/3\n"
     ]
    }
   ],
   "source": [
    "# Optimize\n",
    "loss_value.backward()\n",
    "\n",
    "optimizer.step()\n",
    "print(\"SOLUTION:\", solution.value)"
   ]
  }
 ],
 "metadata": {
  "kernelspec": {
   "display_name": "Python 3.11.6 ('env': venv)",
   "language": "python",
   "name": "python3"
  },
  "language_info": {
   "codemirror_mode": {
    "name": "ipython",
    "version": 3
   },
   "file_extension": ".py",
   "mimetype": "text/x-python",
   "name": "python",
   "nbconvert_exporter": "python",
   "pygments_lexer": "ipython3",
   "version": "3.11.6"
  },
  "orig_nbformat": 4,
  "vscode": {
   "interpreter": {
    "hash": "860e0dc2175a55dd9a80ac360791d93c13f4935a3c9aca3a9a76262c7d69eace"
   }
  }
 },
 "nbformat": 4,
 "nbformat_minor": 2
}
