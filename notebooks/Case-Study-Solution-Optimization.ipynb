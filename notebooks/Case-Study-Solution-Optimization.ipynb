{
 "cells": [
  {
   "cell_type": "code",
   "execution_count": 1,
   "metadata": {},
   "outputs": [],
   "source": [
    "import textgrad as tg\n",
    "from textgrad.engine import get_engine\n",
    "from textgrad.variable import Variable\n",
    "from textgrad.optimizer import TextualGradientDescent\n",
    "from textgrad.verifier import TextualVerifierV4\n",
    "from textgrad.loss import TextLoss"
   ]
  },
  {
   "cell_type": "markdown",
   "metadata": {},
   "source": [
    "### Setup LLM Engine"
   ]
  },
  {
   "cell_type": "code",
   "execution_count": 2,
   "metadata": {},
   "outputs": [
    {
     "name": "stderr",
     "output_type": "stream",
     "text": [
      "/Users/eugeniusms/Development/SKRIPSI/sevet/env/lib/python3.11/site-packages/tqdm/auto.py:21: TqdmWarning: IProgress not found. Please update jupyter and ipywidgets. See https://ipywidgets.readthedocs.io/en/stable/user_install.html\n",
      "  from .autonotebook import tqdm as notebook_tqdm\n"
     ]
    }
   ],
   "source": [
    "engine = get_engine(\"gemini-1.5-pro\")\n",
    "tg.set_backward_engine(\"gemini-1.5-pro\", override=True)"
   ]
  },
  {
   "cell_type": "markdown",
   "metadata": {},
   "source": [
    "### Setup Solution to Optimize"
   ]
  },
  {
   "cell_type": "code",
   "execution_count": 3,
   "metadata": {},
   "outputs": [],
   "source": [
    "initial_solution = \"\"\"To solve the equation 3x^2 - 7x + 2 = 0, we use the quadratic formula:\n",
    "x = (-b ± √(b^2 - 4ac)) / 2a\n",
    "a = 3, b = -7, c = 2\n",
    "x = (7 ± √((-7)^2 + 4(3)(2))) / 6\n",
    "x = (7 ± √73) / 6\n",
    "The solutions are:\n",
    "x1 = (7 + √73)\n",
    "x2 = (7 - √73)\"\"\"\n",
    "\n",
    "solution = Variable(initial_solution,\n",
    "                       requires_grad=True,\n",
    "                       role_description=\"solution to the math question\")\n"
   ]
  },
  {
   "cell_type": "markdown",
   "metadata": {},
   "source": [
    "### Set Loss Variable"
   ]
  },
  {
   "cell_type": "code",
   "execution_count": 4,
   "metadata": {},
   "outputs": [],
   "source": [
    "loss_system_prompt = Variable(\"\"\"You will evaluate a solution to a math question. \n",
    "Do not attempt to solve it yourself, do not give a solution, only identify errors. Be super concise.\"\"\",\n",
    "                              requires_grad=False,\n",
    "                              role_description=\"system prompt\")\n"
   ]
  },
  {
   "cell_type": "markdown",
   "metadata": {},
   "source": [
    "### Inisiate Optimizer"
   ]
  },
  {
   "cell_type": "code",
   "execution_count": 5,
   "metadata": {},
   "outputs": [],
   "source": [
    "optimizer = TextualGradientDescent([solution])"
   ]
  },
  {
   "cell_type": "markdown",
   "metadata": {},
   "source": [
    "### Find Loss"
   ]
  },
  {
   "cell_type": "code",
   "execution_count": 6,
   "metadata": {},
   "outputs": [
    {
     "name": "stdout",
     "output_type": "stream",
     "text": [
      "INITIAL LOSS: The calculation of  b² - 4ac was incorrect: it should be (-7)² - 4 * 3 * 2 = 49 - 24 = 25, not 49 + 24 = 73.  Also, the division by 6 is missing in the final answers for x1 and x2.\n",
      "\n"
     ]
    }
   ],
   "source": [
    "loss = TextLoss(loss_system_prompt, engine=engine)\n",
    "result = loss(solution) # Forward method in Loss Function\n",
    "\n",
    "print(\"INITIAL LOSS:\", result)"
   ]
  },
  {
   "cell_type": "markdown",
   "metadata": {},
   "source": [
    "### Using TextualVerifier to Verify Loss"
   ]
  },
  {
   "cell_type": "code",
   "execution_count": 7,
   "metadata": {},
   "outputs": [
    {
     "name": "stdout",
     "output_type": "stream",
     "text": [
      "INFO:textgrad:TextualVerifierV4:verify Starting Cost-Optimized Verification...\n",
      "INFO:textgrad:TextualVerifierV4:generate_cot_steps Generating CoT steps...\n",
      "INFO:textgrad:TextualVerifierV4:generate_cot_steps Generated some steps\n",
      "INFO:textgrad:TextualVerifierV4:verify_all_steps_in_one_call Consolidated verification...\n",
      "Generating complete solution variant 1/3\n",
      "Generating complete solution variant 2/3\n",
      "Generating complete solution variant 3/3\n",
      "CALCULATION The calculation of  b² - 4ac was incorrect: it should be (-7)² - 4 * 3 * 2 = 49 - 24 = 25, not 49 + 24 = 73.  Also, the division by 6 is missing in the final answers for x1 and x2.\n",
      "\n",
      "[V] Cost-optimized verification complete!\n",
      "VERIFIED RESULT: The verified feedback correctly identifies the errors in the original calculation. Here's an updated version of the observable, incorporating the corrections:\n",
      "\n",
      "**Observable (Corrected):**\n",
      "\n",
      "The quadratic equation is given by 3x² - 7x + 2 = 0.  We can use the quadratic formula to solve for x:\n",
      "\n",
      "x = (-b ± √(b² - 4ac)) / 2a\n",
      "\n",
      "In this case, a = 3, b = -7, and c = 2.\n",
      "\n",
      "1. **Substitute the values:** x = (7 ± √((-7)² - 4 * 3 * 2)) / (2 * 3)\n",
      "\n",
      "2. **Simplify inside the square root:** x = (7 ± √(49 - 24)) / 6\n",
      "\n",
      "3. **Calculate the discriminant:** x = (7 ± √25) / 6\n",
      "\n",
      "4. **Simplify the square root:** x = (7 ± 5) / 6\n",
      "\n",
      "5. **Calculate the two possible solutions:**\n",
      "   * x₁ = (7 + 5) / 6 = 12 / 6 = 2\n",
      "   * x₂ = (7 - 5) / 6 = 2 / 6 = 1/3\n",
      "\n",
      "\n",
      "Therefore, the solutions to the quadratic equation 3x² - 7x + 2 = 0 are x = 2 and x = 1/3.\n",
      "\n"
     ]
    }
   ],
   "source": [
    "# Verify Loss\n",
    "verifier = TextualVerifierV4(verifier_engine=engine, step_eval_iterations=3, logger=True)\n",
    "verified_result = verifier.verify(instance=solution, \n",
    "                                    prompt=loss_system_prompt,\n",
    "                                    calculation=result)\n",
    "\n",
    "print(\"VERIFIED RESULT:\", verified_result.value)"
   ]
  },
  {
   "cell_type": "markdown",
   "metadata": {},
   "source": [
    "### Optimize Solution with Optimizer (TGD)"
   ]
  },
  {
   "cell_type": "code",
   "execution_count": 8,
   "metadata": {},
   "outputs": [
    {
     "name": "stdout",
     "output_type": "stream",
     "text": [
      "FINAL LOSS (after transfer): The verified feedback correctly identifies the errors in the original calculation. Here's an updated version of the observable, incorporating the corrections:\n",
      "\n",
      "**Observable (Corrected):**\n",
      "\n",
      "The quadratic equation is given by 3x² - 7x + 2 = 0.  We can use the quadratic formula to solve for x:\n",
      "\n",
      "x = (-b ± √(b² - 4ac)) / 2a\n",
      "\n",
      "In this case, a = 3, b = -7, and c = 2.\n",
      "\n",
      "1. **Substitute the values:** x = (7 ± √((-7)² - 4 * 3 * 2)) / (2 * 3)\n",
      "\n",
      "2. **Simplify inside the square root:** x = (7 ± √(49 - 24)) / 6\n",
      "\n",
      "3. **Calculate the discriminant:** x = (7 ± √25) / 6\n",
      "\n",
      "4. **Simplify the square root:** x = (7 ± 5) / 6\n",
      "\n",
      "5. **Calculate the two possible solutions:**\n",
      "   * x₁ = (7 + 5) / 6 = 12 / 6 = 2\n",
      "   * x₂ = (7 - 5) / 6 = 2 / 6 = 1/3\n",
      "\n",
      "\n",
      "Therefore, the solutions to the quadratic equation 3x² - 7x + 2 = 0 are x = 2 and x = 1/3.\n",
      "\n"
     ]
    }
   ],
   "source": [
    "# TRANSFER: Replace the loss value with verified result\n",
    "result.set_value(verified_result.value) \n",
    "\n",
    "print(\"FINAL LOSS (after transfer):\", result.value)"
   ]
  },
  {
   "cell_type": "code",
   "execution_count": 9,
   "metadata": {},
   "outputs": [
    {
     "name": "stdout",
     "output_type": "stream",
     "text": [
      "[\"Here is a conversation:\\n\\n<CONVERSATION><LM_SYSTEM_PROMPT> You will evaluate a solution to a math question. \\nDo not attempt to solve it yourself, do not give a solution, only identify errors. Be super concise. </LM_SYSTEM_PROMPT>\\n\\n<LM_INPUT> To solve the equation 3x^2 - 7x + 2 = 0, we use the quadratic formula:\\nx = (-b ± √(b^2 - 4ac)) / 2a\\na = 3, b = -7, c = 2\\nx = (7 ± √((-7)^2 + 4(3)(2))) / 6\\nx = (7 ± √73) / 6\\nThe solutions are:\\nx1 = (7 + √73)\\nx2 = (7 - √73) </LM_INPUT>\\n\\n<LM_OUTPUT> The verified feedback correctly identifies the errors in the original calculation. Here's an updated version of the observable, incorporating the corrections:\\n\\n**Observable (Corrected):**\\n\\nThe quadratic equation is given by 3x² - 7x + 2 = 0.  We can use the quadratic formula to solve for x:\\n\\nx = (-b ± √(b² - 4ac)) / 2a\\n\\nIn this case, a = 3, b = -7, and c = 2.\\n\\n1. **Substitute the values:** x = (7 ± √((-7)² - 4 * 3 * 2)) / (2 * 3)\\n\\n2. **Simplify inside the square root:** x = (7 ± √(49 - 24)) / 6\\n\\n3. **Calculate the discriminant:** x = (7 ± √25) / 6\\n\\n4. **Simplify the square root:** x = (7 ± 5) / 6\\n\\n5. **Calculate the two possible solutions:**\\n   * x₁ = (7 + 5) / 6 = 12 / 6 = 2\\n   * x₂ = (7 - 5) / 6 = 2 / 6 = 1/3\\n\\n\\nTherefore, the solutions to the quadratic equation 3x² - 7x + 2 = 0 are x = 2 and x = 1/3.\\n </LM_OUTPUT>\\n\\n</CONVERSATION>\\n\\nThis conversation is potentially part of a larger system. The output is used as response from the language model\\n\\nHere is the feedback we got for solution to the math question in the conversation:\\n\\n<FEEDBACK>The language model evaluation indicates two main errors in the solution:\\n\\n1. **Incorrect Calculation within the Square Root:** The calculation inside the square root is wrong.  Instead of `(-7)^2 + 4(3)(2)`, it should be `(-7)^2 - 4(3)(2)`. The quadratic formula uses subtraction, not addition, within the discriminant (the part under the square root). This fundamentally changes the discriminant's value and thus the final solutions.  Review the quadratic formula and ensure the correct operations are applied.\\n\\n2. **Missing Division by 6:** The final solutions for *x₁* and *x₂* are missing the division by 6. The quadratic formula divides the entire expression (numerator) by *2a*. In this case, *2a* is 6, so both solutions should be divided by 6.  This oversight leads to significantly incorrect results.  Carefully track each step of the quadratic formula and ensure all divisions are performed correctly.\\n</FEEDBACK>\\n\\n\"]\n",
      "SOLUTION: To solve the equation 3x^2 - 7x + 2 = 0, we use the quadratic formula:\n",
      "x = (-b ± √(b^2 - 4ac)) / 2a\n",
      "a = 3, b = -7, c = 2\n",
      "x = (7 ± √((-7)^2 - 4(3)(2))) / (2*3)\n",
      "x = (7 ± √(49 - 24)) / 6\n",
      "x = (7 ± √25) / 6\n",
      "x = (7 ± 5) / 6\n",
      "The solutions are:\n",
      "x1 = (7 + 5) / 6 = 12/6 = 2\n",
      "x2 = (7 - 5) / 6 = 2/6 = 1/3\n"
     ]
    }
   ],
   "source": [
    "# Optimize\n",
    "result.backward()\n",
    "\n",
    "optimizer.step()\n",
    "print(\"SOLUTION:\", solution.value)"
   ]
  }
 ],
 "metadata": {
  "kernelspec": {
   "display_name": "Python 3.11.6 ('env': venv)",
   "language": "python",
   "name": "python3"
  },
  "language_info": {
   "codemirror_mode": {
    "name": "ipython",
    "version": 3
   },
   "file_extension": ".py",
   "mimetype": "text/x-python",
   "name": "python",
   "nbconvert_exporter": "python",
   "pygments_lexer": "ipython3",
   "version": "3.11.6"
  },
  "orig_nbformat": 4,
  "vscode": {
   "interpreter": {
    "hash": "860e0dc2175a55dd9a80ac360791d93c13f4935a3c9aca3a9a76262c7d69eace"
   }
  }
 },
 "nbformat": 4,
 "nbformat_minor": 2
}
