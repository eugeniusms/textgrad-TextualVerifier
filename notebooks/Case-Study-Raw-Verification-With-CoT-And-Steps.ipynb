{
 "cells": [
  {
   "cell_type": "code",
   "execution_count": null,
   "metadata": {},
   "outputs": [],
   "source": [
    "import textgrad as tg\n",
    "from textgrad.engine import get_engine\n",
    "from textgrad.variable import Variable\n",
    "from textgrad.optimizer import TextualGradientDescent\n",
    "from textgrad.verifier import TextualVerifierGeneric\n",
    "from textgrad.loss import TextLoss"
   ]
  },
  {
   "cell_type": "code",
   "execution_count": null,
   "metadata": {},
   "outputs": [],
   "source": [
    "engine = get_engine(\"gemini-1.5-pro\")\n",
    "tg.set_backward_engine(\"gemini-1.5-pro\", override=True)"
   ]
  },
  {
   "cell_type": "code",
   "execution_count": null,
   "metadata": {},
   "outputs": [],
   "source": [
    "initial_solution = \"\"\"\n",
    "To solve the equation 3x^2 - 7x + 2 = 0, we use the quadratic formula:\n",
    "x = (-b ± √(b^2 - 4ac)) / 2a\n",
    "a = 3, b = -7, c = 2\n",
    "x = (7 ± √((-7)^2 + 4(3)(2))) / 6\n",
    "x = (7 ± √73) / 6\n",
    "The solutions are:\n",
    "x1 = (7 + √73)\n",
    "x2 = (7 - √73)\"\"\"\n",
    "\n",
    "question = Variable(\"Solve 3x^2-7x+2=0\",\n",
    "                    requires_grad=False,\n",
    "                    role_description=\"math question\")\n",
    "\n",
    "instruction = Variable(\"\"\"You will answering a math question. \n",
    "                        Please using step-by-step explanation. Be super concise.\"\"\",\n",
    "                        requires_grad=False,\n",
    "                        role_description=\"instruction\")\n",
    "\n",
    "# Calculation Using Steps\n",
    "calculation = Variable(initial_solution,\n",
    "                        requires_grad=True,\n",
    "                        role_description=\"solution to the math question\")\n"
   ]
  },
  {
   "cell_type": "code",
   "execution_count": null,
   "metadata": {},
   "outputs": [],
   "source": [
    "\n",
    "verification_task_prompts = [\n",
    "    \"Verify any miss on calculation, if any misses please revise calculation based on misses.\",\n",
    "    \"Imagine you're a senior mathematician, suggest revised calculation.\"\n",
    "]\n",
    "\n",
    "verifier = TextualVerifierGeneric(\n",
    "    verifier_engine=engine, \n",
    "    use_cot_generation=True,\n",
    "    use_step_breakdown=True,\n",
    "    verification_task_prompts=verification_task_prompts,\n",
    "    enable_logging=True\n",
    ")\n",
    "\n",
    "verified_result = verifier.verify(instance=question,\n",
    "                                  instruction=instruction,\n",
    "                                  calculation=calculation)\n",
    "\n",
    "print(\"VERIFIED RESULT:\", verified_result.value)"
   ]
  }
 ],
 "metadata": {
  "kernelspec": {
   "display_name": "Python 3.11.6 ('env': venv)",
   "language": "python",
   "name": "python3"
  },
  "language_info": {
   "codemirror_mode": {
    "name": "ipython",
    "version": 3
   },
   "file_extension": ".py",
   "mimetype": "text/x-python",
   "name": "python",
   "nbconvert_exporter": "python",
   "pygments_lexer": "ipython3",
   "version": "3.11.6"
  },
  "orig_nbformat": 4,
  "vscode": {
   "interpreter": {
    "hash": "860e0dc2175a55dd9a80ac360791d93c13f4935a3c9aca3a9a76262c7d69eace"
   }
  }
 },
 "nbformat": 4,
 "nbformat_minor": 2
}
