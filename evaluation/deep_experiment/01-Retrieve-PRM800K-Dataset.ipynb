{
 "cells": [
  {
   "cell_type": "markdown",
   "metadata": {},
   "source": [
    "# Retrieve PRM800K Dataset"
   ]
  },
  {
   "cell_type": "markdown",
   "metadata": {},
   "source": [
    "## Setup"
   ]
  },
  {
   "cell_type": "code",
   "execution_count": 1,
   "metadata": {},
   "outputs": [
    {
     "name": "stderr",
     "output_type": "stream",
     "text": [
      "/Users/eugeniusms/Development/SKRIPSI/sevet/env/lib/python3.11/site-packages/tqdm/auto.py:21: TqdmWarning: IProgress not found. Please update jupyter and ipywidgets. See https://ipywidgets.readthedocs.io/en/stable/user_install.html\n",
      "  from .autonotebook import tqdm as notebook_tqdm\n"
     ]
    }
   ],
   "source": [
    "# Setup and Imports\n",
    "import pandas as pd\n",
    "import textgrad as tg\n",
    "from datasets import load_dataset"
   ]
  },
  {
   "cell_type": "markdown",
   "metadata": {},
   "source": [
    "## Load Datasets"
   ]
  },
  {
   "cell_type": "code",
   "execution_count": 2,
   "metadata": {},
   "outputs": [],
   "source": [
    "# Dataset Loading Function\n",
    "def load_prm800k_safely():\n",
    "    \"\"\"Load PRM800K with error handling\"\"\"\n",
    "    \n",
    "    try:\n",
    "        print(\"Attempting to load PRM800K dataset...\")\n",
    "        \n",
    "        # Loading with streaming first (safer for large datasets)\n",
    "        dataset = load_dataset(\"tasksource/PRM800K\", streaming=True)\n",
    "        print(\"[V] Successfully loaded PRM800K in streaming mode\")\n",
    "        return dataset, \"streaming\"\n",
    "        \n",
    "    except Exception as e:\n",
    "        print(f\"[X] Streaming failed: {e}\")"
   ]
  },
  {
   "cell_type": "code",
   "execution_count": 3,
   "metadata": {},
   "outputs": [
    {
     "name": "stdout",
     "output_type": "stream",
     "text": [
      "Attempting to load PRM800K dataset...\n",
      "[V] Successfully loaded PRM800K in streaming mode\n"
     ]
    }
   ],
   "source": [
    "# Load dataset\n",
    "dataset_stream, load_method = load_prm800k_safely()"
   ]
  },
  {
   "cell_type": "code",
   "execution_count": 4,
   "metadata": {},
   "outputs": [
    {
     "data": {
      "text/plain": [
       "IterableDatasetDict({\n",
       "    train: IterableDataset({\n",
       "        features: Unknown,\n",
       "        num_shards: 2\n",
       "    })\n",
       "    test: IterableDataset({\n",
       "        features: Unknown,\n",
       "        num_shards: 2\n",
       "    })\n",
       "})"
      ]
     },
     "execution_count": 4,
     "metadata": {},
     "output_type": "execute_result"
    }
   ],
   "source": [
    "dataset_stream"
   ]
  },
  {
   "cell_type": "code",
   "execution_count": 5,
   "metadata": {},
   "outputs": [
    {
     "data": {
      "text/html": [
       "<div>\n",
       "<style scoped>\n",
       "    .dataframe tbody tr th:only-of-type {\n",
       "        vertical-align: middle;\n",
       "    }\n",
       "\n",
       "    .dataframe tbody tr th {\n",
       "        vertical-align: top;\n",
       "    }\n",
       "\n",
       "    .dataframe thead th {\n",
       "        text-align: right;\n",
       "    }\n",
       "</style>\n",
       "<table border=\"1\" class=\"dataframe\">\n",
       "  <thead>\n",
       "    <tr style=\"text-align: right;\">\n",
       "      <th></th>\n",
       "      <th>labeler</th>\n",
       "      <th>timestamp</th>\n",
       "      <th>generation</th>\n",
       "      <th>is_quality_control_question</th>\n",
       "      <th>is_initial_screening_question</th>\n",
       "      <th>question</th>\n",
       "      <th>label</th>\n",
       "    </tr>\n",
       "  </thead>\n",
       "  <tbody>\n",
       "    <tr>\n",
       "      <th>0</th>\n",
       "      <td>e90a38f3-3135-4465-87af-3e6322e3d772</td>\n",
       "      <td>2022-07-13T18:55:54.496450</td>\n",
       "      <td>None</td>\n",
       "      <td>False</td>\n",
       "      <td>False</td>\n",
       "      <td>{'problem': 'How many seconds are in 7.8 minut...</td>\n",
       "      <td>{'steps': [{'completions': [{'text': '7.8 minu...</td>\n",
       "    </tr>\n",
       "    <tr>\n",
       "      <th>1</th>\n",
       "      <td>e90a38f3-3135-4465-87af-3e6322e3d772</td>\n",
       "      <td>2022-07-17T16:56:51.323252</td>\n",
       "      <td>None</td>\n",
       "      <td>False</td>\n",
       "      <td>False</td>\n",
       "      <td>{'problem': 'How many positive two-digit integ...</td>\n",
       "      <td>{'steps': [{'completions': [{'text': \"Let's ca...</td>\n",
       "    </tr>\n",
       "    <tr>\n",
       "      <th>2</th>\n",
       "      <td>e90a38f3-3135-4465-87af-3e6322e3d772</td>\n",
       "      <td>2022-07-02T18:33:27.255302</td>\n",
       "      <td>None</td>\n",
       "      <td>False</td>\n",
       "      <td>False</td>\n",
       "      <td>{'problem': 'The fifth and eighth terms of a g...</td>\n",
       "      <td>{'steps': [{'completions': [{'text': 'So we ha...</td>\n",
       "    </tr>\n",
       "  </tbody>\n",
       "</table>\n",
       "</div>"
      ],
      "text/plain": [
       "                                labeler                   timestamp  \\\n",
       "0  e90a38f3-3135-4465-87af-3e6322e3d772  2022-07-13T18:55:54.496450   \n",
       "1  e90a38f3-3135-4465-87af-3e6322e3d772  2022-07-17T16:56:51.323252   \n",
       "2  e90a38f3-3135-4465-87af-3e6322e3d772  2022-07-02T18:33:27.255302   \n",
       "\n",
       "  generation  is_quality_control_question  is_initial_screening_question  \\\n",
       "0       None                        False                          False   \n",
       "1       None                        False                          False   \n",
       "2       None                        False                          False   \n",
       "\n",
       "                                            question  \\\n",
       "0  {'problem': 'How many seconds are in 7.8 minut...   \n",
       "1  {'problem': 'How many positive two-digit integ...   \n",
       "2  {'problem': 'The fifth and eighth terms of a g...   \n",
       "\n",
       "                                               label  \n",
       "0  {'steps': [{'completions': [{'text': '7.8 minu...  \n",
       "1  {'steps': [{'completions': [{'text': \"Let's ca...  \n",
       "2  {'steps': [{'completions': [{'text': 'So we ha...  "
      ]
     },
     "execution_count": 5,
     "metadata": {},
     "output_type": "execute_result"
    }
   ],
   "source": [
    "samples = []\n",
    "for example in dataset_stream[\"train\"].take(3):\n",
    "    samples.append(example)\n",
    "\n",
    "df_samples = pd.DataFrame(samples)\n",
    "df_samples"
   ]
  },
  {
   "cell_type": "code",
   "execution_count": 6,
   "metadata": {},
   "outputs": [],
   "source": [
    "df_samples.to_csv('dataset/prm800k.csv', index=False)"
   ]
  }
 ],
 "metadata": {
  "kernelspec": {
   "display_name": "Python 3.11.6 ('env': venv)",
   "language": "python",
   "name": "python3"
  },
  "language_info": {
   "codemirror_mode": {
    "name": "ipython",
    "version": 3
   },
   "file_extension": ".py",
   "mimetype": "text/x-python",
   "name": "python",
   "nbconvert_exporter": "python",
   "pygments_lexer": "ipython3",
   "version": "3.11.6"
  },
  "orig_nbformat": 4,
  "vscode": {
   "interpreter": {
    "hash": "860e0dc2175a55dd9a80ac360791d93c13f4935a3c9aca3a9a76262c7d69eace"
   }
  }
 },
 "nbformat": 4,
 "nbformat_minor": 2
}
