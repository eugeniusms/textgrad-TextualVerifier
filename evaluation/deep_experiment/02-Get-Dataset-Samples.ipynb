{
 "cells": [
  {
   "cell_type": "markdown",
   "metadata": {},
   "source": [
    "# Build Initial Solution Dataset"
   ]
  },
  {
   "cell_type": "markdown",
   "metadata": {},
   "source": [
    "## Setup"
   ]
  },
  {
   "cell_type": "code",
   "execution_count": null,
   "metadata": {},
   "outputs": [],
   "source": [
    "# Setup and Imports\n",
    "import json\n",
    "import pandas as pd"
   ]
  },
  {
   "cell_type": "markdown",
   "metadata": {},
   "source": [
    "## Load Datasets"
   ]
  },
  {
   "cell_type": "code",
   "execution_count": null,
   "metadata": {},
   "outputs": [],
   "source": [
    "prm800k_train = pd.read_csv(\"dataset/prm800k-train.csv\")\n",
    "prm800k_train"
   ]
  },
  {
   "cell_type": "code",
   "execution_count": null,
   "metadata": {},
   "outputs": [],
   "source": [
    "prm800k_test = pd.read_csv(\"dataset/prm800k-test.csv\")\n",
    "prm800k_test"
   ]
  },
  {
   "cell_type": "markdown",
   "metadata": {},
   "source": [
    "## Get Dataset Samples"
   ]
  },
  {
   "cell_type": "markdown",
   "metadata": {},
   "source": [
    "*The Strategy*\n",
    "Idea: Disquality Not Important Datas\n",
    "Collect Dataset Sample with Slicing from Big to Small\n",
    "\n",
    "1. Get Rows That Contains -1, 0, 1 (other Rows need dropped)"
   ]
  },
  {
   "cell_type": "code",
   "execution_count": null,
   "metadata": {},
   "outputs": [],
   "source": [
    "import json\n",
    "import ast\n",
    "\n",
    "def string_to_dict(input_string):\n",
    "    input_string = input_string.strip()\n",
    "\n",
    "    try:\n",
    "        json_string = input_string.replace(\"'\", '\"')\n",
    "        json_string = json_string.replace('True', 'true').replace('False', 'false').replace('None', 'null')\n",
    "        return json.loads(json_string)\n",
    "    except (json.JSONDecodeError, ValueError):\n",
    "        pass\n",
    "    \n",
    "    try:\n",
    "        return ast.literal_eval(input_string)\n",
    "    except (ValueError, SyntaxError):\n",
    "        pass\n",
    "    \n",
    "    try:\n",
    "        if input_string.strip().startswith('{') and input_string.strip().endswith('}'):\n",
    "            return eval(input_string)\n",
    "    except:\n",
    "        pass\n",
    "\n",
    "    raise ValueError(f\"Cannot parse string as dictionary: {input_string[:100]}...\")"
   ]
  },
  {
   "cell_type": "markdown",
   "metadata": {},
   "source": [
    "### 1. Get Rows That Contains -1, 0, 1 (other Rows need dropped)"
   ]
  },
  {
   "cell_type": "code",
   "execution_count": null,
   "metadata": {},
   "outputs": [],
   "source": [
    "def check_rating_completion(step):\n",
    "    is_neg_1 = False\n",
    "    is_zero = False\n",
    "    is_pos_1 = False\n",
    "    neg_1 = 0\n",
    "    zero = 0\n",
    "    pos_1 = 0\n",
    "    \n",
    "    for idx, completion in enumerate(step['completions']):\n",
    "        rating = completion['rating']\n",
    "        if rating == -1 and not is_neg_1:\n",
    "            is_neg_1 = True\n",
    "            neg_1 += 1\n",
    "        elif rating == 0 and not is_zero:\n",
    "            is_zero = True\n",
    "            zero += 1\n",
    "        elif rating == 1 and not is_pos_1:\n",
    "            is_pos_1 = True\n",
    "            pos_1 += 1\n",
    "    \n",
    "    return is_neg_1, is_zero, is_pos_1, neg_1, zero, pos_1"
   ]
  },
  {
   "cell_type": "code",
   "execution_count": null,
   "metadata": {},
   "outputs": [],
   "source": [
    "def get_row_contains_all_rating(prm800k_train):\n",
    "    results = []\n",
    "    \n",
    "    for index, row in prm800k_train.iterrows():\n",
    "        row_neg_1 = 0\n",
    "        row_zero = 0\n",
    "        row_pos_1 = 0\n",
    "        total_steps_have_combination = 0\n",
    "\n",
    "        try:\n",
    "            data = string_to_dict(row['label'])\n",
    "            \n",
    "            # Process each step\n",
    "            for step_no, step in enumerate(data['steps']):\n",
    "                is_neg_1, is_zero, is_pos_1, neg_1, zero, pos_1 = check_rating_completion(step)\n",
    "                row_neg_1 += neg_1\n",
    "                row_zero += zero\n",
    "                row_pos_1 += pos_1\n",
    "                \n",
    "                # In one steps combined from 3 category\n",
    "                if is_neg_1 and is_zero and is_pos_1: \n",
    "                    total_steps_have_combination += 1\n",
    "\n",
    "            if row_neg_1 > 1 and row_zero > 1 and row_pos_1 > 1 and total_steps_have_combination > 0:\n",
    "                new_result = {\n",
    "                    **row.to_dict(),\n",
    "                    \"row_neg_1\": row_neg_1,\n",
    "                    \"row_zero\": row_zero,\n",
    "                    \"row_pos_1\": row_pos_1,\n",
    "                    \"total_steps_have_combination\": total_steps_have_combination,\n",
    "                }\n",
    "                results.append(new_result)\n",
    "        \n",
    "        except Exception as e:\n",
    "            print(f\"Error processing row {index}: {e}\")\n",
    "            continue\n",
    "    \n",
    "    # Create DataFrame from results\n",
    "    results_df = pd.DataFrame(results)\n",
    "    return results_df"
   ]
  },
  {
   "cell_type": "code",
   "execution_count": null,
   "metadata": {},
   "outputs": [],
   "source": [
    "df_contains_all_rating = get_row_contains_all_rating(prm800k_train)\n",
    "df_contains_all_rating.to_csv('dataset/prm800k-experiment-01-contains-all-rating.csv', index=False)"
   ]
  },
  {
   "cell_type": "code",
   "execution_count": null,
   "metadata": {},
   "outputs": [],
   "source": [
    "df_contains_all_rating"
   ]
  },
  {
   "cell_type": "markdown",
   "metadata": {},
   "source": [
    "### Versioning:\n",
    "1. v1.0: row_neg_1 > 0 and row_zero > 0 and row_pos_1 > 0: 37,543 rows\n",
    "2. v2.0: row_neg_1 > 0 and row_zero > 0 and row_pos_1 > 0 and total_steps_have_combination > 0: 16,535 rows\n",
    "3. v3.0: row_neg_1 > 1 and row_zero > 1 and row_pos_1 > 1 and total_steps_have_combination > 0: 385 rows"
   ]
  }
 ],
 "metadata": {
  "kernelspec": {
   "display_name": "Python 3.11.6 ('env': venv)",
   "language": "python",
   "name": "python3"
  },
  "language_info": {
   "codemirror_mode": {
    "name": "ipython",
    "version": 3
   },
   "file_extension": ".py",
   "mimetype": "text/x-python",
   "name": "python",
   "nbconvert_exporter": "python",
   "pygments_lexer": "ipython3",
   "version": "3.11.6"
  },
  "orig_nbformat": 4,
  "vscode": {
   "interpreter": {
    "hash": "860e0dc2175a55dd9a80ac360791d93c13f4935a3c9aca3a9a76262c7d69eace"
   }
  }
 },
 "nbformat": 4,
 "nbformat_minor": 2
}
