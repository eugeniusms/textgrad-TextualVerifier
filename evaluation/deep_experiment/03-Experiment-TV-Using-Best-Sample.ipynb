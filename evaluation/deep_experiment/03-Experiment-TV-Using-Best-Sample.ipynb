{
 "cells": [
  {
   "cell_type": "markdown",
   "metadata": {},
   "source": [
    "# Updated Experiment TV Using Best Sample"
   ]
  },
  {
   "cell_type": "code",
   "execution_count": 1,
   "metadata": {},
   "outputs": [
    {
     "ename": "ImportError",
     "evalue": "cannot import name 'TextualVerifierExperiment' from 'textgrad.verifier' (/Users/eugeniusms/Development/SKRIPSI/sevet/textgrad/textgrad/verifier/__init__.py)",
     "output_type": "error",
     "traceback": [
      "\u001b[31m---------------------------------------------------------------------------\u001b[39m",
      "\u001b[31mImportError\u001b[39m                               Traceback (most recent call last)",
      "\u001b[36mCell\u001b[39m\u001b[36m \u001b[39m\u001b[32mIn[1]\u001b[39m\u001b[32m, line 12\u001b[39m\n\u001b[32m      9\u001b[39m \u001b[38;5;28;01mfrom\u001b[39;00m\u001b[38;5;250m \u001b[39m\u001b[34;01mdataclasses\u001b[39;00m\u001b[38;5;250m \u001b[39m\u001b[38;5;28;01mimport\u001b[39;00m dataclass, asdict\n\u001b[32m     10\u001b[39m \u001b[38;5;28;01mfrom\u001b[39;00m\u001b[38;5;250m \u001b[39m\u001b[34;01mtyping\u001b[39;00m\u001b[38;5;250m \u001b[39m\u001b[38;5;28;01mimport\u001b[39;00m List, Dict, Any, Optional\n\u001b[32m---> \u001b[39m\u001b[32m12\u001b[39m \u001b[38;5;28;01mimport\u001b[39;00m\u001b[38;5;250m \u001b[39m\u001b[34;01mtextgrad\u001b[39;00m\u001b[38;5;250m \u001b[39m\u001b[38;5;28;01mas\u001b[39;00m\u001b[38;5;250m \u001b[39m\u001b[34;01mtg\u001b[39;00m\n\u001b[32m     13\u001b[39m \u001b[38;5;28;01mfrom\u001b[39;00m\u001b[38;5;250m \u001b[39m\u001b[34;01mtextgrad\u001b[39;00m\u001b[34;01m.\u001b[39;00m\u001b[34;01mengine\u001b[39;00m\u001b[38;5;250m \u001b[39m\u001b[38;5;28;01mimport\u001b[39;00m get_engine\n\u001b[32m     14\u001b[39m \u001b[38;5;28;01mfrom\u001b[39;00m\u001b[38;5;250m \u001b[39m\u001b[34;01mtextgrad\u001b[39;00m\u001b[34;01m.\u001b[39;00m\u001b[34;01mvariable\u001b[39;00m\u001b[38;5;250m \u001b[39m\u001b[38;5;28;01mimport\u001b[39;00m Variable\n",
      "\u001b[36mFile \u001b[39m\u001b[32m~/Development/SKRIPSI/sevet/textgrad/textgrad/__init__.py:33\u001b[39m\n\u001b[32m     31\u001b[39m \u001b[38;5;28;01mfrom\u001b[39;00m\u001b[38;5;250m \u001b[39m\u001b[34;01m.\u001b[39;00m\u001b[34;01mconfig\u001b[39;00m\u001b[38;5;250m \u001b[39m\u001b[38;5;28;01mimport\u001b[39;00m set_backward_engine, SingletonBackwardEngine\n\u001b[32m     32\u001b[39m \u001b[38;5;28;01mfrom\u001b[39;00m\u001b[38;5;250m \u001b[39m\u001b[34;01m.\u001b[39;00m\u001b[34;01mautograd\u001b[39;00m\u001b[38;5;250m \u001b[39m\u001b[38;5;28;01mimport\u001b[39;00m \u001b[38;5;28msum\u001b[39m, aggregate\n\u001b[32m---> \u001b[39m\u001b[32m33\u001b[39m \u001b[38;5;28;01mfrom\u001b[39;00m\u001b[38;5;250m \u001b[39m\u001b[34;01m.\u001b[39;00m\u001b[34;01mverifier\u001b[39;00m\u001b[38;5;250m \u001b[39m\u001b[38;5;28;01mimport\u001b[39;00m (\n\u001b[32m     34\u001b[39m     Verifier, \n\u001b[32m     35\u001b[39m     TextualVerifierV1, \n\u001b[32m     36\u001b[39m     TextualVerifierV2, \n\u001b[32m     37\u001b[39m     TextualVerifierV3,\n\u001b[32m     38\u001b[39m     TextualVerifierV4,\n\u001b[32m     39\u001b[39m     TextualVerifier,\n\u001b[32m     40\u001b[39m     TextualVerifierWithTracker,\n\u001b[32m     41\u001b[39m     TextualVerifierExperiment,\n\u001b[32m     42\u001b[39m )\n\u001b[32m     44\u001b[39m singleton_backward_engine = SingletonBackwardEngine()\n",
      "\u001b[31mImportError\u001b[39m: cannot import name 'TextualVerifierExperiment' from 'textgrad.verifier' (/Users/eugeniusms/Development/SKRIPSI/sevet/textgrad/textgrad/verifier/__init__.py)"
     ]
    }
   ],
   "source": [
    "import ast\n",
    "import time\n",
    "import json\n",
    "import tiktoken\n",
    "import pandas as pd\n",
    "from concurrent.futures import ThreadPoolExecutor, as_completed\n",
    "from tqdm import tqdm\n",
    "from threading import Lock\n",
    "from dataclasses import dataclass, asdict\n",
    "from typing import List, Dict, Any, Optional\n",
    "\n",
    "import textgrad as tg\n",
    "from textgrad.engine import get_engine\n",
    "from textgrad.variable import Variable\n",
    "from textgrad.verifier import TextualVerifierWithTracker"
   ]
  },
  {
   "cell_type": "markdown",
   "metadata": {},
   "source": [
    "## Load Dataset"
   ]
  },
  {
   "cell_type": "code",
   "execution_count": null,
   "metadata": {},
   "outputs": [],
   "source": [
    "sample = pd.read_csv(\"dataset/sample/prm800k-03-algo3-clean.csv\")\n",
    "sample"
   ]
  },
  {
   "cell_type": "markdown",
   "metadata": {},
   "source": [
    "## Experiment"
   ]
  },
  {
   "cell_type": "code",
   "execution_count": null,
   "metadata": {},
   "outputs": [],
   "source": [
    "engine = get_engine(\"gemini-1.5-pro\")\n",
    "tg.set_backward_engine(\"gemini-1.5-pro\", override=True)\n",
    "model_name=\"gemini-1.5-pro\""
   ]
  },
  {
   "cell_type": "markdown",
   "metadata": {},
   "source": [
    "## Experiment Tracker"
   ]
  },
  {
   "cell_type": "code",
   "execution_count": null,
   "metadata": {},
   "outputs": [],
   "source": []
  },
  {
   "cell_type": "markdown",
   "metadata": {},
   "source": [
    "## Expriment Iterations"
   ]
  },
  {
   "cell_type": "code",
   "execution_count": null,
   "metadata": {},
   "outputs": [],
   "source": [
    "def format_steps(steps):\n",
    "    formatted_steps = \"\"\n",
    "    for step in steps:\n",
    "        new_step = f\"<STEP>{step['text']}</STEP>\\n\"\n",
    "        formatted_steps += new_step\n",
    "    return formatted_steps"
   ]
  },
  {
   "cell_type": "code",
   "execution_count": null,
   "metadata": {},
   "outputs": [],
   "source": [
    "# Thread-safe results collection\n",
    "results_lock = Lock()\n",
    "results = []\n",
    "\n",
    "def evaluate_sample(row_dict, engine):\n",
    "    try:\n",
    "        # Extract problem data\n",
    "        problem = row_dict['problem']\n",
    "        steps_list = ast.literal_eval(row_dict['steps']) if isinstance(row_dict['steps'], str) else row_dict['steps']\n",
    "        solution_steps = format_steps(steps_list)\n",
    "        problem_id = f\"problem_{hash(problem)}\"\n",
    "        \n",
    "        # Variables\n",
    "        question = Variable(problem,\n",
    "                    requires_grad=False,\n",
    "                    role_description=\"math question\")\n",
    "        instruction = Variable(\"\"\"You will answering a math question. \n",
    "                                Please using step-by-step explanation. Be super concise.\"\"\",\n",
    "                                requires_grad=False,\n",
    "                                role_description=\"instruction\")\n",
    "        calculation = Variable(solution_steps,\n",
    "                                requires_grad=True,\n",
    "                                role_description=\"solution to the math question\")\n",
    "\n",
    "        verification_task_prompts = [\n",
    "            # Perspective 1: Rule-based verifier (objective, procedural)\n",
    "            \"\"\"\n",
    "            Evaluate the calculation step strictly based on mathematical correctness and procedural rules. \n",
    "            If the step violates any algebraic or logical principle, replace it with the corrected version of that step only. \n",
    "            Do not proceed to solve the full problem.\n",
    "            Please proceed output with \n",
    "            \"\"\",\n",
    "\n",
    "            # Perspective 2: Teaching assistant (didactic, pedagogical)\n",
    "            \"\"\"\n",
    "            Review the calculation step from the perspective of a teaching assistant helping a student learn. \n",
    "            If there's an error or suboptimal explanation, provide a corrected version that would best aid the student's understanding. \n",
    "            Focus only on the step in question, without solving the full problem.\n",
    "            \"\"\",\n",
    "\n",
    "            # Perspective 3: Exam grader (concise, evaluative)\n",
    "            \"\"\"\n",
    "            Assess the calculation step as an exam grader would when evaluating a student's solution. \n",
    "            Identify whether the step is mathematically valid and aligns with standard problem-solving conventions. \n",
    "            If incorrect, rewrite only the flawed step to reflect what a student should have written to receive full credit. \n",
    "            Avoid expanding beyond the current step or solving the entire problem.\n",
    "            \"\"\"\n",
    "        ]\n",
    "\n",
    "        # Verifier\n",
    "        verifier = TextualVerifierWithTracker(\n",
    "            verifier_engine=engine, \n",
    "            use_cot_generation=False,\n",
    "            use_step_breakdown=True,\n",
    "            verification_task_prompts=verification_task_prompts,\n",
    "            enable_logging=True\n",
    "        )\n",
    "        # Verify\n",
    "        verified_result = verifier.verify(instance=question,\n",
    "                                        instruction=instruction,\n",
    "                                        calculation=calculation)      \n",
    "\n",
    "        # Tracker data\n",
    "        tracker_data = verifier.get_tracker()      \n",
    "            \n",
    "        # Extract metrics for return\n",
    "        experiment_data = {\n",
    "            'problem_id': problem_id,\n",
    "            'original_problem': problem,\n",
    "            'original_solution': solution_steps,\n",
    "            'verified_solution': verified_result.value,\n",
    "            'success': True,\n",
    "            'error_message': None,\n",
    "            'processing_time_ms': tracker_data['processing_time_ms'],\n",
    "            'total_llm_calls': tracker_data['total_llm_calls'],\n",
    "            'total_input_tokens': tracker_data['total_input_tokens'],\n",
    "            'total_output_tokens': tracker_data['total_output_tokens'],\n",
    "            'result': tracker_data \n",
    "        }\n",
    "        \n",
    "        return experiment_data\n",
    "            \n",
    "    except Exception as e:\n",
    "        # Return error information\n",
    "        return {\n",
    "            'problem_id': f\"problem_{hash(row_dict.get('problem', 'unknown'))}\",\n",
    "            'original_problem': row_dict.get('problem', ''),\n",
    "            'original_solution': '',\n",
    "            'verified_solution': '',\n",
    "            'success': False,\n",
    "            'error_message': str(e),\n",
    "            'processing_time_ms': 0,\n",
    "            'total_llm_calls': 0,\n",
    "            'total_input_tokens': 0,\n",
    "            'total_output_tokens': 0,\n",
    "            'result': {}  # Empty result for errors\n",
    "        }"
   ]
  },
  {
   "cell_type": "code",
   "execution_count": null,
   "metadata": {},
   "outputs": [],
   "source": [
    "def run_experiment():\n",
    "    \"\"\"Example of how to run the modified experiment\"\"\"\n",
    "    results = []\n",
    "    start_time = time.time()\n",
    "    \n",
    "    with ThreadPoolExecutor(max_workers=8) as executor:\n",
    "        futures = [\n",
    "            executor.submit(evaluate_sample, row.to_dict(), engine) \n",
    "            for _, row in sample.iterrows()  # Your slice\n",
    "        ]\n",
    "        \n",
    "        for future in tqdm(as_completed(futures), total=len(futures), desc=\"Processing\"):\n",
    "            try:\n",
    "                result = future.result(timeout=300)\n",
    "                if result is not None:\n",
    "                    results.append(result)\n",
    "            except Exception as e:\n",
    "                print(f\"Task failed: {e}\")\n",
    "                error_result = {\n",
    "                    'success': False,\n",
    "                    'error_message': str(e),\n",
    "                    'final_decision': 'ERROR',\n",
    "                    'result': {\"steps\": []}\n",
    "                }\n",
    "                results.append(error_result)\n",
    "    \n",
    "    # Create DataFrame with detailed results\n",
    "    experiment_df = pd.DataFrame(results)\n",
    "    \n",
    "    print(f\"Completed in {time.time() - start_time:.1f} seconds\")\n",
    "    \n",
    "    # Save results \n",
    "    experiment_df.to_csv('results/prm800k-03-algo3-clean.csv', index=False)\n",
    "    \n",
    "    return experiment_df"
   ]
  },
  {
   "cell_type": "code",
   "execution_count": null,
   "metadata": {},
   "outputs": [],
   "source": [
    "run_experiment()"
   ]
  }
 ],
 "metadata": {
  "kernelspec": {
   "display_name": "Python 3.11.6 ('env': venv)",
   "language": "python",
   "name": "python3"
  },
  "language_info": {
   "codemirror_mode": {
    "name": "ipython",
    "version": 3
   },
   "file_extension": ".py",
   "mimetype": "text/x-python",
   "name": "python",
   "nbconvert_exporter": "python",
   "pygments_lexer": "ipython3",
   "version": "3.11.6"
  },
  "orig_nbformat": 4,
  "vscode": {
   "interpreter": {
    "hash": "860e0dc2175a55dd9a80ac360791d93c13f4935a3c9aca3a9a76262c7d69eace"
   }
  }
 },
 "nbformat": 4,
 "nbformat_minor": 2
}
