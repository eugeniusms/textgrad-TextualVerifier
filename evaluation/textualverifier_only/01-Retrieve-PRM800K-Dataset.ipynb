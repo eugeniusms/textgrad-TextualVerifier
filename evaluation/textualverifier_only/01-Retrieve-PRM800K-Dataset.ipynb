{
 "cells": [
  {
   "cell_type": "markdown",
   "metadata": {},
   "source": [
    "# Retrieve PRM800K Dataset"
   ]
  },
  {
   "cell_type": "markdown",
   "metadata": {},
   "source": [
    "## Setup"
   ]
  },
  {
   "cell_type": "code",
   "execution_count": null,
   "metadata": {},
   "outputs": [],
   "source": [
    "# Setup and Imports\n",
    "import pandas as pd\n",
    "import textgrad as tg\n",
    "from datasets import load_dataset"
   ]
  },
  {
   "cell_type": "markdown",
   "metadata": {},
   "source": [
    "## Load Datasets"
   ]
  },
  {
   "cell_type": "code",
   "execution_count": null,
   "metadata": {},
   "outputs": [],
   "source": [
    "# Dataset Loading Function\n",
    "def load_prm800k_safely():\n",
    "    \"\"\"Load PRM800K with error handling\"\"\"\n",
    "    \n",
    "    try:\n",
    "        print(\"Attempting to load PRM800K dataset...\")\n",
    "        \n",
    "        # Loading with streaming first (safer for large datasets)\n",
    "        dataset = load_dataset(\"tasksource/PRM800K\", streaming=True)\n",
    "        print(\"[V] Successfully loaded PRM800K in streaming mode\")\n",
    "        return dataset, \"streaming\"\n",
    "        \n",
    "    except Exception as e:\n",
    "        print(f\"[X] Streaming failed: {e}\")"
   ]
  },
  {
   "cell_type": "code",
   "execution_count": null,
   "metadata": {},
   "outputs": [],
   "source": [
    "# Load dataset\n",
    "dataset_stream, load_method = load_prm800k_safely()"
   ]
  },
  {
   "cell_type": "code",
   "execution_count": null,
   "metadata": {},
   "outputs": [],
   "source": [
    "dataset_stream"
   ]
  },
  {
   "cell_type": "code",
   "execution_count": null,
   "metadata": {},
   "outputs": [],
   "source": [
    "# df_sample_train = pd.DataFrame(example for example in dataset_stream[\"train\"])"
   ]
  },
  {
   "cell_type": "code",
   "execution_count": null,
   "metadata": {},
   "outputs": [],
   "source": [
    "df_sample_test = pd.DataFrame(example for example in dataset_stream[\"test\"])"
   ]
  },
  {
   "cell_type": "code",
   "execution_count": null,
   "metadata": {},
   "outputs": [],
   "source": [
    "# df_sample_train.to_csv('dataset/prm800k-train.csv', index=False)"
   ]
  },
  {
   "cell_type": "code",
   "execution_count": null,
   "metadata": {},
   "outputs": [],
   "source": [
    "df_sample_test.to_csv('datasets/prm800k-test.csv', index=False)"
   ]
  }
 ],
 "metadata": {
  "kernelspec": {
   "display_name": "Python 3.11.6 64-bit ('3.11.6')",
   "language": "python",
   "name": "python3"
  },
  "language_info": {
   "codemirror_mode": {
    "name": "ipython",
    "version": 3
   },
   "file_extension": ".py",
   "mimetype": "text/x-python",
   "name": "python",
   "nbconvert_exporter": "python",
   "pygments_lexer": "ipython3",
   "version": "3.11.6"
  },
  "orig_nbformat": 4,
  "vscode": {
   "interpreter": {
    "hash": "4b649c18c59123e9cb819750d1a320031f2b93bee7a3106a6e5d9c7574eec0da"
   }
  }
 },
 "nbformat": 4,
 "nbformat_minor": 2
}
