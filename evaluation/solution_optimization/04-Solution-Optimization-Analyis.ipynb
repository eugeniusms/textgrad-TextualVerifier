{
 "cells": [
  {
   "cell_type": "markdown",
   "metadata": {},
   "source": [
    "# Solution Optimization Analysis"
   ]
  },
  {
   "cell_type": "code",
   "execution_count": 72,
   "metadata": {},
   "outputs": [],
   "source": [
    "import re\n",
    "import pandas as pd\n",
    "from collections import Counter"
   ]
  },
  {
   "cell_type": "markdown",
   "metadata": {},
   "source": [
    "## Load Datasets"
   ]
  },
  {
   "cell_type": "code",
   "execution_count": 73,
   "metadata": {},
   "outputs": [
    {
     "data": {
      "text/html": [
       "<div>\n",
       "<style scoped>\n",
       "    .dataframe tbody tr th:only-of-type {\n",
       "        vertical-align: middle;\n",
       "    }\n",
       "\n",
       "    .dataframe tbody tr th {\n",
       "        vertical-align: top;\n",
       "    }\n",
       "\n",
       "    .dataframe thead th {\n",
       "        text-align: right;\n",
       "    }\n",
       "</style>\n",
       "<table border=\"1\" class=\"dataframe\">\n",
       "  <thead>\n",
       "    <tr style=\"text-align: right;\">\n",
       "      <th></th>\n",
       "      <th>id</th>\n",
       "      <th>raw_solution</th>\n",
       "      <th>correct_answer</th>\n",
       "      <th>source</th>\n",
       "      <th>subject</th>\n",
       "      <th>solution_1</th>\n",
       "      <th>solution_2</th>\n",
       "      <th>solution_3</th>\n",
       "      <th>solution_4</th>\n",
       "      <th>solution_5</th>\n",
       "    </tr>\n",
       "  </thead>\n",
       "  <tbody>\n",
       "    <tr>\n",
       "      <th>0</th>\n",
       "      <td>2</td>\n",
       "      <td>Here's how we can determine the number of carb...</td>\n",
       "      <td>A</td>\n",
       "      <td>GPQA-Diamond</td>\n",
       "      <td>-</td>\n",
       "      <td>Here's how we can determine the number of carb...</td>\n",
       "      <td>Here's how we can determine the number of carb...</td>\n",
       "      <td>Here's how we can determine the number of carb...</td>\n",
       "      <td>Here's how we can determine the number of carb...</td>\n",
       "      <td>Here's how we can determine the number of carb...</td>\n",
       "    </tr>\n",
       "    <tr>\n",
       "      <th>1</th>\n",
       "      <td>1</td>\n",
       "      <td>The energy-time uncertainty principle states t...</td>\n",
       "      <td>D</td>\n",
       "      <td>GPQA-Diamond</td>\n",
       "      <td>-</td>\n",
       "      <td>The energy-time uncertainty principle states t...</td>\n",
       "      <td>The energy-time uncertainty principle states t...</td>\n",
       "      <td>The energy-time uncertainty principle states t...</td>\n",
       "      <td>The energy-time uncertainty principle states t...</td>\n",
       "      <td>The energy-time uncertainty principle states t...</td>\n",
       "    </tr>\n",
       "  </tbody>\n",
       "</table>\n",
       "</div>"
      ],
      "text/plain": [
       "   id                                       raw_solution correct_answer  \\\n",
       "0   2  Here's how we can determine the number of carb...              A   \n",
       "1   1  The energy-time uncertainty principle states t...              D   \n",
       "\n",
       "         source subject                                         solution_1  \\\n",
       "0  GPQA-Diamond       -  Here's how we can determine the number of carb...   \n",
       "1  GPQA-Diamond       -  The energy-time uncertainty principle states t...   \n",
       "\n",
       "                                          solution_2  \\\n",
       "0  Here's how we can determine the number of carb...   \n",
       "1  The energy-time uncertainty principle states t...   \n",
       "\n",
       "                                          solution_3  \\\n",
       "0  Here's how we can determine the number of carb...   \n",
       "1  The energy-time uncertainty principle states t...   \n",
       "\n",
       "                                          solution_4  \\\n",
       "0  Here's how we can determine the number of carb...   \n",
       "1  The energy-time uncertainty principle states t...   \n",
       "\n",
       "                                          solution_5  \n",
       "0  Here's how we can determine the number of carb...  \n",
       "1  The energy-time uncertainty principle states t...  "
      ]
     },
     "execution_count": 73,
     "metadata": {},
     "output_type": "execute_result"
    }
   ],
   "source": [
    "raw_textgrad = pd.read_csv(\"results/raw_textgrad.csv\")\n",
    "raw_textgrad"
   ]
  },
  {
   "cell_type": "markdown",
   "metadata": {},
   "source": [
    "## Functions"
   ]
  },
  {
   "cell_type": "code",
   "execution_count": 74,
   "metadata": {},
   "outputs": [],
   "source": [
    "def extract_answer(text):\n",
    "    # Now extract correctly\n",
    "    match = re.search(r\"(?i)Answer\\s*:\\s*([A-D])\", text, re.IGNORECASE)\n",
    "    if match:\n",
    "        return match.group(1).upper()\n",
    "    return None\n"
   ]
  },
  {
   "cell_type": "code",
   "execution_count": 75,
   "metadata": {},
   "outputs": [],
   "source": [
    "def process_answer(row_data):\n",
    "    data = {\n",
    "        \"correct_answer\": row_data[\"correct_answer\"],\n",
    "        \"initial_answer\": extract_answer(row_data[\"raw_solution\"]),\n",
    "        \"solution_answer_1\": extract_answer(row_data[\"solution_1\"]),\n",
    "        \"solution_answer_2\": extract_answer(row_data[\"solution_2\"]),\n",
    "        \"solution_answer_3\": extract_answer(row_data[\"solution_3\"]),\n",
    "        \"solution_answer_4\": extract_answer(row_data[\"solution_4\"]),\n",
    "        \"final_answer\": extract_answer(row_data[\"solution_5\"])\n",
    "    }\n",
    "    # Get zero-shot & final result\n",
    "    data[\"zero_shot_result\"] = data[\"correct_answer\"] == data[\"initial_answer\"]\n",
    "    data[\"final_result\"] = data[\"correct_answer\"] == data[\"final_answer\"]\n",
    "\n",
    "    # Majority voting among solution_1 to solution_5\n",
    "    voted_answers = [\n",
    "        data[\"solution_answer_1\"],\n",
    "        data[\"solution_answer_2\"],\n",
    "        data[\"solution_answer_3\"],\n",
    "        data[\"solution_answer_4\"],\n",
    "        data[\"final_answer\"]\n",
    "    ]\n",
    "    \n",
    "    # Filter out None values\n",
    "    voted_answers = [a for a in voted_answers if a is not None]\n",
    "\n",
    "    # Get majority answer\n",
    "    if voted_answers:\n",
    "        majority_vote = Counter(voted_answers).most_common(1)[0][0]\n",
    "    else:\n",
    "        majority_vote = None\n",
    "\n",
    "    data[\"majority_answer\"] = majority_vote\n",
    "    data[\"majority_result\"] = data[\"correct_answer\"] == majority_vote\n",
    "\n",
    "    return data\n"
   ]
  },
  {
   "cell_type": "code",
   "execution_count": 76,
   "metadata": {},
   "outputs": [],
   "source": [
    "def process_result_data(result_df):\n",
    "    processed_answer = []\n",
    "    for index, row in result_df.iterrows():\n",
    "        processed_answer.append(process_answer(row))\n",
    "    return processed_answer"
   ]
  },
  {
   "cell_type": "code",
   "execution_count": 77,
   "metadata": {},
   "outputs": [],
   "source": [
    "def calculate_true_percentages(df, columns):\n",
    "    result = {}\n",
    "    total = len(df)\n",
    "    for col in columns:\n",
    "        true_count = df[col].sum()  # Since True == 1 and False == 0\n",
    "        result[col] = round((true_count / total) * 100, 2)\n",
    "    return result"
   ]
  },
  {
   "cell_type": "markdown",
   "metadata": {},
   "source": [
    "## 1. Analysis Raw TextGrad"
   ]
  },
  {
   "cell_type": "code",
   "execution_count": 78,
   "metadata": {},
   "outputs": [],
   "source": [
    "columns_to_check = [\"zero_shot_result\", \"final_result\", \"majority_result\"]"
   ]
  },
  {
   "cell_type": "code",
   "execution_count": 79,
   "metadata": {},
   "outputs": [
    {
     "data": {
      "text/html": [
       "<div>\n",
       "<style scoped>\n",
       "    .dataframe tbody tr th:only-of-type {\n",
       "        vertical-align: middle;\n",
       "    }\n",
       "\n",
       "    .dataframe tbody tr th {\n",
       "        vertical-align: top;\n",
       "    }\n",
       "\n",
       "    .dataframe thead th {\n",
       "        text-align: right;\n",
       "    }\n",
       "</style>\n",
       "<table border=\"1\" class=\"dataframe\">\n",
       "  <thead>\n",
       "    <tr style=\"text-align: right;\">\n",
       "      <th></th>\n",
       "      <th>correct_answer</th>\n",
       "      <th>initial_answer</th>\n",
       "      <th>solution_answer_1</th>\n",
       "      <th>solution_answer_2</th>\n",
       "      <th>solution_answer_3</th>\n",
       "      <th>solution_answer_4</th>\n",
       "      <th>final_answer</th>\n",
       "      <th>zero_shot_result</th>\n",
       "      <th>final_result</th>\n",
       "      <th>majority_answer</th>\n",
       "      <th>majority_result</th>\n",
       "    </tr>\n",
       "  </thead>\n",
       "  <tbody>\n",
       "    <tr>\n",
       "      <th>0</th>\n",
       "      <td>A</td>\n",
       "      <td>None</td>\n",
       "      <td>None</td>\n",
       "      <td>None</td>\n",
       "      <td>None</td>\n",
       "      <td>None</td>\n",
       "      <td>None</td>\n",
       "      <td>False</td>\n",
       "      <td>False</td>\n",
       "      <td>None</td>\n",
       "      <td>False</td>\n",
       "    </tr>\n",
       "    <tr>\n",
       "      <th>1</th>\n",
       "      <td>D</td>\n",
       "      <td>None</td>\n",
       "      <td>None</td>\n",
       "      <td>None</td>\n",
       "      <td>None</td>\n",
       "      <td>None</td>\n",
       "      <td>None</td>\n",
       "      <td>False</td>\n",
       "      <td>False</td>\n",
       "      <td>None</td>\n",
       "      <td>False</td>\n",
       "    </tr>\n",
       "  </tbody>\n",
       "</table>\n",
       "</div>"
      ],
      "text/plain": [
       "  correct_answer initial_answer solution_answer_1 solution_answer_2  \\\n",
       "0              A           None              None              None   \n",
       "1              D           None              None              None   \n",
       "\n",
       "  solution_answer_3 solution_answer_4 final_answer  zero_shot_result  \\\n",
       "0              None              None         None             False   \n",
       "1              None              None         None             False   \n",
       "\n",
       "   final_result majority_answer  majority_result  \n",
       "0         False            None            False  \n",
       "1         False            None            False  "
      ]
     },
     "execution_count": 79,
     "metadata": {},
     "output_type": "execute_result"
    }
   ],
   "source": [
    "# Raw TextGrad\n",
    "raw_textgrad_processed_answer_list = process_result_data(raw_textgrad)\n",
    "raw_textgrad_processed_answer = pd.DataFrame(raw_textgrad_processed_answer_list)\n",
    "raw_textgrad_processed_answer"
   ]
  },
  {
   "cell_type": "code",
   "execution_count": 80,
   "metadata": {},
   "outputs": [
    {
     "data": {
      "text/html": [
       "<div>\n",
       "<style scoped>\n",
       "    .dataframe tbody tr th:only-of-type {\n",
       "        vertical-align: middle;\n",
       "    }\n",
       "\n",
       "    .dataframe tbody tr th {\n",
       "        vertical-align: top;\n",
       "    }\n",
       "\n",
       "    .dataframe thead th {\n",
       "        text-align: right;\n",
       "    }\n",
       "</style>\n",
       "<table border=\"1\" class=\"dataframe\">\n",
       "  <thead>\n",
       "    <tr style=\"text-align: right;\">\n",
       "      <th></th>\n",
       "      <th>correct_answer</th>\n",
       "      <th>initial_answer</th>\n",
       "      <th>solution_answer_1</th>\n",
       "      <th>solution_answer_2</th>\n",
       "      <th>solution_answer_3</th>\n",
       "      <th>solution_answer_4</th>\n",
       "      <th>final_answer</th>\n",
       "      <th>zero_shot_result</th>\n",
       "      <th>final_result</th>\n",
       "      <th>majority_answer</th>\n",
       "      <th>majority_result</th>\n",
       "    </tr>\n",
       "  </thead>\n",
       "  <tbody>\n",
       "  </tbody>\n",
       "</table>\n",
       "</div>"
      ],
      "text/plain": [
       "Empty DataFrame\n",
       "Columns: [correct_answer, initial_answer, solution_answer_1, solution_answer_2, solution_answer_3, solution_answer_4, final_answer, zero_shot_result, final_result, majority_answer, majority_result]\n",
       "Index: []"
      ]
     },
     "execution_count": 80,
     "metadata": {},
     "output_type": "execute_result"
    }
   ],
   "source": [
    "# Drop None Rows\n",
    "clean_raw_textgrad_processed_answer = raw_textgrad_processed_answer.dropna()\n",
    "clean_raw_textgrad_processed_answer"
   ]
  },
  {
   "cell_type": "code",
   "execution_count": 81,
   "metadata": {},
   "outputs": [
    {
     "name": "stderr",
     "output_type": "stream",
     "text": [
      "/var/folders/8x/pn19c8js08q3p7xp6wz7rg900000gn/T/ipykernel_59131/1399607740.py:6: RuntimeWarning: invalid value encountered in scalar divide\n",
      "  result[col] = round((true_count / total) * 100, 2)\n"
     ]
    },
    {
     "data": {
      "text/plain": [
       "{'zero_shot_result': np.float64(nan),\n",
       " 'final_result': np.float64(nan),\n",
       " 'majority_result': np.float64(nan)}"
      ]
     },
     "execution_count": 81,
     "metadata": {},
     "output_type": "execute_result"
    }
   ],
   "source": [
    "\n",
    "percentages = calculate_true_percentages(clean_raw_textgrad_processed_answer, columns_to_check)\n",
    "percentages"
   ]
  }
 ],
 "metadata": {
  "kernelspec": {
   "display_name": "Python 3.11.6 ('env': venv)",
   "language": "python",
   "name": "python3"
  },
  "language_info": {
   "codemirror_mode": {
    "name": "ipython",
    "version": 3
   },
   "file_extension": ".py",
   "mimetype": "text/x-python",
   "name": "python",
   "nbconvert_exporter": "python",
   "pygments_lexer": "ipython3",
   "version": "3.11.6"
  },
  "orig_nbformat": 4,
  "vscode": {
   "interpreter": {
    "hash": "860e0dc2175a55dd9a80ac360791d93c13f4935a3c9aca3a9a76262c7d69eace"
   }
  }
 },
 "nbformat": 4,
 "nbformat_minor": 2
}
