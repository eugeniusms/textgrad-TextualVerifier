{
 "cells": [
  {
   "cell_type": "markdown",
   "metadata": {},
   "source": [
    "# Solution Optimization Evaluaton Raw TextGrad"
   ]
  },
  {
   "cell_type": "code",
   "execution_count": 2,
   "metadata": {},
   "outputs": [],
   "source": [
    "import pandas as pd\n",
    "import textgrad as tg\n",
    "from textgrad.engine import get_engine\n",
    "from textgrad.variable import Variable\n",
    "from textgrad.optimizer import TextualGradientDescent\n",
    "from textgrad.verifier import TextualVerifier\n",
    "from textgrad.loss import TextLoss"
   ]
  },
  {
   "cell_type": "markdown",
   "metadata": {},
   "source": [
    "## Load Datasets"
   ]
  },
  {
   "cell_type": "code",
   "execution_count": 3,
   "metadata": {},
   "outputs": [
    {
     "data": {
      "text/html": [
       "<div>\n",
       "<style scoped>\n",
       "    .dataframe tbody tr th:only-of-type {\n",
       "        vertical-align: middle;\n",
       "    }\n",
       "\n",
       "    .dataframe tbody tr th {\n",
       "        vertical-align: top;\n",
       "    }\n",
       "\n",
       "    .dataframe thead th {\n",
       "        text-align: right;\n",
       "    }\n",
       "</style>\n",
       "<table border=\"1\" class=\"dataframe\">\n",
       "  <thead>\n",
       "    <tr style=\"text-align: right;\">\n",
       "      <th></th>\n",
       "      <th>id</th>\n",
       "      <th>formatted_question</th>\n",
       "      <th>raw_solution</th>\n",
       "      <th>correct_answer</th>\n",
       "      <th>source</th>\n",
       "      <th>subject</th>\n",
       "    </tr>\n",
       "  </thead>\n",
       "  <tbody>\n",
       "    <tr>\n",
       "      <th>0</th>\n",
       "      <td>1</td>\n",
       "      <td>\\n    Two quantum states with energies E1 and ...</td>\n",
       "      <td>&lt;Solution&gt;\\nThe energy-time uncertainty princi...</td>\n",
       "      <td>B</td>\n",
       "      <td>GPQA-Diamond</td>\n",
       "      <td>-</td>\n",
       "    </tr>\n",
       "    <tr>\n",
       "      <th>1</th>\n",
       "      <td>2</td>\n",
       "      <td>\\n    trans-cinnamaldehyde was treated with me...</td>\n",
       "      <td>&lt;Solution&gt;\\n1. **Reaction 1:** trans-cinnamald...</td>\n",
       "      <td>A</td>\n",
       "      <td>GPQA-Diamond</td>\n",
       "      <td>-</td>\n",
       "    </tr>\n",
       "    <tr>\n",
       "      <th>2</th>\n",
       "      <td>8</td>\n",
       "      <td>\\n    You perform a high-throughput experiment...</td>\n",
       "      <td>&lt;Solution&gt;\\nHere's how we can analyze the resu...</td>\n",
       "      <td>B</td>\n",
       "      <td>GPQA-Diamond</td>\n",
       "      <td>-</td>\n",
       "    </tr>\n",
       "    <tr>\n",
       "      <th>3</th>\n",
       "      <td>3</td>\n",
       "      <td>\\n    A spin-half particle is in a linear supe...</td>\n",
       "      <td>&lt;Solution&gt;\\nLet the given state be $|\\psi\\rang...</td>\n",
       "      <td>D</td>\n",
       "      <td>GPQA-Diamond</td>\n",
       "      <td>-</td>\n",
       "    </tr>\n",
       "    <tr>\n",
       "      <th>4</th>\n",
       "      <td>6</td>\n",
       "      <td>\\n    A quantum mechanical particle of mass m ...</td>\n",
       "      <td>&lt;Solution&gt;\\nThe potential is given by:\\nV(r, θ...</td>\n",
       "      <td>D</td>\n",
       "      <td>GPQA-Diamond</td>\n",
       "      <td>-</td>\n",
       "    </tr>\n",
       "    <tr>\n",
       "      <th>...</th>\n",
       "      <td>...</td>\n",
       "      <td>...</td>\n",
       "      <td>...</td>\n",
       "      <td>...</td>\n",
       "      <td>...</td>\n",
       "      <td>...</td>\n",
       "    </tr>\n",
       "    <tr>\n",
       "      <th>407</th>\n",
       "      <td>404</td>\n",
       "      <td>\\n    Under certain conditions, a beam of elec...</td>\n",
       "      <td>&lt;Solution&gt;\\nThe de Broglie wavelength of the e...</td>\n",
       "      <td>C</td>\n",
       "      <td>MMLU-CP</td>\n",
       "      <td>college_physics</td>\n",
       "    </tr>\n",
       "    <tr>\n",
       "      <th>408</th>\n",
       "      <td>384</td>\n",
       "      <td>\\n    Two spaceships approach Earth with equal...</td>\n",
       "      <td>&lt;Solution&gt;\\nLet $v$ be the speed of each space...</td>\n",
       "      <td>C</td>\n",
       "      <td>MMLU-CP</td>\n",
       "      <td>college_physics</td>\n",
       "    </tr>\n",
       "    <tr>\n",
       "      <th>409</th>\n",
       "      <td>411</td>\n",
       "      <td>\\n    Positronium is an atom formed by an elec...</td>\n",
       "      <td>&lt;Solution&gt;\\nThe energy levels of positronium a...</td>\n",
       "      <td>C</td>\n",
       "      <td>MMLU-CP</td>\n",
       "      <td>college_physics</td>\n",
       "    </tr>\n",
       "    <tr>\n",
       "      <th>410</th>\n",
       "      <td>396</td>\n",
       "      <td>\\n    A photon strikes an electron of mass m t...</td>\n",
       "      <td>&lt;Solution&gt;\\nLet $E_\\gamma$ be the energy of th...</td>\n",
       "      <td>C</td>\n",
       "      <td>MMLU-CP</td>\n",
       "      <td>college_physics</td>\n",
       "    </tr>\n",
       "    <tr>\n",
       "      <th>411</th>\n",
       "      <td>390</td>\n",
       "      <td>\\n    An observer O at rest midway between two...</td>\n",
       "      <td>&lt;Solution&gt;\\nLet the two sources of light be S1...</td>\n",
       "      <td>B</td>\n",
       "      <td>MMLU-CP</td>\n",
       "      <td>college_physics</td>\n",
       "    </tr>\n",
       "  </tbody>\n",
       "</table>\n",
       "<p>412 rows × 6 columns</p>\n",
       "</div>"
      ],
      "text/plain": [
       "      id                                 formatted_question  \\\n",
       "0      1  \\n    Two quantum states with energies E1 and ...   \n",
       "1      2  \\n    trans-cinnamaldehyde was treated with me...   \n",
       "2      8  \\n    You perform a high-throughput experiment...   \n",
       "3      3  \\n    A spin-half particle is in a linear supe...   \n",
       "4      6  \\n    A quantum mechanical particle of mass m ...   \n",
       "..   ...                                                ...   \n",
       "407  404  \\n    Under certain conditions, a beam of elec...   \n",
       "408  384  \\n    Two spaceships approach Earth with equal...   \n",
       "409  411  \\n    Positronium is an atom formed by an elec...   \n",
       "410  396  \\n    A photon strikes an electron of mass m t...   \n",
       "411  390  \\n    An observer O at rest midway between two...   \n",
       "\n",
       "                                          raw_solution correct_answer  \\\n",
       "0    <Solution>\\nThe energy-time uncertainty princi...              B   \n",
       "1    <Solution>\\n1. **Reaction 1:** trans-cinnamald...              A   \n",
       "2    <Solution>\\nHere's how we can analyze the resu...              B   \n",
       "3    <Solution>\\nLet the given state be $|\\psi\\rang...              D   \n",
       "4    <Solution>\\nThe potential is given by:\\nV(r, θ...              D   \n",
       "..                                                 ...            ...   \n",
       "407  <Solution>\\nThe de Broglie wavelength of the e...              C   \n",
       "408  <Solution>\\nLet $v$ be the speed of each space...              C   \n",
       "409  <Solution>\\nThe energy levels of positronium a...              C   \n",
       "410  <Solution>\\nLet $E_\\gamma$ be the energy of th...              C   \n",
       "411  <Solution>\\nLet the two sources of light be S1...              B   \n",
       "\n",
       "           source          subject  \n",
       "0    GPQA-Diamond                -  \n",
       "1    GPQA-Diamond                -  \n",
       "2    GPQA-Diamond                -  \n",
       "3    GPQA-Diamond                -  \n",
       "4    GPQA-Diamond                -  \n",
       "..            ...              ...  \n",
       "407       MMLU-CP  college_physics  \n",
       "408       MMLU-CP  college_physics  \n",
       "409       MMLU-CP  college_physics  \n",
       "410       MMLU-CP  college_physics  \n",
       "411       MMLU-CP  college_physics  \n",
       "\n",
       "[412 rows x 6 columns]"
      ]
     },
     "execution_count": 3,
     "metadata": {},
     "output_type": "execute_result"
    }
   ],
   "source": [
    "initial_solution = pd.read_csv(\"csv/initial_solution.csv\")\n",
    "initial_solution"
   ]
  },
  {
   "cell_type": "markdown",
   "metadata": {},
   "source": [
    "## Experiment"
   ]
  },
  {
   "cell_type": "code",
   "execution_count": 1,
   "metadata": {},
   "outputs": [
    {
     "ename": "NameError",
     "evalue": "name 'get_engine' is not defined",
     "output_type": "error",
     "traceback": [
      "\u001b[31m---------------------------------------------------------------------------\u001b[39m",
      "\u001b[31mNameError\u001b[39m                                 Traceback (most recent call last)",
      "\u001b[36mCell\u001b[39m\u001b[36m \u001b[39m\u001b[32mIn[1]\u001b[39m\u001b[32m, line 4\u001b[39m\n\u001b[32m      1\u001b[39m \u001b[38;5;28;01mimport\u001b[39;00m\u001b[38;5;250m \u001b[39m\u001b[34;01mos\u001b[39;00m\n\u001b[32m      2\u001b[39m \u001b[38;5;28;01mimport\u001b[39;00m\u001b[38;5;250m \u001b[39m\u001b[34;01msys\u001b[39;00m\n\u001b[32m----> \u001b[39m\u001b[32m4\u001b[39m engine = \u001b[43mget_engine\u001b[49m(\u001b[33m\"\u001b[39m\u001b[33mgemini-1.5-pro\u001b[39m\u001b[33m\"\u001b[39m)\n\u001b[32m      5\u001b[39m tg.set_backward_engine(\u001b[33m\"\u001b[39m\u001b[33mgemini-1.5-pro\u001b[39m\u001b[33m\"\u001b[39m)\n",
      "\u001b[31mNameError\u001b[39m: name 'get_engine' is not defined"
     ]
    }
   ],
   "source": [
    "import os\n",
    "import sys\n",
    "\n",
    "engine = get_engine(\"gemini-1.5-pro\")\n",
    "tg.set_backward_engine(\"gemini-1.5-pro\")"
   ]
  },
  {
   "cell_type": "code",
   "execution_count": 5,
   "metadata": {},
   "outputs": [],
   "source": [
    "def evaluate_with_raw_textgrad(row_data):\n",
    "    sys.stdout = open(os.devnull, 'w')  # Suppress stdout\n",
    "    sys.stderr = open(os.devnull, 'w')  # Suppress stderr\n",
    "    result = {\n",
    "        \"id\": row_data[\"id\"],\n",
    "        \"raw_solution\": row_data[\"raw_solution\"],\n",
    "        \"correct_answer\": row_data[\"correct_answer\"],\n",
    "        \"source\": row_data[\"source\"],\n",
    "        \"subject\": row_data[\"subject\"]\n",
    "    }\n",
    "    \n",
    "    solution = Variable(row_data[\"raw_solution\"],\n",
    "                    requires_grad=True,\n",
    "                    role_description=\"Solution to the math question\")\n",
    "    loss_system_prompt = Variable(\"\"\"You will evaluate a solution to a math question. \n",
    "                                    Do not attempt to solve it yourself, do not give a solution, \n",
    "                                    only identify errors. Be super concise.\"\"\",\n",
    "                                    requires_grad=False,\n",
    "                                    role_description=\"system prompt\")\n",
    "    optimizer = TextualGradientDescent([solution])\n",
    "    loss = TextLoss(loss_system_prompt, engine=engine)\n",
    "    \n",
    "    # Iterate 5 times\n",
    "    for i in range(1, 6):\n",
    "        optimizer.zero_grad()  # Clean gradients\n",
    "        loss_result = loss(solution)\n",
    "        \n",
    "        loss_result.backward()\n",
    "        optimizer.step()\n",
    "        result[f\"solution_{i}\"] = solution.value\n",
    "    \n",
    "    return result"
   ]
  },
  {
   "cell_type": "code",
   "execution_count": 6,
   "metadata": {},
   "outputs": [],
   "source": [
    "def evaluate_with_textual_verified_textgrad(row_data):\n",
    "    sys.stdout = open(os.devnull, 'w')  # Suppress stdout\n",
    "    sys.stderr = open(os.devnull, 'w')  # Suppress stderr\n",
    "    result = {\n",
    "        \"id\": row_data[\"id\"],\n",
    "        \"raw_solution\": row_data[\"raw_solution\"],\n",
    "        \"correct_answer\": row_data[\"correct_answer\"],\n",
    "        \"source\": row_data[\"source\"],\n",
    "        \"subject\": row_data[\"subject\"]\n",
    "    }\n",
    "    \n",
    "    solution = Variable(row_data[\"raw_solution\"],\n",
    "                    requires_grad=True,\n",
    "                    role_description=\"Solution to the math question\")\n",
    "    loss_system_prompt = Variable(\"\"\"You will evaluate a solution to a math question. \n",
    "                                    Do not attempt to solve it yourself, do not give a solution, \n",
    "                                    only identify errors. Be super concise.\"\"\",\n",
    "                                    requires_grad=False,\n",
    "                                    role_description=\"system prompt\")\n",
    "    optimizer = TextualGradientDescent([solution])\n",
    "    loss = TextLoss(loss_system_prompt, engine=engine)\n",
    "    verifier = TextualVerifier(verifier_engine=engine, step_eval_iterations=3, logger=False)\n",
    "    \n",
    "    # Iterate 5 times\n",
    "    for i in range(1, 6):\n",
    "        optimizer.zero_grad()  # Clean gradients\n",
    "        loss_result = loss(solution)\n",
    "        \n",
    "        verified_result = verifier.verify(instance=solution,\n",
    "                                         prompt=loss_system_prompt,\n",
    "                                         calculation=loss_result)\n",
    "        loss_result.set_value(verified_result.value)\n",
    "        \n",
    "        loss_result.backward()\n",
    "        optimizer.step()\n",
    "        result[f\"solution_{i}\"] = solution.value\n",
    "    \n",
    "    return result"
   ]
  },
  {
   "cell_type": "markdown",
   "metadata": {},
   "source": [
    "## Running Evaluation"
   ]
  },
  {
   "cell_type": "markdown",
   "metadata": {},
   "source": [
    "### Raw TextGrad"
   ]
  },
  {
   "cell_type": "code",
   "execution_count": 7,
   "metadata": {},
   "outputs": [
    {
     "name": "stdout",
     "output_type": "stream",
     "text": [
      "['Here is a conversation:\\n\\n<CONVERSATION><LM_SYSTEM_PROMPT> You will evaluate a solution to a math question. \\n                                    Do not attempt to solve it yourself, do not give a solution, \\n                                    only identify errors. Be super concise. </LM_SYSTEM_PROMPT>\\n\\n<LM_INPUT> <Solution>\\nThe Michael reaction involves the addition of a nucleophile to an α,β-unsaturated carbonyl compound.\\n\\n**Reaction A:**\\n* **Nucleophile:** methyl 2-oxocyclohexane-1-carboxylate (specifically, the enolate formed by deprotonation at the alpha position to the ester group)\\n* **Michael acceptor:** 2,4-dimethyl-1-(vinylsulfinyl)benzene\\nThe nucleophile attacks the β-carbon of the Michael acceptor. The resulting product is methyl 1-(2-((2,4-dimethylphenyl)sulfinyl)ethyl)-2-oxocyclohexane-1-carboxylate.\\n\\n**Reaction B:**\\n* **Nucleophile:** ethyl 2-ethylbutanoate (specifically, the enolate formed by deprotonation at the alpha position)\\n* **Michael acceptor:** methyl 2-cyclopentylidene-2-phenylacetate (a conjugated ester)\\nThe nucleophile attacks the β-carbon of the Michael acceptor, which is the terminal vinylic carbon of the alkene.  The resulting product is ethyl 2-ethyl-2-(2-(methoxycarbonyl)-2-phenylcyclopentyl)butanoate.  The previous proposed product incorrectly skipped a carbon in the cyclopentyl ring. The correct product has the cyclopentyl ring intact, with the nucleophile adding to the exocyclic double bond, resulting in the formation of a new bond between the alpha carbon of the ethyl 2-ethylbutanoate and a cyclopentyl ring carbon.\\n\\nComparing the corrected product obtained in Reaction B with the options provided, we find that option D still aligns with our analysis.  The key features of the product, including the cyclopentyl ring, the ester group, and the two ethyl substituents on the alpha carbon, are all present in option D.\\n\\n</Solution>\\n<Answer>D</Answer> </LM_INPUT>\\n\\n<LM_OUTPUT> In Reaction B, the analysis incorrectly identifies the nucleophile. Ethyl 2-ethylbutanoate has no alpha hydrogens available for deprotonation and enolate formation due to the two ethyl groups. Therefore, it cannot act as a nucleophile in a Michael addition.  This invalidates the subsequent steps and the final product.\\n </LM_OUTPUT>\\n\\n</CONVERSATION>\\n\\nThis conversation is potentially part of a larger system. The output is used as response from the language model\\n\\nHere is the feedback we got for Solution to the math question in the conversation:\\n\\n<FEEDBACK>The language model evaluation reveals a critical flaw in Reaction B of the solution: the chosen nucleophile, ethyl 2-ethylbutanoate, cannot form an enolate.  This stems from the fact that the alpha carbon, the site of deprotonation for enolate formation, is fully substituted with two ethyl groups, leaving no hydrogens available for removal.  Consequently, the proposed mechanism and resulting product for Reaction B are incorrect.\\n\\nTo improve the solution, the following strategies should be considered:\\n\\n1. **Re-evaluate the reactants:**  Carefully examine the reactants provided in the original problem for Reaction B.  Verify if ethyl 2-ethylbutanoate is indeed the correct nucleophile or if there has been a misinterpretation or transcription error.\\n\\n2. **Explore alternative mechanisms:** If the reactants are correct, consider whether a Michael addition is the appropriate mechanism for this reaction.  Since the proposed nucleophile cannot form an enolate, explore alternative reaction pathways that might lead to the product or a similar structure.  This might involve different intermediates or even a completely different type of reaction.\\n\\n3. **Recheck product analysis:** If the Michael addition is deemed impossible with the given reactants, revisit the analysis of the product options.  The current justification for choosing option D relies on the flawed Michael addition mechanism.  Re-evaluate the product options based on the revised reaction mechanism or alternative pathways considered.\\n\\n4. **Verify alpha-hydrogen availability:**  For any proposed nucleophile in a Michael addition, explicitly confirm the presence of alpha hydrogens available for deprotonation. This simple check can prevent similar errors in the future.  Include a brief statement in the solution confirming this availability.\\n</FEEDBACK>\\n\\n']\n",
      "[\"Here is a conversation:\\n\\n<CONVERSATION><LM_SYSTEM_PROMPT> You will evaluate a solution to a math question. \\n                                    Do not attempt to solve it yourself, do not give a solution, \\n                                    only identify errors. Be super concise. </LM_SYSTEM_PROMPT>\\n\\n<LM_INPUT> <Solution>\\nThe target molecule is 5-isopropyl-3,4-dimethylcyclohex-1-ene.  Ring-closing metathesis involves the formation of a cyclic alkene from a diene.  The double bond in the cyclohexene product will be between carbons 1 and 2.  We need to identify a diene precursor that, upon ring closure, will give us the desired product.\\n\\n1. **Numbering the product:** The product is a cyclohexene ring.  The double bond is between C1 and C2.  C3 and C4 have methyl groups, and C5 has an isopropyl group.\\n\\n2. **Visualizing the ring opening:** Imagine breaking the double bond (C1=C2) and adding a CH2= group to each end. This gives us an octadiene.\\n\\n3. **Numbering the diene:**  The crucial step is correctly numbering the diene after ring opening. The original C1 and C2 of the cyclohexene become the terminal carbons of the diene's alkene groups (C1 and C8).  Because two carbons are added to the chain, the positions of all other substituents shift by *two*.  So, the original C3 becomes C5, C4 becomes C6, and C5 becomes C7 in the diene.\\n\\n    * **Example:** The isopropyl group, originally at C5 in the cyclohexene, is now at C7 in the octadiene.  Similarly, the methyl groups at C3 and C4 in the cyclohexene are now at C5 and C6, respectively, in the octadiene.\\n\\n4. **Identifying the correct diene:** This process leads to 6-isopropyl-4,5-dimethylocta-1,7-diene.\\n\\nHere's a diagram to illustrate the numbering:\\n\\n**Cyclohexene:**\\n\\n```\\n     CH(CH3)2\\n       |\\n  6---5---4\\n /         \\\\\\n1=2       3\\n \\\\         /\\n  CH3   CH3\\n```\\n\\n**Octadiene:**\\n\\n```\\nCH2=7-CH(CH3)2-6-CH(CH3)-5-CH(CH3)-4-CH2-3-CH2-2=CH2\\n       |           |           |\\n      C8          C7          C6\\n```\\n\\n\\n</Solution> </LM_INPUT>\\n\\n<LM_OUTPUT> The numbering of the octadiene is incorrect.  The original C1 and C2 become C1 and C8, so the other substituent positions should be C3, C4, and C5, not C5, C6, and C7.  The isopropyl group should be at C5, not C7.  The methyl groups should be at C3 and C4, not C5 and C6.\\n </LM_OUTPUT>\\n\\n</CONVERSATION>\\n\\nThis conversation is potentially part of a larger system. The output is used as response from the language model\\n\\nHere is the feedback we got for Solution to the math question in the conversation:\\n\\n<FEEDBACK>The language model evaluation clearly points out a critical error in the numbering of the octadiene product. The solution incorrectly shifts the substituent positions by two after the ring opening.  It should *not* shift the positions of the original C3, C4, and C5.  Instead, these should become C3, C4, and C5 in the octadiene, respectively.  The solution needs to correct this numbering error to accurately reflect the relationship between the cyclohexene reactant and the octadiene product in the ring-closing metathesis reaction.  The explanation regarding the shift in numbering needs to be removed or revised to correctly describe the process. The diagrams also need to be updated to reflect the correct numbering.\\n</FEEDBACK>\\n\\n\"]\n"
     ]
    }
   ],
   "source": [
    "from concurrent.futures import ThreadPoolExecutor, as_completed\n",
    "from tqdm import tqdm\n",
    "import time\n",
    "\n",
    "results = []\n",
    "start_time = time.time()\n",
    "\n",
    "with ThreadPoolExecutor(max_workers=8) as executor:\n",
    "    # Submit all tasks\n",
    "    futures = [\n",
    "        executor.submit(evaluate_with_raw_textgrad, row.to_dict()) \n",
    "        for _, row in initial_solution.iterrows()\n",
    "    ]\n",
    "    \n",
    "    # Use tqdm for progress tracking\n",
    "    for future in tqdm(as_completed(futures), total=len(futures), desc=\"Processing\"):\n",
    "        result = future.result()\n",
    "        if result is not None:\n",
    "            results.append(result)\n",
    "\n",
    "raw_textgrad = pd.DataFrame(results)\n",
    "\n",
    "print(f\"Completed in {time.time() - start_time:.1f} seconds\")"
   ]
  },
  {
   "cell_type": "code",
   "execution_count": null,
   "metadata": {},
   "outputs": [],
   "source": [
    "raw_textgrad.to_csv('csv/raw_textgrad.csv', index=False)"
   ]
  },
  {
   "cell_type": "markdown",
   "metadata": {},
   "source": [
    "### TextGrad with TextualVerifier"
   ]
  }
 ],
 "metadata": {
  "kernelspec": {
   "display_name": "Python 3.11.6 ('env': venv)",
   "language": "python",
   "name": "python3"
  },
  "language_info": {
   "codemirror_mode": {
    "name": "ipython",
    "version": 3
   },
   "file_extension": ".py",
   "mimetype": "text/x-python",
   "name": "python",
   "nbconvert_exporter": "python",
   "pygments_lexer": "ipython3",
   "version": "3.11.6"
  },
  "orig_nbformat": 4,
  "vscode": {
   "interpreter": {
    "hash": "860e0dc2175a55dd9a80ac360791d93c13f4935a3c9aca3a9a76262c7d69eace"
   }
  }
 },
 "nbformat": 4,
 "nbformat_minor": 2
}
