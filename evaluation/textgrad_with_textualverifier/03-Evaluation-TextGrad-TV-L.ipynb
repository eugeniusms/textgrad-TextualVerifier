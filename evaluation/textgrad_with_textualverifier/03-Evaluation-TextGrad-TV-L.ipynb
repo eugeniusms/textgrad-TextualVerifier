{
 "cells": [
  {
   "cell_type": "markdown",
   "metadata": {},
   "source": [
    "# Evaluation TextGrad with TextualVerifier in Loss"
   ]
  },
  {
   "cell_type": "code",
   "execution_count": null,
   "metadata": {},
   "outputs": [],
   "source": [
    "import re\n",
    "import time\n",
    "import pandas as pd\n",
    "from concurrent.futures import ThreadPoolExecutor, as_completed\n",
    "from tqdm import tqdm\n",
    "\n",
    "import textgrad as tg\n",
    "from textgrad.engine import get_engine\n",
    "from textgrad.variable import Variable\n",
    "from textgrad.loss import TextLoss\n",
    "from textgrad.optimizer import TextualGradientDescent\n",
    "from textgrad.verifier import TextualVerifierWithTracker\n"
   ]
  },
  {
   "cell_type": "markdown",
   "metadata": {},
   "source": [
    "## Load Dataset"
   ]
  },
  {
   "cell_type": "code",
   "execution_count": null,
   "metadata": {},
   "outputs": [],
   "source": [
    "initial_solution = pd.read_csv(\"datasets/initial-solution.csv\")\n",
    "initial_solution"
   ]
  },
  {
   "cell_type": "markdown",
   "metadata": {},
   "source": [
    "## Setup Engine"
   ]
  },
  {
   "cell_type": "code",
   "execution_count": null,
   "metadata": {},
   "outputs": [],
   "source": [
    "engine = get_engine(\"gemini-1.5-pro\")\n",
    "tg.set_backward_engine(\"gemini-1.5-pro\", override=True)"
   ]
  },
  {
   "cell_type": "markdown",
   "metadata": {},
   "source": [
    "## Experiment Iterations"
   ]
  },
  {
   "cell_type": "code",
   "execution_count": null,
   "metadata": {},
   "outputs": [],
   "source": [
    "def extract_answer(text):\n",
    "    # Now extract correctly\n",
    "    match = re.search(r\"(?i)Answer\\s*:\\s*([A-D])\", text, re.IGNORECASE)\n",
    "    if match:\n",
    "        return match.group(1).upper()\n",
    "    return \"Z\" # Z -> means for None (Incorrect Answer)"
   ]
  },
  {
   "cell_type": "code",
   "execution_count": null,
   "metadata": {},
   "outputs": [],
   "source": [
    "def evaluate(row_data, engine):\n",
    "    try:\n",
    "        match = initial_solution[initial_solution[\"id\"] == row_data[\"id\"]]\n",
    "        if match.empty:\n",
    "            return None  # or raise error\n",
    "        formatted_question = match.iloc[0][\"formatted_question\"]\n",
    "        \n",
    "        solution = Variable(row_data[\"raw_solution\"],\n",
    "                            requires_grad=True,\n",
    "                            role_description=f\"Solution to the math question: {formatted_question}\")\n",
    "        loss_system_prompt = Variable(\"\"\"You will evaluate a solution to a math question. \n",
    "                                        Do not attempt to solve it yourself, do not give a solution, \n",
    "                                        only identify errors. Be super concise.\"\"\",\n",
    "                                        requires_grad=False,\n",
    "                                        role_description=\"system prompt\")\n",
    "        verification_task_prompts = [\n",
    "            \"\"\"\n",
    "            1. When using $instruction to $instance, I got the loss $calculation.\n",
    "            2. Evaluate the loss $calculation value correctly reflects the performance of the instance.\n",
    "            3. If the loss $calculation is incorrect or inconsistent, provide the corrected version of the loss $calculation. \n",
    "            4. Do NOT calculate the solution/instance, evaluate $calculation ONLY.\n",
    "            \"\"\"\n",
    "        ]\n",
    "\n",
    "        optimizer = TextualGradientDescent([solution])\n",
    "        loss = TextLoss(loss_system_prompt, engine=engine)\n",
    "        loss_value = loss(solution) # Forward method in Loss Function\n",
    "        original_loss = loss_value.value\n",
    "\n",
    "        # TextualVerifier\n",
    "        verifier = TextualVerifierWithTracker(\n",
    "            verifier_engine=engine, \n",
    "            use_cot_generation=False,\n",
    "            use_step_breakdown=False,\n",
    "            verification_task_prompts=verification_task_prompts,\n",
    "            enable_logging=False,\n",
    "        )\n",
    "\n",
    "        verified_result = verifier.verify(instance=solution,\n",
    "                                        instruction=loss_system_prompt,\n",
    "                                        calculation=loss_value)\n",
    "\n",
    "        tracker_data = verifier.get_tracker() # Tracker data     \n",
    "\n",
    "        loss_value.set_value(verified_result.value) \n",
    "        \n",
    "        loss_value.backward()\n",
    "        optimizer.step()\n",
    "\n",
    "        return {\n",
    "            \"id\": row_data[\"id\"],\n",
    "            \"source\": row_data[\"source\"],\n",
    "            \"subject\": row_data[\"subject\"],\n",
    "            \"correct_answer\": row_data[\"correct_answer\"],\n",
    "            \"original_solution\": row_data[\"raw_solution\"],\n",
    "            \"original_loss\": original_loss,\n",
    "            \"verified_loss\": verified_result,\n",
    "            \"optimized_solution\": solution.value,\n",
    "            \"verified_optimized_solution\": \"\",\n",
    "            \"final_solution\": solution.value,\n",
    "            \"final_solution_answer\": extract_answer(solution.value), \n",
    "            \"success\": True,\n",
    "            \"error_message\": None,\n",
    "            \"processing_time_ms\": tracker_data['processing_time_ms'],\n",
    "            \"total_llm_calls\": tracker_data['total_llm_calls'],\n",
    "            \"total_input_tokens\": tracker_data['total_input_tokens'],\n",
    "            \"total_output_tokens\": tracker_data['total_output_tokens'],\n",
    "            \"result\": tracker_data\n",
    "        }\n",
    "        \n",
    "    except Exception as e:\n",
    "        # Return error information\n",
    "        return {\n",
    "            \"id\": row_data[\"id\"],\n",
    "            \"source\": \"\",\n",
    "            \"subject\": \"\",\n",
    "            \"correct_answer\": \"\",\n",
    "            \"original_solution\": \"\",\n",
    "            \"original_loss\": \"\",\n",
    "            \"verified_loss\": \"\",\n",
    "            \"optimized_solution\": \"\",\n",
    "            \"verified_optimized_solution\": \"\",\n",
    "            \"final_solution\": \"\",\n",
    "            \"final_solution_answer\": \"\", \n",
    "            \"success\": False,\n",
    "            \"error_message\": str(e),\n",
    "            \"processing_time_ms\": 0,\n",
    "            \"total_llm_calls\": 0,\n",
    "            \"total_input_tokens\": 0,\n",
    "            \"total_output_tokens\": 0,\n",
    "            \"result\": {}\n",
    "        }"
   ]
  },
  {
   "cell_type": "code",
   "execution_count": null,
   "metadata": {},
   "outputs": [],
   "source": [
    "def run_evaluation():\n",
    "    results = []\n",
    "    start_time = time.time()\n",
    "    \n",
    "    with ThreadPoolExecutor(max_workers=32) as executor:\n",
    "        futures = [\n",
    "            executor.submit(evaluate, row.to_dict(), engine) \n",
    "            for _, row in initial_solution.iterrows()  \n",
    "        ]\n",
    "        \n",
    "        for future in tqdm(as_completed(futures), total=len(futures), desc=\"Processing\"):\n",
    "            try:\n",
    "                result = future.result(timeout=None)\n",
    "                if result is not None:\n",
    "                    results.append(result)\n",
    "            except Exception as e:\n",
    "                print(f\"Task failed: {e}\")\n",
    "                error_result = {\n",
    "                    'success': False,\n",
    "                    'error_message': str(e),\n",
    "                    'result': {}\n",
    "                }\n",
    "                results.append(error_result)\n",
    "\n",
    "    experiment_df = pd.DataFrame(results)\n",
    "    print(f\"Completed in {time.time() - start_time:.1f} seconds\")\n",
    "    experiment_df.to_csv('results/result-03-textgrad-tv-l.csv', index=False)\n",
    "    \n",
    "    return experiment_df"
   ]
  },
  {
   "cell_type": "code",
   "execution_count": null,
   "metadata": {},
   "outputs": [],
   "source": [
    "run_evaluation()"
   ]
  }
 ],
 "metadata": {
  "kernelspec": {
   "display_name": "Python 3.11.6 ('env': venv)",
   "language": "python",
   "name": "python3"
  },
  "language_info": {
   "codemirror_mode": {
    "name": "ipython",
    "version": 3
   },
   "file_extension": ".py",
   "mimetype": "text/x-python",
   "name": "python",
   "nbconvert_exporter": "python",
   "pygments_lexer": "ipython3",
   "version": "3.11.6"
  },
  "orig_nbformat": 4,
  "vscode": {
   "interpreter": {
    "hash": "860e0dc2175a55dd9a80ac360791d93c13f4935a3c9aca3a9a76262c7d69eace"
   }
  }
 },
 "nbformat": 4,
 "nbformat_minor": 2
}
