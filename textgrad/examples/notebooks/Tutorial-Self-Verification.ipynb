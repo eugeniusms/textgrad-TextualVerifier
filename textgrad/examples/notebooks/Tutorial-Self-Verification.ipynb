{
 "cells": [
  {
   "cell_type": "markdown",
   "metadata": {},
   "source": [
    "# TextGrad Tutorials: Self-Verification\n",
    "\n",
    "![TextGrad](https://github.com/vinid/data/blob/master/logo_full.png?raw=true)\n",
    "\n",
    "An autograd engine -- for textual gradients!\n",
    "\n",
    "[![Open In Colab](https://colab.research.google.com/assets/colab-badge.svg)](https://colab.research.google.com/github/zou-group/TextGrad/blob/main/examples/notebooks/Prompt-Optimization.ipynb)\n",
    "[![GitHub license](https://img.shields.io/badge/License-MIT-blue.svg)](https://lbesson.mit-license.org/)\n",
    "[![Arxiv](https://img.shields.io/badge/arXiv-2406.07496-B31B1B.svg)](https://arxiv.org/abs/2406.07496)\n",
    "[![Documentation Status](https://readthedocs.org/projects/textgrad/badge/?version=latest)](https://textgrad.readthedocs.io/en/latest/?badge=latest)\n",
    "[![PyPI - Python Version](https://img.shields.io/pypi/pyversions/textgrad)](https://pypi.org/project/textgrad/)\n",
    "[![PyPI](https://img.shields.io/pypi/v/textgrad)](https://pypi.org/project/textgrad/)\n",
    "\n",
    "**Objectives for this tutorial:**\n",
    "\n",
    "* This tutorial demonstrates how to implement and use self-verification in TextGrad to improve the reliability of optimization processes. Self-verification helps detect and correct hallucinations or errors in the optimization suggestions provided by language models.\n",
    "\n",
    "**Requirements:**\n",
    "\n",
    "* You need to have an OpenAI API key to run this tutorial. This should be set as an environment variable as OPENAI_API_KEY."
   ]
  },
  {
   "cell_type": "markdown",
   "metadata": {},
   "source": [
    "## 1. Setup and Configuration\n",
    "\n",
    "First, let's set up our environment and import the necessary modules. We'll use Gemini 1.5 Pro as our language model."
   ]
  },
  {
   "cell_type": "code",
   "execution_count": 25,
   "metadata": {},
   "outputs": [
    {
     "data": {
      "text/plain": [
       "True"
      ]
     },
     "execution_count": 25,
     "metadata": {},
     "output_type": "execute_result"
    }
   ],
   "source": [
    "import os\n",
    "import sys\n",
    "from dotenv import load_dotenv\n",
    "\n",
    "# Load environment variables (API keys)\n",
    "load_dotenv()"
   ]
  },
  {
   "cell_type": "code",
   "execution_count": 26,
   "metadata": {},
   "outputs": [],
   "source": [
    "# If you're using a local development version of TextGrad with your custom classes,\n",
    "# you might need to add your development directory to the path\n",
    "dev_path = \"/Users/eugeniusms/Development/SKRIPSI\"\n",
    "if dev_path not in sys.path:\n",
    "    sys.path.insert(0, dev_path)"
   ]
  },
  {
   "cell_type": "code",
   "execution_count": 27,
   "metadata": {},
   "outputs": [],
   "source": [
    "import textgrad as tg\n",
    "from textgrad.optimizer import VerifiedTextualGradientDescent"
   ]
  },
  {
   "cell_type": "code",
   "execution_count": null,
   "metadata": {},
   "outputs": [],
   "source": [
    "# ONLY FOR TESTING: NEED MOVE TO LIBRARY-BASED\n",
    "import sys\n",
    "import os\n",
    "\n",
    "# Remove the installed version from sys.modules\n",
    "if 'textgrad' in sys.modules:\n",
    "    del sys.modules['textgrad']\n",
    "\n",
    "# Remove any textgrad submodules\n",
    "for key in list(sys.modules.keys()):\n",
    "    if key.startswith('textgrad.'):\n",
    "        del sys.modules[key]\n",
    "\n",
    "# Add your local development directory to the Python path\n",
    "# This needs to be the parent directory of textgrad\n",
    "dev_path = \"/Users/eugeniusms/Development/SKRIPSI\"\n",
    "if dev_path not in sys.path:\n",
    "    sys.path.insert(0, dev_path)\n",
    "\n",
    "# Now import your local version\n",
    "import textgrad as tg\n",
    "print(f\"Imported TextGrad from: {tg.__file__}\")\n",
    "\n",
    "# Try importing your custom class\n",
    "from textgrad.optimizer import VerifiedTextualGradientDescent"
   ]
  },
  {
   "cell_type": "markdown",
   "metadata": {},
   "source": [
    "## 2. Set Up the Optimization Problem\n",
    "\n",
    "We'll create a simple optimization problem to demonstrate self-verification. For this example, we'll use a simple initial solution and optimize it."
   ]
  },
  {
   "cell_type": "code",
   "execution_count": 29,
   "metadata": {},
   "outputs": [],
   "source": [
    "# Set up engine\n",
    "tg.set_backward_engine(\"gemini-1.5-pro\", override=True)"
   ]
  },
  {
   "cell_type": "code",
   "execution_count": 32,
   "metadata": {},
   "outputs": [],
   "source": [
    "# Initialize variable with a deliberately flawed solution\n",
    "problem = \"If a circle has a radius of 5 cm, what is its area? Reason step by step.\"\n",
    "\n",
    "initial_solution = \"\"\"To find the area of a circle with radius 5 cm, I'll use the formula A = 2πr.\n",
    "\n",
    "Given:\n",
    "- Radius (r) = 5 cm\n",
    "\n",
    "Step 1: Substitute the radius into the formula.\n",
    "A = 2π x 5\n",
    "\n",
    "Step 2: Calculate the result.\n",
    "A = 2 x 3.14 x 5\n",
    "A = 31.4\n",
    "\n",
    "Therefore, the area of the circle is 31.4 square centimeters.\"\"\"\n",
    "\n",
    "solution = tg.Variable(initial_solution, \n",
    "                      requires_grad=True,\n",
    "                      role_description=\"solution to the problem with step-by-step reasoning\")"
   ]
  },
  {
   "cell_type": "code",
   "execution_count": 33,
   "metadata": {},
   "outputs": [],
   "source": [
    "# Define loss function\n",
    "loss_fn = tg.TextLoss(\"\"\"You are evaluating a solution to a geometry problem. \n",
    "Be logical, precise, and critical. Identify any issues with formulas, calculations, or reasoning.\n",
    "Provide specific feedback on what needs to be corrected.\"\"\")"
   ]
  },
  {
   "cell_type": "code",
   "execution_count": 34,
   "metadata": {},
   "outputs": [],
   "source": [
    "# Create optimizer with verification\n",
    "optimizer = VerifiedTextualGradientDescent(\n",
    "    parameters=[solution],\n",
    "    verification_strategy=\"process\",  # Use process-supervised verification\n",
    "    verification_threshold=0.7,  # Only apply corrections with confidence >= 0.7\n",
    "    verbose=1  # Show more details during optimization\n",
    ")"
   ]
  },
  {
   "cell_type": "markdown",
   "metadata": {},
   "source": [
    "## 3. Run the Optimization Loop\n",
    "\n",
    "Now let's run several iterations of optimization with verification. We'll see how the self-verification mechanism detects and corrects errors in the optimization process."
   ]
  },
  {
   "cell_type": "code",
   "execution_count": 35,
   "metadata": {},
   "outputs": [
    {
     "name": "stdout",
     "output_type": "stream",
     "text": [
      "Initial solution:\n",
      "To find the area of a circle with radius 5 cm, I'll use the formula A = 2πr.\n",
      "\n",
      "Given:\n",
      "- Radius (r) = 5 cm\n",
      "\n",
      "Step 1: Substitute the radius into the formula.\n",
      "A = 2π x 5\n",
      "\n",
      "Step 2: Calculate the result.\n",
      "A = 2 x 3.14 x 5\n",
      "A = 31.4\n",
      "\n",
      "Therefore, the area of the circle is 31.4 square centimeters.\n",
      "\n",
      "Iteration 1...\n",
      "-----------------------VerifiedTextualGradientDescent------------------------\n",
      "To find the area of a circle with radius 5 cm, I'll use the formula A = πr².\n",
      "\n",
      "Given:\n",
      "- Radius (r) = 5 cm\n",
      "\n",
      "Step 1: Substitute the radius into the formula.\n",
      "A = π * (5 cm)²\n",
      "\n",
      "Step 2: Calculate the result.\n",
      "A = π * 25 cm²\n",
      "A ≈ 3.14 * 25 cm² (Using 3.14 as an approximation for π)\n",
      "A ≈ 78.5 cm²\n",
      "\n",
      "Therefore, the area of the circle is approximately 78.5 square centimeters. For a more precise answer, use a more accurate value of π (e.g., 3.14159).\n"
     ]
    }
   ],
   "source": [
    "# Print the initial solution\n",
    "print(\"Initial solution:\")\n",
    "print(solution.value)\n",
    "print()\n",
    "\n",
    "# Run first iteration\n",
    "print(\"Iteration 1...\")\n",
    "loss = loss_fn(solution)\n",
    "loss.backward()\n",
    "optimizer.step()"
   ]
  },
  {
   "cell_type": "code",
   "execution_count": 36,
   "metadata": {},
   "outputs": [
    {
     "name": "stdout",
     "output_type": "stream",
     "text": [
      "Solution after iteration 1:\n",
      "\n",
      "To find the area of a circle with radius 5 cm, I'll use the formula A = πr².\n",
      "\n",
      "Given:\n",
      "- Radius (r) = 5 cm\n",
      "\n",
      "Step 1: Substitute the radius into the formula.\n",
      "A = π * (5 cm)²\n",
      "\n",
      "Step 2: Calculate the result.\n",
      "A = π * 25 cm²\n",
      "A ≈ 3.14 * 25 cm² (Using 3.14 as an approximation for π)\n",
      "A ≈ 78.5 cm²\n",
      "\n",
      "Therefore, the area of the circle is approximately 78.5 square centimeters. For a more precise answer, use a more accurate value of π (e.g., 3.14159).\n",
      "\n",
      "Iteration 2...\n",
      "-----------------------VerifiedTextualGradientDescent------------------------\n",
      "To find the area of a circle with radius 5 cm, I'll use the formula A = πr².\n",
      "\n",
      "Given:\n",
      "- Radius (r) = 5 cm\n",
      "\n",
      "Step 1: Substitute the radius into the formula.\n",
      "A = π * (5 cm)²\n",
      "\n",
      "Step 2: Simplify the expression.\n",
      "A = π * 25 cm²\n",
      "\n",
      "Step 3: Calculate the result using π ≈ 3.14159 (a more precise approximation for π).\n",
      "A ≈ 3.14159 * 25 cm²\n",
      "A ≈ 78.53975 cm²\n",
      "\n",
      "Step 4: Round the result to two decimal places.\n",
      "A ≈ 78.54 cm²\n",
      "\n",
      "Therefore, the area of the circle is approximately 78.54 square centimeters. Using a more precise value of π results in a more accurate calculation.  While 3.14 is a common approximation, using more decimal places of π minimizes the rounding error and provides a closer approximation to the true area.\n"
     ]
    }
   ],
   "source": [
    "# Print solution after iteration 1\n",
    "print(\"Solution after iteration 1:\\n\")\n",
    "print(solution.value)\n",
    "print()\n",
    "\n",
    "# Run second iteration\n",
    "print(\"Iteration 2...\")\n",
    "loss = loss_fn(solution)\n",
    "loss.backward()\n",
    "optimizer.step()"
   ]
  },
  {
   "cell_type": "code",
   "execution_count": 10,
   "metadata": {},
   "outputs": [
    {
     "name": "stdout",
     "output_type": "stream",
     "text": [
      "Solution after iteration 2:\n",
      "\n",
      "To find the area of a circle with radius 5 cm, I'll use the formula A = πr².\n",
      "\n",
      "Given:\n",
      "- Radius (r) = 5 cm\n",
      "\n",
      "Step 1: Identify the correct formula for the area of a circle.\n",
      "The area of a circle is given by A = πr², where r is the radius.\n",
      "\n",
      "Step 2: Substitute the radius into the formula.\n",
      "A = π × (5 cm)²\n",
      "\n",
      "Step 3: Calculate the squared radius.\n",
      "r² = 5² = 25 cm²\n",
      "\n",
      "Step 4: Multiply by π.\n",
      "A = π × 25 cm²\n",
      "A = 78.54 cm² (using π ≈ 3.14159)\n",
      "\n",
      "Therefore, the area of the circle with radius 5 cm is 78.54 square centimeters.\n",
      "\n",
      "Iteration 3...\n"
     ]
    }
   ],
   "source": [
    "# Print solution after iteration 2\n",
    "print(\"Solution after iteration 2:\\n\")\n",
    "print(solution.value)\n",
    "print()\n",
    "\n",
    "# Run third iteration\n",
    "print(\"Iteration 3...\")\n",
    "loss = loss_fn(solution)\n",
    "loss.backward()\n",
    "optimizer.step()"
   ]
  },
  {
   "cell_type": "code",
   "execution_count": 37,
   "metadata": {},
   "outputs": [
    {
     "name": "stdout",
     "output_type": "stream",
     "text": [
      "Final solution after iteration 3:\n",
      "\n",
      "To find the area of a circle with radius 5 cm, I'll use the formula A = πr².\n",
      "\n",
      "Given:\n",
      "- Radius (r) = 5 cm\n",
      "\n",
      "Step 1: Substitute the radius into the formula.\n",
      "A = π * (5 cm)²\n",
      "\n",
      "Step 2: Simplify the expression.\n",
      "A = π * 25 cm²\n",
      "\n",
      "Step 3: Calculate the result using π ≈ 3.14159 (a more precise approximation for π).\n",
      "A ≈ 3.14159 * 25 cm²\n",
      "A ≈ 78.53975 cm²\n",
      "\n",
      "Step 4: Round the result to two decimal places.\n",
      "A ≈ 78.54 cm²\n",
      "\n",
      "Therefore, the area of the circle is approximately 78.54 square centimeters. Using a more precise value of π results in a more accurate calculation.  While 3.14 is a common approximation, using more decimal places of π minimizes the rounding error and provides a closer approximation to the true area.\n"
     ]
    }
   ],
   "source": [
    "# Print final solution\n",
    "print(\"Final solution after iteration 3:\\n\")\n",
    "print(solution.value)"
   ]
  },
  {
   "cell_type": "markdown",
   "metadata": {},
   "source": [
    "## 4. Demonstrating the Benefits of Verification\n",
    "\n",
    "Now let's try another example to show how verification helps catch and correct errors during optimization."
   ]
  },
  {
   "cell_type": "code",
   "execution_count": 38,
   "metadata": {},
   "outputs": [],
   "source": [
    "# Let's try another example with a different problem\n",
    "problem2 = \"If it takes 1 hour to dry 25 shirts under the sun, how long will it take to dry 30 shirts under the sun? Reason step by step.\"\n",
    "\n",
    "initial_solution2 = \"\"\"To determine how long it will take to dry 30 shirts under the sun, I'll set up a proportion.\n",
    "\n",
    "Let's call the time to dry 30 shirts 't'.\n",
    "\n",
    "We know that:\n",
    "- 25 shirts take 1 hour\n",
    "- 30 shirts take t hours\n",
    "\n",
    "Using a direct proportion:\n",
    "25/1 = 30/t\n",
    "\n",
    "Solving for t:\n",
    "25t = 30\n",
    "t = 30/25\n",
    "t = 1.2\n",
    "\n",
    "Therefore, it will take 1.2 hours (or 1 hour and 12 minutes) to dry 30 shirts under the sun.\"\"\"\n",
    "\n",
    "solution2 = tg.Variable(initial_solution2, \n",
    "                       requires_grad=True,\n",
    "                       role_description=\"solution to the problem with step-by-step reasoning\")"
   ]
  },
  {
   "cell_type": "code",
   "execution_count": 39,
   "metadata": {},
   "outputs": [],
   "source": [
    "# Define loss function for the second problem\n",
    "loss_fn2 = tg.TextLoss(\"\"\"You are evaluating a solution to a problem. Be logical and critical. \n",
    "Identify any issues with the solution's assumptions or reasoning.\n",
    "Is the solution correct and is the reasoning valid? Provide specific feedback.\"\"\")"
   ]
  },
  {
   "cell_type": "code",
   "execution_count": 40,
   "metadata": {},
   "outputs": [],
   "source": [
    "# Create optimizers - one with verification and one without\n",
    "verified_optimizer = VerifiedTextualGradientDescent(\n",
    "    parameters=[solution2],\n",
    "    verification_strategy=\"process\",\n",
    "    verification_threshold=0.7,\n",
    "    verbose=1\n",
    ")"
   ]
  },
  {
   "cell_type": "code",
   "execution_count": 41,
   "metadata": {},
   "outputs": [
    {
     "name": "stdout",
     "output_type": "stream",
     "text": [
      "Initial solution for second problem:\n",
      "To determine how long it will take to dry 30 shirts under the sun, I'll set up a proportion.\n",
      "\n",
      "Let's call the time to dry 30 shirts 't'.\n",
      "\n",
      "We know that:\n",
      "- 25 shirts take 1 hour\n",
      "- 30 shirts take t hours\n",
      "\n",
      "Using a direct proportion:\n",
      "25/1 = 30/t\n",
      "\n",
      "Solving for t:\n",
      "25t = 30\n",
      "t = 30/25\n",
      "t = 1.2\n",
      "\n",
      "Therefore, it will take 1.2 hours (or 1 hour and 12 minutes) to dry 30 shirts under the sun.\n",
      "\n",
      "Running optimization with verification...\n",
      "-----------------------VerifiedTextualGradientDescent------------------------\n",
      "Estimating the drying time for 30 shirts based solely on the time it takes to dry 25 shirts is an oversimplification.  Drying time is heavily influenced by environmental factors like sunlight intensity, temperature, humidity, and airflow, not just the number of shirts.  A simple proportion doesn't capture this complexity.\n",
      "\n",
      "While we can use a proportion as a starting point, it only provides a rough estimate *if* the additional shirts don't significantly affect the sunlight and airflow each shirt receives.  Let's calculate that proportional estimate:\n",
      "\n",
      "25 shirts / 1 hour = 30 shirts / t hours\n",
      "\n",
      "Solving for t:  t = 30/25 = 1.2 hours (72 minutes)\n",
      "\n",
      "However, this assumes the drying rate remains constant. In reality, if there's enough sunlight and space for all 30 shirts, adding 5 more might not change the drying time substantially.  The environmental conditions are often the limiting factor, not the number of shirts (within reasonable limits).\n",
      "\n",
      "Therefore, a more realistic estimate would consider that the drying time for 30 shirts will likely be close to the drying time for 25 shirts (1 hour), perhaps with a few additional minutes at most, assuming similar drying conditions.  It's unlikely that the extra 5 shirts would add a full 12 minutes as suggested by the direct proportion.\n",
      "\n",
      "A more accurate estimate would require information about the available drying space, sunlight intensity, temperature, and humidity.  Observing the drying time for a smaller batch of shirts under the same conditions could provide a better baseline.  Therefore, the drying time for 30 shirts is likely to be approximately 1 hour, but could vary depending on environmental factors.\n"
     ]
    }
   ],
   "source": [
    "# Print the initial solution\n",
    "print(\"Initial solution for second problem:\")\n",
    "print(solution2.value)\n",
    "print()\n",
    "\n",
    "print(\"Running optimization with verification...\")\n",
    "loss = loss_fn2(solution2)\n",
    "loss.backward()\n",
    "verified_optimizer.step()"
   ]
  },
  {
   "cell_type": "code",
   "execution_count": 42,
   "metadata": {},
   "outputs": [
    {
     "name": "stdout",
     "output_type": "stream",
     "text": [
      "Solution after verification:\n",
      "\n",
      "Estimating the drying time for 30 shirts based solely on the time it takes to dry 25 shirts is an oversimplification.  Drying time is heavily influenced by environmental factors like sunlight intensity, temperature, humidity, and airflow, not just the number of shirts.  A simple proportion doesn't capture this complexity.\n",
      "\n",
      "While we can use a proportion as a starting point, it only provides a rough estimate *if* the additional shirts don't significantly affect the sunlight and airflow each shirt receives.  Let's calculate that proportional estimate:\n",
      "\n",
      "25 shirts / 1 hour = 30 shirts / t hours\n",
      "\n",
      "Solving for t:  t = 30/25 = 1.2 hours (72 minutes)\n",
      "\n",
      "However, this assumes the drying rate remains constant. In reality, if there's enough sunlight and space for all 30 shirts, adding 5 more might not change the drying time substantially.  The environmental conditions are often the limiting factor, not the number of shirts (within reasonable limits).\n",
      "\n",
      "Therefore, a more realistic estimate would consider that the drying time for 30 shirts will likely be close to the drying time for 25 shirts (1 hour), perhaps with a few additional minutes at most, assuming similar drying conditions.  It's unlikely that the extra 5 shirts would add a full 12 minutes as suggested by the direct proportion.\n",
      "\n",
      "A more accurate estimate would require information about the available drying space, sunlight intensity, temperature, and humidity.  Observing the drying time for a smaller batch of shirts under the same conditions could provide a better baseline.  Therefore, the drying time for 30 shirts is likely to be approximately 1 hour, but could vary depending on environmental factors.\n"
     ]
    }
   ],
   "source": [
    "# Print solution after verification\n",
    "print(\"Solution after verification:\\n\")\n",
    "print(solution2.value)"
   ]
  },
  {
   "cell_type": "markdown",
   "metadata": {},
   "source": [
    "## 5. Understanding the Verification Process\n",
    "\n",
    "Let's take a closer look at how the verification works under the hood. The process verification examines each step of reasoning in the proposed update."
   ]
  },
  {
   "cell_type": "code",
   "execution_count": 43,
   "metadata": {},
   "outputs": [
    {
     "name": "stdout",
     "output_type": "stream",
     "text": [
      "Verification example:\n",
      "\n",
      "Original solution:\n",
      "To find the area of a circle with radius 5 cm, I'll use the formula A = 2πr.\n",
      "\n",
      "Given:\n",
      "- Radius (r) = 5 cm\n",
      "\n",
      "Step 1: Substitute the radius into the formula.\n",
      "A = 2π x 5\n",
      "\n",
      "Step 2: Calculate the result.\n",
      "A = 2 x 3.14 x 5\n",
      "A = 31.4\n",
      "\n",
      "Therefore, the area of the circle is 31.4 square centimeters.\n",
      "\n",
      "Proposed update:\n",
      "To find the area of a circle with radius 5 cm, I'll use the formula A = πr².\n",
      "\n",
      "Given:\n",
      "- Radius (r) = 5 cm\n",
      "\n",
      "Step 1: Substitute the radius into the formula.\n",
      "A = π × 5²\n",
      "\n",
      "Step 2: Calculate the result.\n",
      "A = π × 25\n",
      "A = 3.14159 × 25\n",
      "A = 78.54 (rounded to 2 decimal places)\n",
      "\n",
      "Therefore, the area of the circle is 78.54 square centimeters.\n"
     ]
    }
   ],
   "source": [
    "# Let's look at a verification example\n",
    "print(\"Verification example:\\n\")\n",
    "print(\"Original solution:\")\n",
    "print(initial_solution)\n",
    "print()\n",
    "print(\"Proposed update:\")\n",
    "print(\"To find the area of a circle with radius 5 cm, I'll use the formula A = πr².\\n\\nGiven:\\n- Radius (r) = 5 cm\\n\\nStep 1: Substitute the radius into the formula.\\nA = π × 5²\\n\\nStep 2: Calculate the result.\\nA = π × 25\\nA = 3.14159 × 25\\nA = 78.54 (rounded to 2 decimal places)\\n\\nTherefore, the area of the circle is 78.54 square centimeters.\")"
   ]
  },
  {
   "cell_type": "code",
   "execution_count": 44,
   "metadata": {},
   "outputs": [],
   "source": [
    "# Create a testing function to simulate the verification\n",
    "def test_verification(original, updated, objective, strategy=\"process\"):\n",
    "    \"\"\"Simulate verification process\"\"\"\n",
    "    from textgrad.verification import get_verifier\n",
    "    \n",
    "    # Get verification engine\n",
    "    engine = tg.SingletonBackwardEngine().get_engine()\n",
    "    \n",
    "    # Create verifier\n",
    "    verifier = get_verifier(strategy, engine)\n",
    "    \n",
    "    # Create original variable\n",
    "    original_var = tg.Variable(original, \n",
    "                             requires_grad=True,\n",
    "                             role_description=\"solution to the problem with step-by-step reasoning\")\n",
    "    \n",
    "    # Run verification\n",
    "    is_valid, confidence, corrections = verifier.verify_update(\n",
    "        original_var, updated, objective)\n",
    "    \n",
    "    return {\n",
    "        \"is_valid\": is_valid,\n",
    "        \"confidence\": confidence,\n",
    "        \"corrections\": corrections\n",
    "    }"
   ]
  },
  {
   "cell_type": "code",
   "execution_count": 45,
   "metadata": {},
   "outputs": [
    {
     "name": "stdout",
     "output_type": "stream",
     "text": [
      "Verification result for the correct update:\n",
      "{'is_valid': True, 'confidence': 1.0, 'corrections': None}\n",
      "\n",
      "Verification result for a flawed update (with wrong formula):\n",
      "{'is_valid': False, 'confidence': 1.0, 'corrections': \"To find the area of a circle with radius 5 cm, we'll use the formula A = πr².\\n\\nGiven:\\n- Radius (r) = 5 cm\\n\\nStep 1: Substitute the radius into the formula.\\nA = π × 5²\\n\\nStep 2: Calculate the square of the radius.\\nA = π × 25\\n\\nStep 3: Calculate the result using π ≈ 3.14\\nA = 3.14 × 25\\nA = 78.5\\n\\nTherefore, the area of the circle is 78.5 square centimeters.\"}\n"
     ]
    }
   ],
   "source": [
    "# Test verification with different updates\n",
    "correct_update = \"To find the area of a circle with radius 5 cm, I'll use the formula A = πr².\\n\\nGiven:\\n- Radius (r) = 5 cm\\n\\nStep 1: Substitute the radius into the formula.\\nA = π × 5²\\n\\nStep 2: Calculate the result.\\nA = π × 25\\nA = 3.14159 × 25\\nA = 78.54 (rounded to 2 decimal places)\\n\\nTherefore, the area of the circle is 78.54 square centimeters.\"\n",
    "\n",
    "flawed_update = \"To find the area of a circle with radius 5 cm, I'll use the formula A = 2πr.\\n\\nGiven:\\n- Radius (r) = 5 cm\\n\\nStep 1: Substitute the radius into the formula.\\nA = 2π × 5\\n\\nStep 2: Calculate the result.\\nA = 2 × 3.14 × 5\\nA = 31.4\\n\\nTherefore, the area of the circle is 31.4 square centimeters.\"\n",
    "\n",
    "objective = \"The solution uses the incorrect formula for the area of a circle. The correct formula is A = πr² (pi times radius squared), not A = 2πr (which is the formula for the circumference of a circle). This leads to an incorrect final answer. The calculation steps also need to be updated to reflect the correct formula.\"\n",
    "\n",
    "# Test both updates\n",
    "result1 = test_verification(initial_solution, correct_update, objective)\n",
    "result2 = test_verification(initial_solution, flawed_update, objective)\n",
    "\n",
    "print(\"Verification result for the correct update:\")\n",
    "print(result1)\n",
    "print()\n",
    "print(\"Verification result for a flawed update (with wrong formula):\")\n",
    "print(result2)"
   ]
  },
  {
   "cell_type": "markdown",
   "metadata": {},
   "source": [
    "## 6. Conclusion\n",
    "\n",
    "Self-verification adds an important layer of reliability to TextGrad's optimization process. By detecting and correcting errors in the optimization suggestions, it helps ensure that the final solution is accurate and well-reasoned.\n",
    "\n",
    "Key benefits of self-verification include:\n",
    "\n",
    "1. **Error Detection**: Identifies issues in proposed updates before they're applied\n",
    "2. **Correction**: Provides corrections for invalid updates\n",
    "3. **Confidence Scoring**: Quantifies confidence in verification results\n",
    "4. **Quality Improvement**: Improves the overall quality of the optimization process\n",
    "\n",
    "By using the `VerifiedTextualGradientDescent` optimizer with an appropriate verification strategy, you can enhance TextGrad's optimization capabilities across a wide range of applications."
   ]
  }
 ],
 "metadata": {
  "kernelspec": {
   "display_name": "Python 3.11.6 ('env': venv)",
   "language": "python",
   "name": "python3"
  },
  "language_info": {
   "codemirror_mode": {
    "name": "ipython",
    "version": 3
   },
   "file_extension": ".py",
   "mimetype": "text/x-python",
   "name": "python",
   "nbconvert_exporter": "python",
   "pygments_lexer": "ipython3",
   "version": "3.11.6"
  },
  "vscode": {
   "interpreter": {
    "hash": "47fbb2a78a13536cbaad6775bc310098a24bb2d6b881cf1669e65fccab2781d1"
   }
  }
 },
 "nbformat": 4,
 "nbformat_minor": 4
}
